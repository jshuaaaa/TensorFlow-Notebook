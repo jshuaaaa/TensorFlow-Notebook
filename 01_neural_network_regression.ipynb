{
  "cells": [
    {
      "cell_type": "markdown",
      "metadata": {
        "id": "view-in-github",
        "colab_type": "text"
      },
      "source": [
        "<a href=\"https://colab.research.google.com/github/jshuaaaa/TensorFlow-Notebook/blob/main/01_neural_network_regression.ipynb\" target=\"_parent\"><img src=\"https://colab.research.google.com/assets/colab-badge.svg\" alt=\"Open In Colab\"/></a>"
      ]
    },
    {
      "cell_type": "markdown",
      "metadata": {
        "id": "QuG_uVr7pG9H"
      },
      "source": [
        "# Introduction to Regression with Neural Networks in TensorFlow\n",
        "\n",
        "There are many definitions for a regresiion problem but in our case, were going to simplify it: predicting a numerical variable based on some other combination of variables, even shorter... predicting a number."
      ]
    },
    {
      "cell_type": "code",
      "execution_count": 1,
      "metadata": {
        "colab": {
          "base_uri": "https://localhost:8080/"
        },
        "id": "Mqw4Ife_tTbU",
        "outputId": "df7c8c29-c8db-400b-d065-c50c9d4575b9"
      },
      "outputs": [
        {
          "output_type": "stream",
          "name": "stdout",
          "text": [
            "2.9.2\n"
          ]
        }
      ],
      "source": [
        "import tensorflow as tf\n",
        "print(tf.__version__)"
      ]
    },
    {
      "cell_type": "markdown",
      "metadata": {
        "id": "jvnVlX4QtgXG"
      },
      "source": [
        "\n",
        "## Creating a data to view and fit"
      ]
    },
    {
      "cell_type": "code",
      "execution_count": 2,
      "metadata": {
        "colab": {
          "base_uri": "https://localhost:8080/",
          "height": 286
        },
        "id": "oXRmpCjDtogi",
        "outputId": "572c89d0-0d23-4fde-9564-bb762e4e4a39"
      },
      "outputs": [
        {
          "output_type": "execute_result",
          "data": {
            "text/plain": [
              "<matplotlib.collections.PathCollection at 0x7fd99f1c0cd0>"
            ]
          },
          "metadata": {},
          "execution_count": 2
        },
        {
          "output_type": "display_data",
          "data": {
            "text/plain": [
              "<Figure size 432x288 with 1 Axes>"
            ],
            "image/png": "[encoded data removed]"
          },
          "metadata": {
            "needs_background": "light"
          }
        }
      ],
      "source": [
        "import numpy as np\n",
        "import matplotlib.pyplot as plt\n",
        "\n",
        "#Create features\n",
        "X = np.array([-7.0,-4.0,-1.0,2.0,5.0,8.0,11.0,14.0])\n",
        "#Create labels\n",
        "Y = np.array([3.0,6.0,9.0,12.0,15.0,18.0,21.0,24.0])\n",
        "#Visualize it\n",
        "plt.scatter(X,Y)"
      ]
    },
    {
      "cell_type": "code",
      "execution_count": 3,
      "metadata": {
        "colab": {
          "base_uri": "https://localhost:8080/"
        },
        "id": "Dh4TjaNpuIz6",
        "outputId": "3ba647db-a3da-4d6d-9bdf-a7497a4a093e"
      },
      "outputs": [
        {
          "output_type": "execute_result",
          "data": {
            "text/plain": [
              "array([ True,  True,  True,  True,  True,  True,  True,  True])"
            ]
          },
          "metadata": {},
          "execution_count": 3
        }
      ],
      "source": [
        "Y == X +10\n"
      ]
    },
    {
      "cell_type": "markdown",
      "metadata": {
        "id": "8O0nwgTAuZBj"
      },
      "source": [
        "## Input and output shapes "
      ]
    },
    {
      "cell_type": "code",
      "execution_count": 4,
      "metadata": {
        "colab": {
          "base_uri": "https://localhost:8080/"
        },
        "id": "iYnSq6eUud5j",
        "outputId": "50473c44-59ab-4f1b-bdf1-0d440d53e2da"
      },
      "outputs": [
        {
          "output_type": "execute_result",
          "data": {
            "text/plain": [
              "(<tf.Tensor: shape=(3,), dtype=string, numpy=array([b'bedroom', b'garage', b'bathroom'], dtype=object)>,\n",
              " <tf.Tensor: shape=(1,), dtype=int32, numpy=array([939700], dtype=int32)>)"
            ]
          },
          "metadata": {},
          "execution_count": 4
        }
      ],
      "source": [
        "# Create a demo tensor for our housing price prediction problem\n",
        "house_info = tf.constant([\"bedroom\", \"garage\", \"bathroom\"])\n",
        "house_price = tf.constant([939700])\n",
        "house_info, house_price"
      ]
    },
    {
      "cell_type": "code",
      "execution_count": 5,
      "metadata": {
        "colab": {
          "base_uri": "https://localhost:8080/"
        },
        "id": "HaprQcSGvklD",
        "outputId": "5197059d-f820-4964-e986-1e6738a94e2f"
      },
      "outputs": [
        {
          "output_type": "execute_result",
          "data": {
            "text/plain": [
              "((), ())"
            ]
          },
          "metadata": {},
          "execution_count": 5
        }
      ],
      "source": [
        "input_shape = X[0].shape\n",
        "output_shape = Y[0].shape\n",
        "input_shape, output_shape"
      ]
    },
    {
      "cell_type": "code",
      "execution_count": 6,
      "metadata": {
        "colab": {
          "base_uri": "https://localhost:8080/"
        },
        "id": "uWnWLlR3vuWz",
        "outputId": "8297ae97-ad63-4a27-83b6-227ea45e7fc5"
      },
      "outputs": [
        {
          "output_type": "execute_result",
          "data": {
            "text/plain": [
              "0"
            ]
          },
          "metadata": {},
          "execution_count": 6
        }
      ],
      "source": [
        "X[0].ndim"
      ]
    },
    {
      "cell_type": "code",
      "execution_count": 7,
      "metadata": {
        "colab": {
          "base_uri": "https://localhost:8080/"
        },
        "id": "RZealunBvwPr",
        "outputId": "c29d74c7-c774-4d21-b038-41fcabf654c5"
      },
      "outputs": [
        {
          "output_type": "execute_result",
          "data": {
            "text/plain": [
              "(-7.0, 3.0)"
            ]
          },
          "metadata": {},
          "execution_count": 7
        }
      ],
      "source": [
        "X[0], Y[0]\n"
      ]
    },
    {
      "cell_type": "code",
      "execution_count": 8,
      "metadata": {
        "colab": {
          "base_uri": "https://localhost:8080/"
        },
        "id": "HRkjJrO1wEvL",
        "outputId": "0e22543e-41a3-406a-88b0-0906e62816f7"
      },
      "outputs": [
        {
          "output_type": "execute_result",
          "data": {
            "text/plain": [
              "(<tf.Tensor: shape=(8,), dtype=float32, numpy=array([-7., -4., -1.,  2.,  5.,  8., 11., 14.], dtype=float32)>,\n",
              " <tf.Tensor: shape=(8,), dtype=float32, numpy=array([ 3.,  6.,  9., 12., 15., 18., 21., 24.], dtype=float32)>)"
            ]
          },
          "metadata": {},
          "execution_count": 8
        }
      ],
      "source": [
        "# Turn arrays into tensors\n",
        "X = tf.cast(tf.constant(X), dtype=tf.float32)\n",
        "y = tf.cast(tf.constant(Y), dtype=tf.float32)\n",
        "X, y"
      ]
    },
    {
      "cell_type": "code",
      "execution_count": 9,
      "metadata": {
        "colab": {
          "base_uri": "https://localhost:8080/"
        },
        "id": "jkHSigtfwMUE",
        "outputId": "aaed2470-e581-48a4-d308-4c73825e4a6b"
      },
      "outputs": [
        {
          "output_type": "execute_result",
          "data": {
            "text/plain": [
              "(TensorShape([]), TensorShape([]))"
            ]
          },
          "metadata": {},
          "execution_count": 9
        }
      ],
      "source": [
        "input_shape = X[0].shape\n",
        "output_shape = y[0].shape\n",
        "input_shape, output_shape"
      ]
    },
    {
      "cell_type": "code",
      "execution_count": 10,
      "metadata": {
        "colab": {
          "base_uri": "https://localhost:8080/",
          "height": 286
        },
        "id": "T8_U0_XMwWwr",
        "outputId": "aff26a75-ec88-4569-b63c-a19be9d91a4f"
      },
      "outputs": [
        {
          "output_type": "execute_result",
          "data": {
            "text/plain": [
              "<matplotlib.collections.PathCollection at 0x7fd99ed2c550>"
            ]
          },
          "metadata": {},
          "execution_count": 10
        },
        {
          "output_type": "display_data",
          "data": {
            "text/plain": [
              "<Figure size 432x288 with 1 Axes>"
            ],
            "image/png": "[encoded data removed]"
          },
          "metadata": {
            "needs_background": "light"
          }
        }
      ],
      "source": [
        "plt.scatter(X, y)"
      ]
    },
    {
      "cell_type": "markdown",
      "metadata": {
        "id": "hCyPrXSowa8J"
      },
      "source": [
        "## Steps in modeling with TensorFlow\n",
        "\n",
        "1. Creating a model - define the input and output layers, as well as hidden layers\n",
        "2. Compile a model - define the loss function (in other words the function which tells ouyr model how wrong it is) and the optimzer (tells our model how to improve) and evalutation metrics (what we use to interpret the performance of the model)\n",
        "3. Fitting a model - letting the model try to find patters between X and y"
      ]
    },
    {
      "cell_type": "code",
      "execution_count": 11,
      "metadata": {
        "colab": {
          "base_uri": "https://localhost:8080/"
        },
        "id": "Qi6NR2shwe2y",
        "outputId": "e9e8e690-047e-4595-cd96-2884a7598db7"
      },
      "outputs": [
        {
          "output_type": "stream",
          "name": "stdout",
          "text": [
            "Epoch 1/5\n",
            "1/1 [==============================] - 1s 847ms/step - loss: 11.5048 - mae: 11.5048\n",
            "Epoch 2/5\n",
            "1/1 [==============================] - 0s 19ms/step - loss: 11.3723 - mae: 11.3723\n",
            "Epoch 3/5\n",
            "1/1 [==============================] - 0s 60ms/step - loss: 11.2398 - mae: 11.2398\n",
            "Epoch 4/5\n",
            "1/1 [==============================] - 0s 17ms/step - loss: 11.1073 - mae: 11.1073\n",
            "Epoch 5/5\n",
            "1/1 [==============================] - 0s 21ms/step - loss: 10.9748 - mae: 10.9748\n"
          ]
        },
        {
          "output_type": "execute_result",
          "data": {
            "text/plain": [
              "<keras.callbacks.History at 0x7fd99a64f1c0>"
            ]
          },
          "metadata": {},
          "execution_count": 11
        }
      ],
      "source": [
        "# Set random seed\n",
        "tf.random.set_seed(42)\n",
        "\n",
        "# 1. Create a model using Sequential API\n",
        "model = tf.keras.Sequential([\n",
        "    tf.keras.layers.Dense(1)\n",
        "])\n",
        "#2. Compile the model\n",
        "model.compile(loss=tf.keras.losses.mae,\n",
        "              optimizer = tf.keras.optimizers.SGD(), # sgd is short for stochastic gradient descent\n",
        "              metrics=[\"mae\"])\n",
        "\n",
        "# 3. Fit the model\n",
        "model.fit(tf.expand_dims(X, axis=-1),y,epochs=5)"
      ]
    },
    {
      "cell_type": "code",
      "execution_count": 12,
      "metadata": {
        "colab": {
          "base_uri": "https://localhost:8080/"
        },
        "id": "ez373yv102GU",
        "outputId": "5bb4d984-6732-4902-c533-b9769a58a4b8"
      },
      "outputs": [
        {
          "output_type": "execute_result",
          "data": {
            "text/plain": [
              "(<tf.Tensor: shape=(8,), dtype=float32, numpy=array([-7., -4., -1.,  2.,  5.,  8., 11., 14.], dtype=float32)>,\n",
              " <tf.Tensor: shape=(8,), dtype=float32, numpy=array([ 3.,  6.,  9., 12., 15., 18., 21., 24.], dtype=float32)>)"
            ]
          },
          "metadata": {},
          "execution_count": 12
        }
      ],
      "source": [
        "# Check out X and y\n",
        "X, y"
      ]
    },
    {
      "cell_type": "code",
      "execution_count": 13,
      "metadata": {
        "colab": {
          "base_uri": "https://localhost:8080/"
        },
        "id": "hssE4iwD069l",
        "outputId": "c780a864-c1c6-4ba9-be95-bc984cd8e4a7"
      },
      "outputs": [
        {
          "output_type": "stream",
          "name": "stdout",
          "text": [
            "1/1 [==============================] - 0s 231ms/step\n"
          ]
        },
        {
          "output_type": "execute_result",
          "data": {
            "text/plain": [
              "array([[12.716021]], dtype=float32)"
            ]
          },
          "metadata": {},
          "execution_count": 13
        }
      ],
      "source": [
        "# Try and make a prediction using our model\n",
        "y_pred = model.predict([17.0])\n",
        "y_pred"
      ]
    },
    {
      "cell_type": "markdown",
      "metadata": {
        "id": "X2pL6GmGenj7"
      },
      "source": [
        "## Improving our model\n",
        "\n",
        "We can improve our mode, by altering the steps we took to create a model.\n",
        "\n",
        "1. **Creating a model** - we might add more layers, increase number of hidden units, change the activation function of each layer.\n",
        "2. **Compiling** - here we might change the optimization function or perheraps the learning rate of the optimization function\n",
        "3. **Fitting a model** - fit a model for more epochs or on more data"
      ]
    },
    {
      "cell_type": "code",
      "execution_count": 14,
      "metadata": {
        "colab": {
          "base_uri": "https://localhost:8080/"
        },
        "id": "JA-SmITXfK17",
        "outputId": "f279e5db-0c69-48e1-9781-baa5b6685fd9"
      },
      "outputs": [
        {
          "output_type": "stream",
          "name": "stdout",
          "text": [
            "Epoch 1/100\n"
          ]
        },
        {
          "output_type": "stream",
          "name": "stderr",
          "text": [
            "/usr/local/lib/python3.8/dist-packages/keras/optimizers/optimizer_v2/adam.py:110: UserWarning: The `lr` argument is deprecated, use `learning_rate` instead.\n",
            "  super(Adam, self).__init__(name, **kwargs)\n"
          ]
        },
        {
          "output_type": "stream",
          "name": "stdout",
          "text": [
            "1/1 [==============================] - 1s 1s/step - loss: 13.0472 - mae: 13.0472\n",
            "Epoch 2/100\n",
            "1/1 [==============================] - 0s 13ms/step - loss: 12.0617 - mae: 12.0617\n",
            "Epoch 3/100\n",
            "1/1 [==============================] - 0s 8ms/step - loss: 11.0660 - mae: 11.0660\n",
            "Epoch 4/100\n",
            "1/1 [==============================] - 0s 11ms/step - loss: 10.0558 - mae: 10.0558\n",
            "Epoch 5/100\n",
            "1/1 [==============================] - 0s 18ms/step - loss: 9.0256 - mae: 9.0256\n",
            "Epoch 6/100\n",
            "1/1 [==============================] - 0s 25ms/step - loss: 7.9690 - mae: 7.9690\n",
            "Epoch 7/100\n",
            "1/1 [==============================] - 0s 11ms/step - loss: 6.8801 - mae: 6.8801\n",
            "Epoch 8/100\n",
            "1/1 [==============================] - 0s 14ms/step - loss: 6.9894 - mae: 6.9894\n",
            "Epoch 9/100\n",
            "1/1 [==============================] - 0s 9ms/step - loss: 7.4367 - mae: 7.4367\n",
            "Epoch 10/100\n",
            "1/1 [==============================] - 0s 10ms/step - loss: 7.7722 - mae: 7.7722\n",
            "Epoch 11/100\n",
            "1/1 [==============================] - 0s 58ms/step - loss: 7.7479 - mae: 7.7479\n",
            "Epoch 12/100\n",
            "1/1 [==============================] - 0s 22ms/step - loss: 7.4702 - mae: 7.4702\n",
            "Epoch 13/100\n",
            "1/1 [==============================] - 0s 24ms/step - loss: 7.0160 - mae: 7.0160\n",
            "Epoch 14/100\n",
            "1/1 [==============================] - 0s 12ms/step - loss: 6.6851 - mae: 6.6851\n",
            "Epoch 15/100\n",
            "1/1 [==============================] - 0s 12ms/step - loss: 6.3299 - mae: 6.3299\n",
            "Epoch 16/100\n",
            "1/1 [==============================] - 0s 12ms/step - loss: 6.0519 - mae: 6.0519\n",
            "Epoch 17/100\n",
            "1/1 [==============================] - 0s 18ms/step - loss: 5.9863 - mae: 5.9863\n",
            "Epoch 18/100\n",
            "1/1 [==============================] - 0s 15ms/step - loss: 6.1244 - mae: 6.1244\n",
            "Epoch 19/100\n",
            "1/1 [==============================] - 0s 46ms/step - loss: 6.1821 - mae: 6.1821\n",
            "Epoch 20/100\n",
            "1/1 [==============================] - 0s 9ms/step - loss: 6.0999 - mae: 6.0999\n",
            "Epoch 21/100\n",
            "1/1 [==============================] - 0s 13ms/step - loss: 5.8952 - mae: 5.8952\n",
            "Epoch 22/100\n",
            "1/1 [==============================] - 0s 9ms/step - loss: 5.5795 - mae: 5.5795\n",
            "Epoch 23/100\n",
            "1/1 [==============================] - 0s 11ms/step - loss: 5.3184 - mae: 5.3184\n",
            "Epoch 24/100\n",
            "1/1 [==============================] - 0s 8ms/step - loss: 5.1621 - mae: 5.1621\n",
            "Epoch 25/100\n",
            "1/1 [==============================] - 0s 7ms/step - loss: 5.1737 - mae: 5.1737\n",
            "Epoch 26/100\n",
            "1/1 [==============================] - 0s 9ms/step - loss: 5.1578 - mae: 5.1578\n",
            "Epoch 27/100\n",
            "1/1 [==============================] - 0s 18ms/step - loss: 5.0795 - mae: 5.0795\n",
            "Epoch 28/100\n",
            "1/1 [==============================] - 0s 12ms/step - loss: 4.9433 - mae: 4.9433\n",
            "Epoch 29/100\n",
            "1/1 [==============================] - 0s 14ms/step - loss: 4.7532 - mae: 4.7532\n",
            "Epoch 30/100\n",
            "1/1 [==============================] - 0s 13ms/step - loss: 4.5131 - mae: 4.5131\n",
            "Epoch 31/100\n",
            "1/1 [==============================] - 0s 11ms/step - loss: 4.2267 - mae: 4.2267\n",
            "Epoch 32/100\n",
            "1/1 [==============================] - 0s 13ms/step - loss: 3.9727 - mae: 3.9727\n",
            "Epoch 33/100\n",
            "1/1 [==============================] - 0s 12ms/step - loss: 3.8185 - mae: 3.8185\n",
            "Epoch 34/100\n",
            "1/1 [==============================] - 0s 15ms/step - loss: 3.7920 - mae: 3.7920\n",
            "Epoch 35/100\n",
            "1/1 [==============================] - 0s 13ms/step - loss: 3.6265 - mae: 3.6265\n",
            "Epoch 36/100\n",
            "1/1 [==============================] - 0s 14ms/step - loss: 3.2911 - mae: 3.2911\n",
            "Epoch 37/100\n",
            "1/1 [==============================] - 0s 10ms/step - loss: 2.9582 - mae: 2.9582\n",
            "Epoch 38/100\n",
            "1/1 [==============================] - 0s 14ms/step - loss: 2.8094 - mae: 2.8094\n",
            "Epoch 39/100\n",
            "1/1 [==============================] - 0s 18ms/step - loss: 2.6612 - mae: 2.6612\n",
            "Epoch 40/100\n",
            "1/1 [==============================] - 0s 15ms/step - loss: 2.4516 - mae: 2.4516\n",
            "Epoch 41/100\n",
            "1/1 [==============================] - 0s 13ms/step - loss: 2.0798 - mae: 2.0798\n",
            "Epoch 42/100\n",
            "1/1 [==============================] - 0s 12ms/step - loss: 1.6572 - mae: 1.6572\n",
            "Epoch 43/100\n",
            "1/1 [==============================] - 0s 14ms/step - loss: 1.4900 - mae: 1.4900\n",
            "Epoch 44/100\n",
            "1/1 [==============================] - 0s 10ms/step - loss: 1.3036 - mae: 1.3036\n",
            "Epoch 45/100\n",
            "1/1 [==============================] - 0s 17ms/step - loss: 0.8954 - mae: 0.8954\n",
            "Epoch 46/100\n",
            "1/1 [==============================] - 0s 14ms/step - loss: 0.3534 - mae: 0.3534\n",
            "Epoch 47/100\n",
            "1/1 [==============================] - 0s 16ms/step - loss: 0.3002 - mae: 0.3002\n",
            "Epoch 48/100\n",
            "1/1 [==============================] - 0s 11ms/step - loss: 0.3602 - mae: 0.3602\n",
            "Epoch 49/100\n",
            "1/1 [==============================] - 0s 17ms/step - loss: 0.7636 - mae: 0.7636\n",
            "Epoch 50/100\n",
            "1/1 [==============================] - 0s 12ms/step - loss: 0.8679 - mae: 0.8679\n",
            "Epoch 51/100\n",
            "1/1 [==============================] - 0s 11ms/step - loss: 0.9510 - mae: 0.9510\n",
            "Epoch 52/100\n",
            "1/1 [==============================] - 0s 14ms/step - loss: 1.0214 - mae: 1.0214\n",
            "Epoch 53/100\n",
            "1/1 [==============================] - 0s 14ms/step - loss: 0.9460 - mae: 0.9460\n",
            "Epoch 54/100\n",
            "1/1 [==============================] - 0s 11ms/step - loss: 0.9140 - mae: 0.9140\n",
            "Epoch 55/100\n",
            "1/1 [==============================] - 0s 15ms/step - loss: 0.7729 - mae: 0.7729\n",
            "Epoch 56/100\n",
            "1/1 [==============================] - 0s 13ms/step - loss: 0.7010 - mae: 0.7010\n",
            "Epoch 57/100\n",
            "1/1 [==============================] - 0s 17ms/step - loss: 0.4807 - mae: 0.4807\n",
            "Epoch 58/100\n",
            "1/1 [==============================] - 0s 12ms/step - loss: 0.4122 - mae: 0.4122\n",
            "Epoch 59/100\n",
            "1/1 [==============================] - 0s 12ms/step - loss: 0.2277 - mae: 0.2277\n",
            "Epoch 60/100\n",
            "1/1 [==============================] - 0s 6ms/step - loss: 0.3317 - mae: 0.3317\n",
            "Epoch 61/100\n",
            "1/1 [==============================] - 0s 6ms/step - loss: 0.4660 - mae: 0.4660\n",
            "Epoch 62/100\n",
            "1/1 [==============================] - 0s 7ms/step - loss: 0.4226 - mae: 0.4226\n",
            "Epoch 63/100\n",
            "1/1 [==============================] - 0s 7ms/step - loss: 0.6199 - mae: 0.6199\n",
            "Epoch 64/100\n",
            "1/1 [==============================] - 0s 14ms/step - loss: 0.6029 - mae: 0.6029\n",
            "Epoch 65/100\n",
            "1/1 [==============================] - 0s 6ms/step - loss: 0.4581 - mae: 0.4581\n",
            "Epoch 66/100\n",
            "1/1 [==============================] - 0s 31ms/step - loss: 0.4560 - mae: 0.4560\n",
            "Epoch 67/100\n",
            "1/1 [==============================] - 0s 54ms/step - loss: 0.2971 - mae: 0.2971\n",
            "Epoch 68/100\n",
            "1/1 [==============================] - 0s 26ms/step - loss: 0.2877 - mae: 0.2877\n",
            "Epoch 69/100\n",
            "1/1 [==============================] - 0s 8ms/step - loss: 0.1804 - mae: 0.1804\n",
            "Epoch 70/100\n",
            "1/1 [==============================] - 0s 19ms/step - loss: 0.2768 - mae: 0.2768\n",
            "Epoch 71/100\n",
            "1/1 [==============================] - 0s 12ms/step - loss: 0.4280 - mae: 0.4280\n",
            "Epoch 72/100\n",
            "1/1 [==============================] - 0s 17ms/step - loss: 0.3508 - mae: 0.3508\n",
            "Epoch 73/100\n",
            "1/1 [==============================] - 0s 19ms/step - loss: 0.3656 - mae: 0.3656\n",
            "Epoch 74/100\n",
            "1/1 [==============================] - 0s 16ms/step - loss: 0.3540 - mae: 0.3540\n",
            "Epoch 75/100\n",
            "1/1 [==============================] - 0s 31ms/step - loss: 0.1712 - mae: 0.1712\n",
            "Epoch 76/100\n",
            "1/1 [==============================] - 0s 32ms/step - loss: 0.1071 - mae: 0.1071\n",
            "Epoch 77/100\n",
            "1/1 [==============================] - 0s 26ms/step - loss: 0.1957 - mae: 0.1957\n",
            "Epoch 78/100\n",
            "1/1 [==============================] - 0s 28ms/step - loss: 0.2257 - mae: 0.2257\n",
            "Epoch 79/100\n",
            "1/1 [==============================] - 0s 19ms/step - loss: 0.2565 - mae: 0.2565\n",
            "Epoch 80/100\n",
            "1/1 [==============================] - 0s 12ms/step - loss: 0.2705 - mae: 0.2705\n",
            "Epoch 81/100\n",
            "1/1 [==============================] - 0s 16ms/step - loss: 0.2085 - mae: 0.2085\n",
            "Epoch 82/100\n",
            "1/1 [==============================] - 0s 20ms/step - loss: 0.1658 - mae: 0.1658\n",
            "Epoch 83/100\n",
            "1/1 [==============================] - 0s 71ms/step - loss: 0.0631 - mae: 0.0631\n",
            "Epoch 84/100\n",
            "1/1 [==============================] - 0s 48ms/step - loss: 0.1291 - mae: 0.1291\n",
            "Epoch 85/100\n",
            "1/1 [==============================] - 0s 22ms/step - loss: 0.1520 - mae: 0.1520\n",
            "Epoch 86/100\n",
            "1/1 [==============================] - 0s 27ms/step - loss: 0.1479 - mae: 0.1479\n",
            "Epoch 87/100\n",
            "1/1 [==============================] - 0s 29ms/step - loss: 0.0900 - mae: 0.0900\n",
            "Epoch 88/100\n",
            "1/1 [==============================] - 0s 26ms/step - loss: 0.0816 - mae: 0.0816\n",
            "Epoch 89/100\n",
            "1/1 [==============================] - 0s 34ms/step - loss: 0.1891 - mae: 0.1891\n",
            "Epoch 90/100\n",
            "1/1 [==============================] - 0s 24ms/step - loss: 0.1441 - mae: 0.1441\n",
            "Epoch 91/100\n",
            "1/1 [==============================] - 0s 15ms/step - loss: 0.2938 - mae: 0.2938\n",
            "Epoch 92/100\n",
            "1/1 [==============================] - 0s 20ms/step - loss: 0.3154 - mae: 0.3154\n",
            "Epoch 93/100\n",
            "1/1 [==============================] - 0s 16ms/step - loss: 0.0878 - mae: 0.0878\n",
            "Epoch 94/100\n",
            "1/1 [==============================] - 0s 14ms/step - loss: 0.3803 - mae: 0.3803\n",
            "Epoch 95/100\n",
            "1/1 [==============================] - 0s 17ms/step - loss: 0.4431 - mae: 0.4431\n",
            "Epoch 96/100\n",
            "1/1 [==============================] - 0s 17ms/step - loss: 0.2754 - mae: 0.2754\n",
            "Epoch 97/100\n",
            "1/1 [==============================] - 0s 46ms/step - loss: 0.4026 - mae: 0.4026\n",
            "Epoch 98/100\n",
            "1/1 [==============================] - 0s 23ms/step - loss: 0.5117 - mae: 0.5117\n",
            "Epoch 99/100\n",
            "1/1 [==============================] - 0s 13ms/step - loss: 0.3331 - mae: 0.3331\n",
            "Epoch 100/100\n",
            "1/1 [==============================] - 0s 89ms/step - loss: 0.2050 - mae: 0.2050\n"
          ]
        },
        {
          "output_type": "execute_result",
          "data": {
            "text/plain": [
              "<keras.callbacks.History at 0x7fd99a5f7d90>"
            ]
          },
          "metadata": {},
          "execution_count": 14
        }
      ],
      "source": [
        "tf.random.set_seed(42)\n",
        "\n",
        "model = tf.keras.Sequential([\n",
        "    tf.keras.layers.Dense(100, activation=None),\n",
        "    tf.keras.layers.Dense(1)\n",
        "])\n",
        "\n",
        "model.compile(loss=tf.keras.losses.mae,\n",
        "              optimizer=tf.keras.optimizers.Adam(lr=0.01),\n",
        "              metrics=['mae'])\n",
        "\n",
        "model.fit(tf.expand_dims(X, axis=-1),y,epochs=100)"
      ]
    },
    {
      "cell_type": "code",
      "execution_count": 15,
      "metadata": {
        "colab": {
          "base_uri": "https://localhost:8080/"
        },
        "id": "iBPWIbY7gFcr",
        "outputId": "2b44878c-0dde-45dd-fd85-ecde72a2949f"
      },
      "outputs": [
        {
          "output_type": "stream",
          "name": "stdout",
          "text": [
            "1/1 [==============================] - 0s 292ms/step\n"
          ]
        },
        {
          "output_type": "execute_result",
          "data": {
            "text/plain": [
              "array([[27.953405]], dtype=float32)"
            ]
          },
          "metadata": {},
          "execution_count": 15
        }
      ],
      "source": [
        "y_pred = model.predict([17.0])\n",
        "y_pred"
      ]
    },
    {
      "cell_type": "markdown",
      "metadata": {
        "id": "gGXoIZVmhzss"
      },
      "source": [
        "## Evaluating a model\n",
        "\n",
        "IN practice, a typical workflow youll go through when buildiing a neural network is:\n",
        "\n",
        "```\n",
        "Build a model -> fit it -> test it -> repeat\n",
        "```"
      ]
    },
    {
      "cell_type": "markdown",
      "metadata": {
        "id": "sM4wTPjGrUa9"
      },
      "source": [
        "Always remember to visualize your models"
      ]
    },
    {
      "cell_type": "code",
      "execution_count": 16,
      "metadata": {
        "colab": {
          "base_uri": "https://localhost:8080/"
        },
        "id": "Jq9XX0CurocE",
        "outputId": "6368fe55-f32a-41ff-826e-77be95015bcf"
      },
      "outputs": [
        {
          "output_type": "execute_result",
          "data": {
            "text/plain": [
              "<tf.Tensor: shape=(50,), dtype=int32, numpy=\n",
              "array([-100,  -96,  -92,  -88,  -84,  -80,  -76,  -72,  -68,  -64,  -60,\n",
              "        -56,  -52,  -48,  -44,  -40,  -36,  -32,  -28,  -24,  -20,  -16,\n",
              "        -12,   -8,   -4,    0,    4,    8,   12,   16,   20,   24,   28,\n",
              "         32,   36,   40,   44,   48,   52,   56,   60,   64,   68,   72,\n",
              "         76,   80,   84,   88,   92,   96], dtype=int32)>"
            ]
          },
          "metadata": {},
          "execution_count": 16
        }
      ],
      "source": [
        "# Make a bigger dataset\n",
        "X = tf.range(-100,100,4)\n",
        "X"
      ]
    },
    {
      "cell_type": "code",
      "execution_count": 17,
      "metadata": {
        "colab": {
          "base_uri": "https://localhost:8080/"
        },
        "id": "AkDyUIcHsG39",
        "outputId": "a29539f8-831e-4099-8ecd-1ed97d17641f"
      },
      "outputs": [
        {
          "output_type": "execute_result",
          "data": {
            "text/plain": [
              "<tf.Tensor: shape=(50,), dtype=int32, numpy=\n",
              "array([-90, -86, -82, -78, -74, -70, -66, -62, -58, -54, -50, -46, -42,\n",
              "       -38, -34, -30, -26, -22, -18, -14, -10,  -6,  -2,   2,   6,  10,\n",
              "        14,  18,  22,  26,  30,  34,  38,  42,  46,  50,  54,  58,  62,\n",
              "        66,  70,  74,  78,  82,  86,  90,  94,  98, 102, 106], dtype=int32)>"
            ]
          },
          "metadata": {},
          "execution_count": 17
        }
      ],
      "source": [
        "# Make labels\n",
        "y = X + 10\n",
        "y"
      ]
    },
    {
      "cell_type": "code",
      "execution_count": 18,
      "metadata": {
        "colab": {
          "base_uri": "https://localhost:8080/",
          "height": 282
        },
        "id": "SSHMbgESsPuF",
        "outputId": "f23e010b-aa33-4765-9aee-2810cd891e74"
      },
      "outputs": [
        {
          "output_type": "execute_result",
          "data": {
            "text/plain": [
              "<matplotlib.collections.PathCollection at 0x7fd9997ced90>"
            ]
          },
          "metadata": {},
          "execution_count": 18
        },
        {
          "output_type": "display_data",
          "data": {
            "text/plain": [
              "<Figure size 432x288 with 1 Axes>"
            ],
            "image/png": "[encoded data removed]"
          },
          "metadata": {
            "needs_background": "light"
          }
        }
      ],
      "source": [
        "# Visualize the data\n",
        "plt.scatter(X,y)"
      ]
    },
    {
      "cell_type": "markdown",
      "metadata": {
        "id": "yvfFzFOIsbe2"
      },
      "source": [
        "### The 3 sets... \n",
        "\n",
        "* Training set - the model learns from this data\n",
        "typically 70-80% of the total data available\n",
        "* Validation set - the model gets tuned on this data, which is typically 10-15% of data available\n",
        "* Test set - the model gets evaluated on this data to test what it has learned, this set is typically 10-15% of the total data available."
      ]
    },
    {
      "cell_type": "code",
      "execution_count": 19,
      "metadata": {
        "colab": {
          "base_uri": "https://localhost:8080/"
        },
        "id": "7H7y56pStI8W",
        "outputId": "347e251c-9197-47e4-9100-84efc25f8795"
      },
      "outputs": [
        {
          "output_type": "execute_result",
          "data": {
            "text/plain": [
              "50"
            ]
          },
          "metadata": {},
          "execution_count": 19
        }
      ],
      "source": [
        "# Check the length of how many samples we have\n",
        "len(X)"
      ]
    },
    {
      "cell_type": "code",
      "execution_count": 20,
      "metadata": {
        "colab": {
          "base_uri": "https://localhost:8080/"
        },
        "id": "dJ3V7XNMtnWt",
        "outputId": "9acc31c9-e544-45d5-c6bf-c1376bb906dd"
      },
      "outputs": [
        {
          "output_type": "execute_result",
          "data": {
            "text/plain": [
              "(40, 10)"
            ]
          },
          "metadata": {},
          "execution_count": 20
        }
      ],
      "source": [
        "# Splitting data into two sets (training, test)\n",
        "X_train = X[:40] # first 40 \n",
        "X_test = X[40:] # last 10\n",
        "y_train = y[:40]\n",
        "y_test = y[40:]\n",
        "\n",
        "len(X_train), len(X_test)"
      ]
    },
    {
      "cell_type": "markdown",
      "metadata": {
        "id": "v1mawjxzuLom"
      },
      "source": [
        "### Visualizing the data\n",
        "\n",
        "Now we've got our data in two differents sets... lets visualize it\n"
      ]
    },
    {
      "cell_type": "code",
      "execution_count": 21,
      "metadata": {
        "colab": {
          "base_uri": "https://localhost:8080/",
          "height": 428
        },
        "id": "0u2ZhDFLugJ-",
        "outputId": "d1d65dc7-db3f-4d49-8b09-60baedbf71cd"
      },
      "outputs": [
        {
          "output_type": "display_data",
          "data": {
            "text/plain": [
              "<Figure size 720x504 with 1 Axes>"
            ],
            "image/png": "[encoded data removed]"
          },
          "metadata": {
            "needs_background": "light"
          }
        }
      ],
      "source": [
        "plt.figure(figsize=(10,7))\n",
        "# Plot training data in blue\n",
        "plt.scatter(X_train, y_train, c=\"b\", label=\"Training data\")\n",
        "# Plot test data in green\n",
        "plt.scatter(X_test, y_test, c=\"g\", label=\"Testing data\")\n",
        "# Show legend\n",
        "plt.legend();"
      ]
    },
    {
      "cell_type": "code",
      "execution_count": 22,
      "metadata": {
        "colab": {
          "base_uri": "https://localhost:8080/"
        },
        "id": "8ysyiaRiTHxu",
        "outputId": "b1597b3e-fa16-4767-f438-b89794f129b0"
      },
      "outputs": [
        {
          "output_type": "stream",
          "name": "stdout",
          "text": [
            "Epoch 1/100\n",
            "2/2 [==============================] - 1s 9ms/step - loss: 8.0818 - mae: 8.0818\n",
            "Epoch 2/100\n",
            "2/2 [==============================] - 0s 10ms/step - loss: 7.8201 - mae: 7.8201\n",
            "Epoch 3/100\n",
            "2/2 [==============================] - 0s 10ms/step - loss: 7.6374 - mae: 7.6374\n",
            "Epoch 4/100\n",
            "2/2 [==============================] - 0s 23ms/step - loss: 7.5606 - mae: 7.5606\n",
            "Epoch 5/100\n",
            "2/2 [==============================] - 0s 7ms/step - loss: 7.5687 - mae: 7.5687\n",
            "Epoch 6/100\n",
            "2/2 [==============================] - 0s 7ms/step - loss: 7.6442 - mae: 7.6442\n",
            "Epoch 7/100\n",
            "2/2 [==============================] - 0s 30ms/step - loss: 7.6452 - mae: 7.6452\n",
            "Epoch 8/100\n",
            "2/2 [==============================] - 0s 14ms/step - loss: 7.5693 - mae: 7.5693\n",
            "Epoch 9/100\n",
            "2/2 [==============================] - 0s 5ms/step - loss: 7.5230 - mae: 7.5230\n",
            "Epoch 10/100\n",
            "2/2 [==============================] - 0s 16ms/step - loss: 7.4863 - mae: 7.4863\n",
            "Epoch 11/100\n",
            "2/2 [==============================] - 0s 7ms/step - loss: 7.4653 - mae: 7.4653\n",
            "Epoch 12/100\n",
            "2/2 [==============================] - 0s 6ms/step - loss: 7.4486 - mae: 7.4486\n",
            "Epoch 13/100\n",
            "2/2 [==============================] - 0s 10ms/step - loss: 7.4374 - mae: 7.4374\n",
            "Epoch 14/100\n",
            "2/2 [==============================] - 0s 9ms/step - loss: 7.4215 - mae: 7.4215\n",
            "Epoch 15/100\n",
            "2/2 [==============================] - 0s 5ms/step - loss: 7.4068 - mae: 7.4068\n",
            "Epoch 16/100\n",
            "2/2 [==============================] - 0s 6ms/step - loss: 7.3981 - mae: 7.3981\n",
            "Epoch 17/100\n",
            "2/2 [==============================] - 0s 13ms/step - loss: 7.3846 - mae: 7.3846\n",
            "Epoch 18/100\n",
            "2/2 [==============================] - 0s 5ms/step - loss: 7.3677 - mae: 7.3677\n",
            "Epoch 19/100\n",
            "2/2 [==============================] - 0s 6ms/step - loss: 7.3480 - mae: 7.3480\n",
            "Epoch 20/100\n",
            "2/2 [==============================] - 0s 5ms/step - loss: 7.3322 - mae: 7.3322\n",
            "Epoch 21/100\n",
            "2/2 [==============================] - 0s 4ms/step - loss: 7.3174 - mae: 7.3174\n",
            "Epoch 22/100\n",
            "2/2 [==============================] - 0s 4ms/step - loss: 7.3027 - mae: 7.3027\n",
            "Epoch 23/100\n",
            "2/2 [==============================] - 0s 6ms/step - loss: 7.2992 - mae: 7.2992\n",
            "Epoch 24/100\n",
            "2/2 [==============================] - 0s 6ms/step - loss: 7.2747 - mae: 7.2747\n",
            "Epoch 25/100\n",
            "2/2 [==============================] - 0s 6ms/step - loss: 7.2555 - mae: 7.2555\n",
            "Epoch 26/100\n",
            "2/2 [==============================] - 0s 6ms/step - loss: 7.2403 - mae: 7.2403\n",
            "Epoch 27/100\n",
            "2/2 [==============================] - 0s 11ms/step - loss: 7.2284 - mae: 7.2284\n",
            "Epoch 28/100\n",
            "2/2 [==============================] - 0s 19ms/step - loss: 7.2096 - mae: 7.2096\n",
            "Epoch 29/100\n",
            "2/2 [==============================] - 0s 15ms/step - loss: 7.2023 - mae: 7.2023\n",
            "Epoch 30/100\n",
            "2/2 [==============================] - 0s 15ms/step - loss: 7.1889 - mae: 7.1889\n",
            "Epoch 31/100\n",
            "2/2 [==============================] - 0s 5ms/step - loss: 7.1771 - mae: 7.1771\n",
            "Epoch 32/100\n",
            "2/2 [==============================] - 0s 9ms/step - loss: 7.1564 - mae: 7.1564\n",
            "Epoch 33/100\n",
            "2/2 [==============================] - 0s 9ms/step - loss: 7.1441 - mae: 7.1441\n",
            "Epoch 34/100\n",
            "2/2 [==============================] - 0s 40ms/step - loss: 7.1307 - mae: 7.1307\n",
            "Epoch 35/100\n",
            "2/2 [==============================] - 0s 32ms/step - loss: 7.1216 - mae: 7.1216\n",
            "Epoch 36/100\n",
            "2/2 [==============================] - 0s 9ms/step - loss: 7.1041 - mae: 7.1041\n",
            "Epoch 37/100\n",
            "2/2 [==============================] - 0s 8ms/step - loss: 7.1087 - mae: 7.1087\n",
            "Epoch 38/100\n",
            "2/2 [==============================] - 0s 12ms/step - loss: 7.1328 - mae: 7.1328\n",
            "Epoch 39/100\n",
            "2/2 [==============================] - 0s 7ms/step - loss: 7.1345 - mae: 7.1345\n",
            "Epoch 40/100\n",
            "2/2 [==============================] - 0s 9ms/step - loss: 7.1181 - mae: 7.1181\n",
            "Epoch 41/100\n",
            "2/2 [==============================] - 0s 4ms/step - loss: 7.0834 - mae: 7.0834\n",
            "Epoch 42/100\n",
            "2/2 [==============================] - 0s 3ms/step - loss: 7.0372 - mae: 7.0372\n",
            "Epoch 43/100\n",
            "2/2 [==============================] - 0s 10ms/step - loss: 6.9969 - mae: 6.9969\n",
            "Epoch 44/100\n",
            "2/2 [==============================] - 0s 11ms/step - loss: 6.9957 - mae: 6.9957\n",
            "Epoch 45/100\n",
            "2/2 [==============================] - 0s 9ms/step - loss: 6.9759 - mae: 6.9759\n",
            "Epoch 46/100\n",
            "2/2 [==============================] - 0s 8ms/step - loss: 6.9539 - mae: 6.9539\n",
            "Epoch 47/100\n",
            "2/2 [==============================] - 0s 9ms/step - loss: 6.9297 - mae: 6.9297\n",
            "Epoch 48/100\n",
            "2/2 [==============================] - 0s 6ms/step - loss: 6.9207 - mae: 6.9207\n",
            "Epoch 49/100\n",
            "2/2 [==============================] - 0s 8ms/step - loss: 6.9234 - mae: 6.9234\n",
            "Epoch 50/100\n",
            "2/2 [==============================] - 0s 3ms/step - loss: 6.9292 - mae: 6.9292\n",
            "Epoch 51/100\n",
            "2/2 [==============================] - 0s 3ms/step - loss: 6.9352 - mae: 6.9352\n",
            "Epoch 52/100\n",
            "2/2 [==============================] - 0s 3ms/step - loss: 6.9158 - mae: 6.9158\n",
            "Epoch 53/100\n",
            "2/2 [==============================] - 0s 4ms/step - loss: 6.8697 - mae: 6.8697\n",
            "Epoch 54/100\n",
            "2/2 [==============================] - 0s 3ms/step - loss: 6.8387 - mae: 6.8387\n",
            "Epoch 55/100\n",
            "2/2 [==============================] - 0s 3ms/step - loss: 6.8181 - mae: 6.8181\n",
            "Epoch 56/100\n",
            "2/2 [==============================] - 0s 4ms/step - loss: 6.8016 - mae: 6.8016\n",
            "Epoch 57/100\n",
            "2/2 [==============================] - 0s 3ms/step - loss: 6.7776 - mae: 6.7776\n",
            "Epoch 58/100\n",
            "2/2 [==============================] - 0s 25ms/step - loss: 6.7920 - mae: 6.7920\n",
            "Epoch 59/100\n",
            "2/2 [==============================] - 0s 7ms/step - loss: 6.8049 - mae: 6.8049\n",
            "Epoch 60/100\n",
            "2/2 [==============================] - 0s 9ms/step - loss: 6.7960 - mae: 6.7960\n",
            "Epoch 61/100\n",
            "2/2 [==============================] - 0s 7ms/step - loss: 6.7548 - mae: 6.7548\n",
            "Epoch 62/100\n",
            "2/2 [==============================] - 0s 10ms/step - loss: 6.7210 - mae: 6.7210\n",
            "Epoch 63/100\n",
            "2/2 [==============================] - 0s 8ms/step - loss: 6.6864 - mae: 6.6864\n",
            "Epoch 64/100\n",
            "2/2 [==============================] - 0s 7ms/step - loss: 6.7144 - mae: 6.7144\n",
            "Epoch 65/100\n",
            "2/2 [==============================] - 0s 6ms/step - loss: 6.7172 - mae: 6.7172\n",
            "Epoch 66/100\n",
            "2/2 [==============================] - 0s 5ms/step - loss: 6.7081 - mae: 6.7081\n",
            "Epoch 67/100\n",
            "2/2 [==============================] - 0s 5ms/step - loss: 6.6776 - mae: 6.6776\n",
            "Epoch 68/100\n",
            "2/2 [==============================] - 0s 5ms/step - loss: 6.6421 - mae: 6.6421\n",
            "Epoch 69/100\n",
            "2/2 [==============================] - 0s 5ms/step - loss: 6.6080 - mae: 6.6080\n",
            "Epoch 70/100\n",
            "2/2 [==============================] - 0s 7ms/step - loss: 6.5886 - mae: 6.5886\n",
            "Epoch 71/100\n",
            "2/2 [==============================] - 0s 4ms/step - loss: 6.5865 - mae: 6.5865\n",
            "Epoch 72/100\n",
            "2/2 [==============================] - 0s 5ms/step - loss: 6.6049 - mae: 6.6049\n",
            "Epoch 73/100\n",
            "2/2 [==============================] - 0s 8ms/step - loss: 6.6267 - mae: 6.6267\n",
            "Epoch 74/100\n",
            "2/2 [==============================] - 0s 5ms/step - loss: 6.6212 - mae: 6.6212\n",
            "Epoch 75/100\n",
            "2/2 [==============================] - 0s 6ms/step - loss: 6.5824 - mae: 6.5824\n",
            "Epoch 76/100\n",
            "2/2 [==============================] - 0s 4ms/step - loss: 6.5192 - mae: 6.5192\n",
            "Epoch 77/100\n",
            "2/2 [==============================] - 0s 10ms/step - loss: 6.4743 - mae: 6.4743\n",
            "Epoch 78/100\n",
            "2/2 [==============================] - 0s 9ms/step - loss: 6.4809 - mae: 6.4809\n",
            "Epoch 79/100\n",
            "2/2 [==============================] - 0s 14ms/step - loss: 6.5239 - mae: 6.5239\n",
            "Epoch 80/100\n",
            "2/2 [==============================] - 0s 28ms/step - loss: 6.5190 - mae: 6.5190\n",
            "Epoch 81/100\n",
            "2/2 [==============================] - 0s 12ms/step - loss: 6.4929 - mae: 6.4929\n",
            "Epoch 82/100\n",
            "2/2 [==============================] - 0s 14ms/step - loss: 6.4473 - mae: 6.4473\n",
            "Epoch 83/100\n",
            "2/2 [==============================] - 0s 13ms/step - loss: 6.4188 - mae: 6.4188\n",
            "Epoch 84/100\n",
            "2/2 [==============================] - 0s 12ms/step - loss: 6.3752 - mae: 6.3752\n",
            "Epoch 85/100\n",
            "2/2 [==============================] - 0s 33ms/step - loss: 6.3828 - mae: 6.3828\n",
            "Epoch 86/100\n",
            "2/2 [==============================] - 0s 15ms/step - loss: 6.3634 - mae: 6.3634\n",
            "Epoch 87/100\n",
            "2/2 [==============================] - 0s 9ms/step - loss: 6.3563 - mae: 6.3563\n",
            "Epoch 88/100\n",
            "2/2 [==============================] - 0s 12ms/step - loss: 6.3460 - mae: 6.3460\n",
            "Epoch 89/100\n",
            "2/2 [==============================] - 0s 7ms/step - loss: 6.3556 - mae: 6.3556\n",
            "Epoch 90/100\n",
            "2/2 [==============================] - 0s 15ms/step - loss: 6.3358 - mae: 6.3358\n",
            "Epoch 91/100\n",
            "2/2 [==============================] - 0s 4ms/step - loss: 6.3013 - mae: 6.3013\n",
            "Epoch 92/100\n",
            "2/2 [==============================] - 0s 4ms/step - loss: 6.2531 - mae: 6.2531\n",
            "Epoch 93/100\n",
            "2/2 [==============================] - 0s 5ms/step - loss: 6.2511 - mae: 6.2511\n",
            "Epoch 94/100\n",
            "2/2 [==============================] - 0s 11ms/step - loss: 6.2520 - mae: 6.2520\n",
            "Epoch 95/100\n",
            "2/2 [==============================] - 0s 5ms/step - loss: 6.2416 - mae: 6.2416\n",
            "Epoch 96/100\n",
            "2/2 [==============================] - 0s 8ms/step - loss: 6.2237 - mae: 6.2237\n",
            "Epoch 97/100\n",
            "2/2 [==============================] - 0s 9ms/step - loss: 6.1957 - mae: 6.1957\n",
            "Epoch 98/100\n",
            "2/2 [==============================] - 0s 15ms/step - loss: 6.1670 - mae: 6.1670\n",
            "Epoch 99/100\n",
            "2/2 [==============================] - 0s 8ms/step - loss: 6.1614 - mae: 6.1614\n",
            "Epoch 100/100\n",
            "2/2 [==============================] - 0s 11ms/step - loss: 6.1572 - mae: 6.1572\n"
          ]
        },
        {
          "output_type": "execute_result",
          "data": {
            "text/plain": [
              "<keras.callbacks.History at 0x7fd999777f40>"
            ]
          },
          "metadata": {},
          "execution_count": 22
        }
      ],
      "source": [
        "# Build a neural network for our data\n",
        "\n",
        "model = tf.keras.Sequential([\n",
        "    tf.keras.layers.Dense(1)\n",
        "])\n",
        "\n",
        "model.compile(loss=tf.keras.losses.mae,\n",
        "              optimizer=tf.keras.optimizers.Adam(lr=0.01),\n",
        "              metrics=['mae'])\n",
        "\n",
        "model.fit(tf.expand_dims(X_train, axis=-1),y_train,epochs=100)"
      ]
    },
    {
      "cell_type": "markdown",
      "metadata": {
        "id": "N5H2MXzKTx7e"
      },
      "source": [
        "### Visualizing our model"
      ]
    },
    {
      "cell_type": "code",
      "execution_count": 23,
      "metadata": {
        "id": "RfG5wCJLT5HN"
      },
      "outputs": [],
      "source": [
        "# Create a model which builds automatically by defining the input_shape argument in the first layer\n",
        "model = tf.keras.Sequential([\n",
        "    tf.keras.layers.Dense(100, input_shape=[1], name=\"input_layer\"),\n",
        "    tf.keras.layers.Dense(1, name=\"output_layer\")\n",
        "], name=\"Test\")\n",
        "\n",
        "model.compile(loss=tf.keras.losses.mae,\n",
        "              optimizer=tf.keras.optimizers.SGD(),\n",
        "              metrics=[\"mae\"])\n",
        "\n"
      ]
    },
    {
      "cell_type": "code",
      "execution_count": 24,
      "metadata": {
        "colab": {
          "base_uri": "https://localhost:8080/"
        },
        "id": "fsRSdMP4U87H",
        "outputId": "d6ea7aaf-10bc-4727-c26c-702219b41a65"
      },
      "outputs": [
        {
          "output_type": "stream",
          "name": "stdout",
          "text": [
            "Model: \"Test\"\n",
            "_________________________________________________________________\n",
            " Layer (type)                Output Shape              Param #   \n",
            "=================================================================\n",
            " input_layer (Dense)         (None, 100)               200       \n",
            "                                                                 \n",
            " output_layer (Dense)        (None, 1)                 101       \n",
            "                                                                 \n",
            "=================================================================\n",
            "Total params: 301\n",
            "Trainable params: 301\n",
            "Non-trainable params: 0\n",
            "_________________________________________________________________\n"
          ]
        }
      ],
      "source": [
        "model.summary()"
      ]
    },
    {
      "cell_type": "markdown",
      "metadata": {
        "id": "3a9US8kyU-oA"
      },
      "source": [
        "* Total params - total number of params in the model\n",
        "* Trainable params = these are the parameters (patterns) that update as the model trains\n",
        "\n",
        "* Non-trainable params - these params arent updated during training (typical when bringing in already learned patterns from other models during transfer learning)\n",
        "\n",
        "**Resource:** For a more in-depth overview of trainable parms within a layer, check out MIT's Introduction deep learning video\n",
        "\n",
        "**Exercise:** Play around with the number of hidden units in the dense layer, and see how that effects the number of params"
      ]
    },
    {
      "cell_type": "code",
      "execution_count": 25,
      "metadata": {
        "colab": {
          "base_uri": "https://localhost:8080/"
        },
        "id": "yBKjHycoWqft",
        "outputId": "c6fc2f81-86c2-41ad-c27b-5b2d4251b7db"
      },
      "outputs": [
        {
          "output_type": "execute_result",
          "data": {
            "text/plain": [
              "<keras.callbacks.History at 0x7fd999760e20>"
            ]
          },
          "metadata": {},
          "execution_count": 25
        }
      ],
      "source": [
        "model.fit(tf.expand_dims(X_train, axis=-1),y_train,epochs=100, verbose=0)"
      ]
    },
    {
      "cell_type": "code",
      "execution_count": 26,
      "metadata": {
        "colab": {
          "base_uri": "https://localhost:8080/"
        },
        "id": "pLZ8TBjfXBNe",
        "outputId": "3ea638c7-ea94-4d1b-ef52-3e6dc79f5bd0"
      },
      "outputs": [
        {
          "output_type": "stream",
          "name": "stdout",
          "text": [
            "Model: \"Test\"\n",
            "_________________________________________________________________\n",
            " Layer (type)                Output Shape              Param #   \n",
            "=================================================================\n",
            " input_layer (Dense)         (None, 100)               200       \n",
            "                                                                 \n",
            " output_layer (Dense)        (None, 1)                 101       \n",
            "                                                                 \n",
            "=================================================================\n",
            "Total params: 301\n",
            "Trainable params: 301\n",
            "Non-trainable params: 0\n",
            "_________________________________________________________________\n"
          ]
        }
      ],
      "source": [
        "model.summary()"
      ]
    },
    {
      "cell_type": "code",
      "execution_count": 27,
      "metadata": {
        "colab": {
          "base_uri": "https://localhost:8080/",
          "height": 312
        },
        "id": "jPU19k9CXhnN",
        "outputId": "3f04bf7a-5ac5-4622-d060-73e075b5ce26"
      },
      "outputs": [
        {
          "output_type": "execute_result",
          "data": {
            "image/png": "[encoded data removed]",
            "text/plain": [
              "<IPython.core.display.Image object>"
            ]
          },
          "metadata": {},
          "execution_count": 27
        }
      ],
      "source": [
        "from tensorflow.keras.utils import plot_model\n",
        "\n",
        "plot_model(model=model, show_shapes=True)"
      ]
    },
    {
      "cell_type": "markdown",
      "metadata": {
        "id": "7rUJKklMYkCV"
      },
      "source": [
        "### Visualing our model's predicitions\n",
        "\n",
        "To visualize predicitions, its a good idea to plot them against the ground truth labels\n",
        "\n",
        "Often youll see this in the form of 'y_test' or 'y_true' versus 'y_pred'"
      ]
    },
    {
      "cell_type": "code",
      "execution_count": 28,
      "metadata": {
        "colab": {
          "base_uri": "https://localhost:8080/"
        },
        "id": "3vi42RuCYq5_",
        "outputId": "4a616f2d-d39d-4648-fc12-55aee91648f5"
      },
      "outputs": [
        {
          "output_type": "stream",
          "name": "stdout",
          "text": [
            "1/1 [==============================] - 0s 234ms/step\n"
          ]
        },
        {
          "output_type": "execute_result",
          "data": {
            "text/plain": [
              "array([[ 69.55228],\n",
              "       [ 74.0766 ],\n",
              "       [ 78.60094],\n",
              "       [ 83.12527],\n",
              "       [ 87.64959],\n",
              "       [ 92.17394],\n",
              "       [ 96.69828],\n",
              "       [101.22258],\n",
              "       [105.74694],\n",
              "       [110.27126]], dtype=float32)"
            ]
          },
          "metadata": {},
          "execution_count": 28
        }
      ],
      "source": [
        "y_pred = model.predict(X_test)\n",
        "y_pred"
      ]
    },
    {
      "cell_type": "code",
      "execution_count": 29,
      "metadata": {
        "colab": {
          "base_uri": "https://localhost:8080/"
        },
        "id": "aPTnK4OzZH3H",
        "outputId": "68be94e0-88b1-4130-ffd2-add5b7a0449f"
      },
      "outputs": [
        {
          "output_type": "execute_result",
          "data": {
            "text/plain": [
              "<tf.Tensor: shape=(10,), dtype=int32, numpy=array([ 70,  74,  78,  82,  86,  90,  94,  98, 102, 106], dtype=int32)>"
            ]
          },
          "metadata": {},
          "execution_count": 29
        }
      ],
      "source": [
        "y_test"
      ]
    },
    {
      "cell_type": "code",
      "execution_count": 30,
      "metadata": {
        "id": "_ZbXeWjdZM0P"
      },
      "outputs": [],
      "source": [
        "# Lets create a plotting function\n",
        "def plot_prediction(train_data=X_train,\n",
        "                       train_labels=y_train,\n",
        "                       test_data=X_test,\n",
        "                       test_labels=y_test,\n",
        "                       predictions=y_pred):\n",
        "  plt.figure(figsize=(10,7))\n",
        "  plt.scatter(train_data, train_labels, c=\"b\", label=\"Training data\")\n",
        "  plt.scatter(test_data, test_labels, c=\"g\", label=\"Testing data\")\n",
        "  plt.scatter(test_data, predictions, c=\"r\", label=\"Predictions\")\n",
        "  plt.legend()"
      ]
    },
    {
      "cell_type": "code",
      "execution_count": 31,
      "metadata": {
        "colab": {
          "base_uri": "https://localhost:8080/",
          "height": 428
        },
        "id": "6Z2Y1oICaOkA",
        "outputId": "0bcdadb0-f010-4993-c6ac-ebe07bb072b8"
      },
      "outputs": [
        {
          "output_type": "display_data",
          "data": {
            "text/plain": [
              "<Figure size 720x504 with 1 Axes>"
            ],
            "image/png": "[encoded data removed]"
          },
          "metadata": {
            "needs_background": "light"
          }
        }
      ],
      "source": [
        "plot_prediction()"
      ]
    },
    {
      "cell_type": "markdown",
      "metadata": {
        "id": "QK_D36dna77Y"
      },
      "source": [
        "### Evaluating our models predictions with regression evaluation metrics\n",
        "\n",
        "Depending on the problem youre working on, there will be different evaluation metrics to evaluate your models performance.\n",
        "\n",
        "Since this is a regression problem, two of the main metrics:\n",
        "\n",
        "* MAE - on average how wrong is the models predictions\n",
        "* MSE - mean square error, \"square the average errors\""
      ]
    },
    {
      "cell_type": "code",
      "execution_count": 32,
      "metadata": {
        "colab": {
          "base_uri": "https://localhost:8080/"
        },
        "id": "yvPcXMcIvdhH",
        "outputId": "68695981-44e4-407e-f821-79fae5efe581"
      },
      "outputs": [
        {
          "output_type": "stream",
          "name": "stdout",
          "text": [
            "1/1 [==============================] - 0s 224ms/step - loss: 2.0013 - mae: 2.0013\n"
          ]
        },
        {
          "output_type": "execute_result",
          "data": {
            "text/plain": [
              "[2.0013136863708496, 2.0013136863708496]"
            ]
          },
          "metadata": {},
          "execution_count": 32
        }
      ],
      "source": [
        "# Evaluate the model on the test\n",
        "model.evaluate(X_test, y_test)"
      ]
    },
    {
      "cell_type": "code",
      "execution_count": 33,
      "metadata": {
        "colab": {
          "base_uri": "https://localhost:8080/"
        },
        "id": "hvO5IVSTw0C9",
        "outputId": "bb4f660d-22cc-4753-af9b-2c04668c8627"
      },
      "outputs": [
        {
          "output_type": "execute_result",
          "data": {
            "text/plain": [
              "<tf.Tensor: shape=(10,), dtype=float32, numpy=\n",
              "array([18.447723 , 14.754041 , 12.159625 , 10.574946 , 10.       ,\n",
              "       10.434789 , 11.8793125, 14.333548 , 17.797552 , 22.271263 ],\n",
              "      dtype=float32)>"
            ]
          },
          "metadata": {},
          "execution_count": 33
        }
      ],
      "source": [
        "# Calculate the mean absolute error\n",
        "mae = tf.metrics.mean_absolute_error(y_true=y_test, y_pred=y_pred)\n",
        "mae"
      ]
    },
    {
      "cell_type": "code",
      "execution_count": 34,
      "metadata": {
        "colab": {
          "base_uri": "https://localhost:8080/"
        },
        "id": "QOTY_Mkzwsu1",
        "outputId": "4350069e-b58d-4aa9-ce94-f8788b2a7d69"
      },
      "outputs": [
        {
          "output_type": "execute_result",
          "data": {
            "text/plain": [
              "<tf.Tensor: shape=(10, 1), dtype=float32, numpy=\n",
              "array([[ 69.55228],\n",
              "       [ 74.0766 ],\n",
              "       [ 78.60094],\n",
              "       [ 83.12527],\n",
              "       [ 87.64959],\n",
              "       [ 92.17394],\n",
              "       [ 96.69828],\n",
              "       [101.22258],\n",
              "       [105.74694],\n",
              "       [110.27126]], dtype=float32)>"
            ]
          },
          "metadata": {},
          "execution_count": 34
        }
      ],
      "source": [
        "tf.constant(y_pred)"
      ]
    },
    {
      "cell_type": "code",
      "execution_count": 35,
      "metadata": {
        "colab": {
          "base_uri": "https://localhost:8080/"
        },
        "id": "qNKynsOYwxn-",
        "outputId": "6311d151-69c8-42dc-c18a-d8b3ed825a63"
      },
      "outputs": [
        {
          "output_type": "execute_result",
          "data": {
            "text/plain": [
              "<tf.Tensor: shape=(10,), dtype=int32, numpy=array([ 70,  74,  78,  82,  86,  90,  94,  98, 102, 106], dtype=int32)>"
            ]
          },
          "metadata": {},
          "execution_count": 35
        }
      ],
      "source": [
        "y_test"
      ]
    },
    {
      "cell_type": "code",
      "execution_count": 36,
      "metadata": {
        "colab": {
          "base_uri": "https://localhost:8080/"
        },
        "id": "vxAfqlr5yAY-",
        "outputId": "af4e0d1f-0543-44a1-fd36-21e7c4f84a62"
      },
      "outputs": [
        {
          "output_type": "execute_result",
          "data": {
            "text/plain": [
              "<tf.Tensor: shape=(), dtype=float32, numpy=2.0013123>"
            ]
          },
          "metadata": {},
          "execution_count": 36
        }
      ],
      "source": [
        "# Calculate the mean absolute error\n",
        "mae = tf.metrics.mean_absolute_error(y_true=y_test, y_pred=tf.squeeze(y_pred))\n",
        "mae"
      ]
    },
    {
      "cell_type": "code",
      "execution_count": 37,
      "metadata": {
        "colab": {
          "base_uri": "https://localhost:8080/"
        },
        "id": "d6ZVNSYCyS7j",
        "outputId": "3832bd70-bd52-480d-95eb-9f741cf543a4"
      },
      "outputs": [
        {
          "output_type": "execute_result",
          "data": {
            "text/plain": [
              "<tf.Tensor: shape=(), dtype=float32, numpy=5.9229836>"
            ]
          },
          "metadata": {},
          "execution_count": 37
        }
      ],
      "source": [
        "# Calculate the mean square error\n",
        "mse = tf.keras.losses.MSE(y_true=y_test, y_pred=tf.squeeze(y_pred))\n",
        "mse"
      ]
    },
    {
      "cell_type": "code",
      "execution_count": 38,
      "metadata": {
        "id": "-qZjX1pQzSvt"
      },
      "outputs": [],
      "source": [
        "def mae(y_test=y_test, y_pred=tf.squeeze(y_pred)):\n",
        "  return tf.metrics.mean_absolute_error(y_true=y_test, y_pred=tf.squeeze(y_pred))"
      ]
    },
    {
      "cell_type": "code",
      "execution_count": 39,
      "metadata": {
        "id": "shv_TKi1zgc9"
      },
      "outputs": [],
      "source": [
        "def mse(y_test=y_test, y_pred=tf.squeeze(y_pred)):\n",
        "  return tf.keras.losses.MSE(y_true=y_test, y_pred=tf.squeeze(y_pred))"
      ]
    },
    {
      "cell_type": "code",
      "execution_count": 40,
      "metadata": {
        "colab": {
          "base_uri": "https://localhost:8080/"
        },
        "id": "zMYSeFj1zmpl",
        "outputId": "abbbc26c-6ae3-4b8e-9715-57873bd8138d"
      },
      "outputs": [
        {
          "output_type": "execute_result",
          "data": {
            "text/plain": [
              "(<tf.Tensor: shape=(), dtype=float32, numpy=2.0013123>,\n",
              " <tf.Tensor: shape=(), dtype=float32, numpy=5.9229836>)"
            ]
          },
          "metadata": {},
          "execution_count": 40
        }
      ],
      "source": [
        "mae(y_test=y_test,y_pred=tf.squeeze(y_pred)), mse(y_test=y_test,y_pred=tf.squeeze(y_pred))"
      ]
    },
    {
      "cell_type": "markdown",
      "metadata": {
        "id": "CkCc8EBSfTJB"
      },
      "source": [
        "### Running experiments to improve our model \n",
        "\n",
        "```\n",
        "Build -> fit it -> evaluate it -> tweak it -> repeat\n",
        "```\n",
        "\n",
        "1. Get more data - get more examples for your model to train on (more opportunities to learn patterns or relationships between features and lables).\n",
        "2. Make your model larger (using a more complex model) - this might come in the form of more layers or more hidden units in each layer.\n",
        "3. Train for longer - give your model more of a chance to find patterns in the data."
      ]
    },
    {
      "cell_type": "code",
      "execution_count": 41,
      "metadata": {
        "colab": {
          "base_uri": "https://localhost:8080/"
        },
        "id": "qjOdVNb7fb13",
        "outputId": "dc84ae00-cea4-4b0b-dead-a47cef05b757"
      },
      "outputs": [
        {
          "output_type": "stream",
          "name": "stdout",
          "text": [
            "Epoch 1/100\n",
            "2/2 [==============================] - 1s 14ms/step - loss: 15.9024 - mae: 15.9024\n",
            "Epoch 2/100\n",
            "2/2 [==============================] - 0s 24ms/step - loss: 11.2837 - mae: 11.2837\n",
            "Epoch 3/100\n",
            "2/2 [==============================] - 0s 7ms/step - loss: 11.1075 - mae: 11.1075\n",
            "Epoch 4/100\n",
            "2/2 [==============================] - 0s 20ms/step - loss: 9.2990 - mae: 9.2990\n",
            "Epoch 5/100\n",
            "2/2 [==============================] - 0s 11ms/step - loss: 10.1677 - mae: 10.1677\n",
            "Epoch 6/100\n",
            "2/2 [==============================] - 0s 10ms/step - loss: 9.4303 - mae: 9.4303\n",
            "Epoch 7/100\n",
            "2/2 [==============================] - 0s 4ms/step - loss: 8.5704 - mae: 8.5704\n",
            "Epoch 8/100\n",
            "2/2 [==============================] - 0s 22ms/step - loss: 9.0442 - mae: 9.0442\n",
            "Epoch 9/100\n",
            "2/2 [==============================] - 0s 12ms/step - loss: 18.7517 - mae: 18.7517\n",
            "Epoch 10/100\n",
            "2/2 [==============================] - 0s 9ms/step - loss: 10.1142 - mae: 10.1142\n",
            "Epoch 11/100\n",
            "2/2 [==============================] - 0s 8ms/step - loss: 8.3980 - mae: 8.3980\n",
            "Epoch 12/100\n",
            "2/2 [==============================] - 0s 5ms/step - loss: 10.6639 - mae: 10.6639\n",
            "Epoch 13/100\n",
            "2/2 [==============================] - 0s 16ms/step - loss: 9.7977 - mae: 9.7977\n",
            "Epoch 14/100\n",
            "2/2 [==============================] - 0s 14ms/step - loss: 16.0103 - mae: 16.0103\n",
            "Epoch 15/100\n",
            "2/2 [==============================] - 0s 10ms/step - loss: 11.4068 - mae: 11.4068\n",
            "Epoch 16/100\n",
            "2/2 [==============================] - 0s 5ms/step - loss: 8.5393 - mae: 8.5393\n",
            "Epoch 17/100\n",
            "2/2 [==============================] - 0s 6ms/step - loss: 13.6348 - mae: 13.6348\n",
            "Epoch 18/100\n",
            "2/2 [==============================] - 0s 4ms/step - loss: 11.4629 - mae: 11.4629\n",
            "Epoch 19/100\n",
            "2/2 [==============================] - 0s 13ms/step - loss: 17.9148 - mae: 17.9148\n",
            "Epoch 20/100\n",
            "2/2 [==============================] - 0s 6ms/step - loss: 15.0494 - mae: 15.0494\n",
            "Epoch 21/100\n",
            "2/2 [==============================] - 0s 12ms/step - loss: 11.0216 - mae: 11.0216\n",
            "Epoch 22/100\n",
            "2/2 [==============================] - 0s 7ms/step - loss: 8.1558 - mae: 8.1558\n",
            "Epoch 23/100\n",
            "2/2 [==============================] - 0s 26ms/step - loss: 9.5138 - mae: 9.5138\n",
            "Epoch 24/100\n",
            "2/2 [==============================] - 0s 6ms/step - loss: 7.6617 - mae: 7.6617\n",
            "Epoch 25/100\n",
            "2/2 [==============================] - 0s 12ms/step - loss: 13.1859 - mae: 13.1859\n",
            "Epoch 26/100\n",
            "2/2 [==============================] - 0s 9ms/step - loss: 16.4211 - mae: 16.4211\n",
            "Epoch 27/100\n",
            "2/2 [==============================] - 0s 24ms/step - loss: 13.1660 - mae: 13.1660\n",
            "Epoch 28/100\n",
            "2/2 [==============================] - 0s 17ms/step - loss: 14.2559 - mae: 14.2559\n",
            "Epoch 29/100\n",
            "2/2 [==============================] - 0s 50ms/step - loss: 10.0670 - mae: 10.0670\n",
            "Epoch 30/100\n",
            "2/2 [==============================] - 0s 21ms/step - loss: 16.3409 - mae: 16.3409\n",
            "Epoch 31/100\n",
            "2/2 [==============================] - 0s 7ms/step - loss: 23.6444 - mae: 23.6444\n",
            "Epoch 32/100\n",
            "2/2 [==============================] - 0s 28ms/step - loss: 7.6215 - mae: 7.6215\n",
            "Epoch 33/100\n",
            "2/2 [==============================] - 0s 19ms/step - loss: 9.3221 - mae: 9.3221\n",
            "Epoch 34/100\n",
            "2/2 [==============================] - 0s 9ms/step - loss: 13.7313 - mae: 13.7313\n",
            "Epoch 35/100\n",
            "2/2 [==============================] - 0s 6ms/step - loss: 11.1276 - mae: 11.1276\n",
            "Epoch 36/100\n",
            "2/2 [==============================] - 0s 7ms/step - loss: 13.3222 - mae: 13.3222\n",
            "Epoch 37/100\n",
            "2/2 [==============================] - 0s 7ms/step - loss: 9.4763 - mae: 9.4763\n",
            "Epoch 38/100\n",
            "2/2 [==============================] - 0s 10ms/step - loss: 10.1381 - mae: 10.1381\n",
            "Epoch 39/100\n",
            "2/2 [==============================] - 0s 5ms/step - loss: 10.1793 - mae: 10.1793\n",
            "Epoch 40/100\n",
            "2/2 [==============================] - 0s 14ms/step - loss: 10.9137 - mae: 10.9137\n",
            "Epoch 41/100\n",
            "2/2 [==============================] - 0s 9ms/step - loss: 7.9063 - mae: 7.9063\n",
            "Epoch 42/100\n",
            "2/2 [==============================] - 0s 21ms/step - loss: 10.0914 - mae: 10.0914\n",
            "Epoch 43/100\n",
            "2/2 [==============================] - 0s 10ms/step - loss: 8.7006 - mae: 8.7006\n",
            "Epoch 44/100\n",
            "2/2 [==============================] - 0s 4ms/step - loss: 12.2046 - mae: 12.2046\n",
            "Epoch 45/100\n",
            "2/2 [==============================] - 0s 19ms/step - loss: 13.7970 - mae: 13.7970\n",
            "Epoch 46/100\n",
            "2/2 [==============================] - 0s 13ms/step - loss: 8.4687 - mae: 8.4687\n",
            "Epoch 47/100\n",
            "2/2 [==============================] - 0s 8ms/step - loss: 9.1330 - mae: 9.1330\n",
            "Epoch 48/100\n",
            "2/2 [==============================] - 0s 10ms/step - loss: 10.6190 - mae: 10.6190\n",
            "Epoch 49/100\n",
            "2/2 [==============================] - 0s 68ms/step - loss: 7.7503 - mae: 7.7503\n",
            "Epoch 50/100\n",
            "2/2 [==============================] - 0s 19ms/step - loss: 9.5407 - mae: 9.5407\n",
            "Epoch 51/100\n",
            "2/2 [==============================] - 0s 26ms/step - loss: 9.1584 - mae: 9.1584\n",
            "Epoch 52/100\n",
            "2/2 [==============================] - 0s 19ms/step - loss: 16.3630 - mae: 16.3630\n",
            "Epoch 53/100\n",
            "2/2 [==============================] - 0s 6ms/step - loss: 14.1299 - mae: 14.1299\n",
            "Epoch 54/100\n",
            "2/2 [==============================] - 0s 11ms/step - loss: 21.1247 - mae: 21.1247\n",
            "Epoch 55/100\n",
            "2/2 [==============================] - 0s 8ms/step - loss: 16.3961 - mae: 16.3961\n",
            "Epoch 56/100\n",
            "2/2 [==============================] - 0s 9ms/step - loss: 9.9806 - mae: 9.9806\n",
            "Epoch 57/100\n",
            "2/2 [==============================] - 0s 4ms/step - loss: 9.9606 - mae: 9.9606\n",
            "Epoch 58/100\n",
            "2/2 [==============================] - 0s 9ms/step - loss: 9.2209 - mae: 9.2209\n",
            "Epoch 59/100\n",
            "2/2 [==============================] - 0s 6ms/step - loss: 8.4239 - mae: 8.4239\n",
            "Epoch 60/100\n",
            "2/2 [==============================] - 0s 17ms/step - loss: 9.4869 - mae: 9.4869\n",
            "Epoch 61/100\n",
            "2/2 [==============================] - 0s 18ms/step - loss: 11.4354 - mae: 11.4354\n",
            "Epoch 62/100\n",
            "2/2 [==============================] - 0s 15ms/step - loss: 11.6887 - mae: 11.6887\n",
            "Epoch 63/100\n",
            "2/2 [==============================] - 0s 11ms/step - loss: 7.0838 - mae: 7.0838\n",
            "Epoch 64/100\n",
            "2/2 [==============================] - 0s 12ms/step - loss: 16.9675 - mae: 16.9675\n",
            "Epoch 65/100\n",
            "2/2 [==============================] - 0s 12ms/step - loss: 12.4599 - mae: 12.4599\n",
            "Epoch 66/100\n",
            "2/2 [==============================] - 0s 8ms/step - loss: 13.0184 - mae: 13.0184\n",
            "Epoch 67/100\n",
            "2/2 [==============================] - 0s 7ms/step - loss: 8.0600 - mae: 8.0600\n",
            "Epoch 68/100\n",
            "2/2 [==============================] - 0s 13ms/step - loss: 10.1888 - mae: 10.1888\n",
            "Epoch 69/100\n",
            "2/2 [==============================] - 0s 15ms/step - loss: 12.3633 - mae: 12.3633\n",
            "Epoch 70/100\n",
            "2/2 [==============================] - 0s 27ms/step - loss: 9.0516 - mae: 9.0516\n",
            "Epoch 71/100\n",
            "2/2 [==============================] - 0s 9ms/step - loss: 10.0378 - mae: 10.0378\n",
            "Epoch 72/100\n",
            "2/2 [==============================] - 0s 26ms/step - loss: 10.0516 - mae: 10.0516\n",
            "Epoch 73/100\n",
            "2/2 [==============================] - 0s 28ms/step - loss: 12.6151 - mae: 12.6151\n",
            "Epoch 74/100\n",
            "2/2 [==============================] - 0s 23ms/step - loss: 10.3819 - mae: 10.3819\n",
            "Epoch 75/100\n",
            "2/2 [==============================] - 0s 15ms/step - loss: 9.7229 - mae: 9.7229\n",
            "Epoch 76/100\n",
            "2/2 [==============================] - 0s 12ms/step - loss: 11.2252 - mae: 11.2252\n",
            "Epoch 77/100\n",
            "2/2 [==============================] - 0s 5ms/step - loss: 8.3642 - mae: 8.3642\n",
            "Epoch 78/100\n",
            "2/2 [==============================] - 0s 12ms/step - loss: 9.1274 - mae: 9.1274\n",
            "Epoch 79/100\n",
            "2/2 [==============================] - 0s 12ms/step - loss: 19.5039 - mae: 19.5039\n",
            "Epoch 80/100\n",
            "2/2 [==============================] - 0s 12ms/step - loss: 14.8945 - mae: 14.8945\n",
            "Epoch 81/100\n",
            "2/2 [==============================] - 0s 30ms/step - loss: 9.0034 - mae: 9.0034\n",
            "Epoch 82/100\n",
            "2/2 [==============================] - 0s 15ms/step - loss: 13.0206 - mae: 13.0206\n",
            "Epoch 83/100\n",
            "2/2 [==============================] - 0s 37ms/step - loss: 7.9299 - mae: 7.9299\n",
            "Epoch 84/100\n",
            "2/2 [==============================] - 0s 9ms/step - loss: 7.6872 - mae: 7.6872\n",
            "Epoch 85/100\n",
            "2/2 [==============================] - 0s 18ms/step - loss: 10.0328 - mae: 10.0328\n",
            "Epoch 86/100\n",
            "2/2 [==============================] - 0s 38ms/step - loss: 9.2433 - mae: 9.2433\n",
            "Epoch 87/100\n",
            "2/2 [==============================] - 0s 17ms/step - loss: 12.0209 - mae: 12.0209\n",
            "Epoch 88/100\n",
            "2/2 [==============================] - 0s 21ms/step - loss: 10.6389 - mae: 10.6389\n",
            "Epoch 89/100\n",
            "2/2 [==============================] - 0s 9ms/step - loss: 7.2667 - mae: 7.2667\n",
            "Epoch 90/100\n",
            "2/2 [==============================] - 0s 13ms/step - loss: 12.7786 - mae: 12.7786\n",
            "Epoch 91/100\n",
            "2/2 [==============================] - 0s 8ms/step - loss: 7.3481 - mae: 7.3481\n",
            "Epoch 92/100\n",
            "2/2 [==============================] - 0s 14ms/step - loss: 7.7175 - mae: 7.7175\n",
            "Epoch 93/100\n",
            "2/2 [==============================] - 0s 5ms/step - loss: 7.1263 - mae: 7.1263\n",
            "Epoch 94/100\n",
            "2/2 [==============================] - 0s 10ms/step - loss: 12.6190 - mae: 12.6190\n",
            "Epoch 95/100\n",
            "2/2 [==============================] - 0s 15ms/step - loss: 10.0912 - mae: 10.0912\n",
            "Epoch 96/100\n",
            "2/2 [==============================] - 0s 23ms/step - loss: 9.3558 - mae: 9.3558\n",
            "Epoch 97/100\n",
            "2/2 [==============================] - 0s 11ms/step - loss: 12.6834 - mae: 12.6834\n",
            "Epoch 98/100\n",
            "2/2 [==============================] - 0s 16ms/step - loss: 8.6762 - mae: 8.6762\n",
            "Epoch 99/100\n",
            "2/2 [==============================] - 0s 8ms/step - loss: 9.4693 - mae: 9.4693\n",
            "Epoch 100/100\n",
            "2/2 [==============================] - 0s 7ms/step - loss: 8.7067 - mae: 8.7067\n"
          ]
        },
        {
          "output_type": "execute_result",
          "data": {
            "text/plain": [
              "<keras.callbacks.History at 0x7fd9a2220790>"
            ]
          },
          "metadata": {},
          "execution_count": 41
        }
      ],
      "source": [
        "# Set random seed\n",
        "tf.random.set_seed(42)\n",
        "\n",
        "# 1. create the model\n",
        "model_1 = tf.keras.Sequential([\n",
        "    tf.keras.layers.Dense(1)\n",
        "])\n",
        "\n",
        "# 2. Compile the model\n",
        "model_1.compile(loss=tf.keras.losses.mae,\n",
        "                optimizer=tf.keras.optimizers.SGD(),\n",
        "                metrics=[\"mae\"])\n",
        "# 3. Fit the model\n",
        "model_1.fit(tf.expand_dims(X_train, axis=-1), y_train, epochs=100)"
      ]
    },
    {
      "cell_type": "code",
      "execution_count": 42,
      "metadata": {
        "colab": {
          "base_uri": "https://localhost:8080/",
          "height": 445
        },
        "id": "D6kaxbB5f9HJ",
        "outputId": "dee67cc0-6c15-4371-f119-e573919a8e91"
      },
      "outputs": [
        {
          "output_type": "stream",
          "name": "stdout",
          "text": [
            "1/1 [==============================] - 0s 69ms/step\n"
          ]
        },
        {
          "output_type": "display_data",
          "data": {
            "text/plain": [
              "<Figure size 720x504 with 1 Axes>"
            ],
            "image/png": "[encoded data removed]"
          },
          "metadata": {
            "needs_background": "light"
          }
        }
      ],
      "source": [
        "# Make and plot predictions for model_1\n",
        "y_preds_1 =  model_1.predict(X_test)\n",
        "plot_prediction(predictions=y_preds_1)"
      ]
    },
    {
      "cell_type": "code",
      "execution_count": 43,
      "metadata": {
        "colab": {
          "base_uri": "https://localhost:8080/"
        },
        "id": "jIQpY8cjhmuQ",
        "outputId": "eb328d21-1870-46c3-e2c7-eca8e463c30b"
      },
      "outputs": [
        {
          "output_type": "execute_result",
          "data": {
            "text/plain": [
              "(<tf.Tensor: shape=(), dtype=float32, numpy=18.745327>,\n",
              " <tf.Tensor: shape=(), dtype=float32, numpy=353.57336>)"
            ]
          },
          "metadata": {},
          "execution_count": 43
        }
      ],
      "source": [
        "# Calculate evaluation metrics for model 1\n",
        "mae_1 = mae(y_test, y_preds_1)\n",
        "mse_1 = mse(y_test, y_preds_1)\n",
        "mae_1, mse_1"
      ]
    },
    {
      "cell_type": "code",
      "execution_count": 44,
      "metadata": {
        "colab": {
          "base_uri": "https://localhost:8080/"
        },
        "id": "lGpp3tc8iWZX",
        "outputId": "1901baf0-f7fb-4136-83c4-aef5229aa8f5"
      },
      "outputs": [
        {
          "output_type": "stream",
          "name": "stdout",
          "text": [
            "Epoch 1/100\n",
            "2/2 [==============================] - 0s 11ms/step - loss: 27.4058 - mae: 27.4058\n",
            "Epoch 2/100\n",
            "2/2 [==============================] - 0s 8ms/step - loss: 24.6339 - mae: 24.6339\n",
            "Epoch 3/100\n",
            "2/2 [==============================] - 0s 8ms/step - loss: 29.8935 - mae: 29.8935\n",
            "Epoch 4/100\n",
            "2/2 [==============================] - 0s 4ms/step - loss: 27.4055 - mae: 27.4055\n",
            "Epoch 5/100\n",
            "2/2 [==============================] - 0s 10ms/step - loss: 14.9463 - mae: 14.9463\n",
            "Epoch 6/100\n",
            "2/2 [==============================] - 0s 7ms/step - loss: 11.8819 - mae: 11.8819\n",
            "Epoch 7/100\n",
            "2/2 [==============================] - 0s 8ms/step - loss: 11.1988 - mae: 11.1988\n",
            "Epoch 8/100\n",
            "2/2 [==============================] - 0s 10ms/step - loss: 11.0910 - mae: 11.0910\n",
            "Epoch 9/100\n",
            "2/2 [==============================] - 0s 7ms/step - loss: 40.4763 - mae: 40.4763\n",
            "Epoch 10/100\n",
            "2/2 [==============================] - 0s 5ms/step - loss: 27.8687 - mae: 27.8687\n",
            "Epoch 11/100\n",
            "2/2 [==============================] - 0s 9ms/step - loss: 10.2473 - mae: 10.2473\n",
            "Epoch 12/100\n",
            "2/2 [==============================] - 0s 6ms/step - loss: 25.2803 - mae: 25.2803\n",
            "Epoch 13/100\n",
            "2/2 [==============================] - 0s 5ms/step - loss: 16.9897 - mae: 16.9897\n",
            "Epoch 14/100\n",
            "2/2 [==============================] - 0s 5ms/step - loss: 25.9217 - mae: 25.9217\n",
            "Epoch 15/100\n",
            "2/2 [==============================] - 0s 6ms/step - loss: 17.9948 - mae: 17.9948\n",
            "Epoch 16/100\n",
            "2/2 [==============================] - 0s 6ms/step - loss: 7.3510 - mae: 7.3510\n",
            "Epoch 17/100\n",
            "2/2 [==============================] - 0s 8ms/step - loss: 10.8636 - mae: 10.8636\n",
            "Epoch 18/100\n",
            "2/2 [==============================] - 0s 6ms/step - loss: 19.5304 - mae: 19.5304\n",
            "Epoch 19/100\n",
            "2/2 [==============================] - 0s 5ms/step - loss: 10.3469 - mae: 10.3469\n",
            "Epoch 20/100\n",
            "2/2 [==============================] - 0s 9ms/step - loss: 17.6985 - mae: 17.6985\n",
            "Epoch 21/100\n",
            "2/2 [==============================] - 0s 5ms/step - loss: 15.8985 - mae: 15.8985\n",
            "Epoch 22/100\n",
            "2/2 [==============================] - 0s 8ms/step - loss: 14.1991 - mae: 14.1991\n",
            "Epoch 23/100\n",
            "2/2 [==============================] - 0s 5ms/step - loss: 8.7720 - mae: 8.7720\n",
            "Epoch 24/100\n",
            "2/2 [==============================] - 0s 6ms/step - loss: 11.0570 - mae: 11.0570\n",
            "Epoch 25/100\n",
            "2/2 [==============================] - 0s 5ms/step - loss: 12.6838 - mae: 12.6838\n",
            "Epoch 26/100\n",
            "2/2 [==============================] - 0s 9ms/step - loss: 26.1877 - mae: 26.1877\n",
            "Epoch 27/100\n",
            "2/2 [==============================] - 0s 6ms/step - loss: 11.7432 - mae: 11.7432\n",
            "Epoch 28/100\n",
            "2/2 [==============================] - 0s 4ms/step - loss: 22.8730 - mae: 22.8730\n",
            "Epoch 29/100\n",
            "2/2 [==============================] - 0s 5ms/step - loss: 9.2459 - mae: 9.2459\n",
            "Epoch 30/100\n",
            "2/2 [==============================] - 0s 4ms/step - loss: 29.2641 - mae: 29.2641\n",
            "Epoch 31/100\n",
            "2/2 [==============================] - 0s 9ms/step - loss: 53.0224 - mae: 53.0224\n",
            "Epoch 32/100\n",
            "2/2 [==============================] - 0s 6ms/step - loss: 11.9951 - mae: 11.9951\n",
            "Epoch 33/100\n",
            "2/2 [==============================] - 0s 4ms/step - loss: 15.6357 - mae: 15.6357\n",
            "Epoch 34/100\n",
            "2/2 [==============================] - 0s 6ms/step - loss: 12.6925 - mae: 12.6925\n",
            "Epoch 35/100\n",
            "2/2 [==============================] - 0s 6ms/step - loss: 9.2398 - mae: 9.2398\n",
            "Epoch 36/100\n",
            "2/2 [==============================] - 0s 4ms/step - loss: 16.6497 - mae: 16.6497\n",
            "Epoch 37/100\n",
            "2/2 [==============================] - 0s 11ms/step - loss: 11.0382 - mae: 11.0382\n",
            "Epoch 38/100\n",
            "2/2 [==============================] - 0s 7ms/step - loss: 18.1634 - mae: 18.1634\n",
            "Epoch 39/100\n",
            "2/2 [==============================] - 0s 4ms/step - loss: 19.1013 - mae: 19.1013\n",
            "Epoch 40/100\n",
            "2/2 [==============================] - 0s 9ms/step - loss: 20.4324 - mae: 20.4324\n",
            "Epoch 41/100\n",
            "2/2 [==============================] - 0s 5ms/step - loss: 14.9102 - mae: 14.9102\n",
            "Epoch 42/100\n",
            "2/2 [==============================] - 0s 23ms/step - loss: 12.2809 - mae: 12.2809\n",
            "Epoch 43/100\n",
            "2/2 [==============================] - 0s 12ms/step - loss: 10.7333 - mae: 10.7333\n",
            "Epoch 44/100\n",
            "2/2 [==============================] - 0s 8ms/step - loss: 23.0260 - mae: 23.0260\n",
            "Epoch 45/100\n",
            "2/2 [==============================] - 0s 6ms/step - loss: 10.3897 - mae: 10.3897\n",
            "Epoch 46/100\n",
            "2/2 [==============================] - 0s 7ms/step - loss: 11.7904 - mae: 11.7904\n",
            "Epoch 47/100\n",
            "2/2 [==============================] - 0s 6ms/step - loss: 9.6438 - mae: 9.6438\n",
            "Epoch 48/100\n",
            "2/2 [==============================] - 0s 4ms/step - loss: 17.2335 - mae: 17.2335\n",
            "Epoch 49/100\n",
            "2/2 [==============================] - 0s 5ms/step - loss: 9.5729 - mae: 9.5729\n",
            "Epoch 50/100\n",
            "2/2 [==============================] - 0s 5ms/step - loss: 13.8185 - mae: 13.8185\n",
            "Epoch 51/100\n",
            "2/2 [==============================] - 0s 12ms/step - loss: 11.5958 - mae: 11.5958\n",
            "Epoch 52/100\n",
            "2/2 [==============================] - 0s 4ms/step - loss: 30.5538 - mae: 30.5538\n",
            "Epoch 53/100\n",
            "2/2 [==============================] - 0s 5ms/step - loss: 14.3541 - mae: 14.3541\n",
            "Epoch 54/100\n",
            "2/2 [==============================] - 0s 5ms/step - loss: 23.9713 - mae: 23.9713\n",
            "Epoch 55/100\n",
            "2/2 [==============================] - 0s 12ms/step - loss: 23.1938 - mae: 23.1938\n",
            "Epoch 56/100\n",
            "2/2 [==============================] - 0s 5ms/step - loss: 10.8837 - mae: 10.8837\n",
            "Epoch 57/100\n",
            "2/2 [==============================] - 0s 10ms/step - loss: 12.7445 - mae: 12.7445\n",
            "Epoch 58/100\n",
            "2/2 [==============================] - 0s 5ms/step - loss: 9.5995 - mae: 9.5995\n",
            "Epoch 59/100\n",
            "2/2 [==============================] - 0s 4ms/step - loss: 12.5172 - mae: 12.5172\n",
            "Epoch 60/100\n",
            "2/2 [==============================] - 0s 5ms/step - loss: 12.3200 - mae: 12.3200\n",
            "Epoch 61/100\n",
            "2/2 [==============================] - 0s 4ms/step - loss: 17.4604 - mae: 17.4604\n",
            "Epoch 62/100\n",
            "2/2 [==============================] - 0s 5ms/step - loss: 10.6052 - mae: 10.6052\n",
            "Epoch 63/100\n",
            "2/2 [==============================] - 0s 17ms/step - loss: 10.4893 - mae: 10.4893\n",
            "Epoch 64/100\n",
            "2/2 [==============================] - 0s 18ms/step - loss: 24.8450 - mae: 24.8450\n",
            "Epoch 65/100\n",
            "2/2 [==============================] - 0s 18ms/step - loss: 10.6761 - mae: 10.6761\n",
            "Epoch 66/100\n",
            "2/2 [==============================] - 0s 10ms/step - loss: 21.7809 - mae: 21.7809\n",
            "Epoch 67/100\n",
            "2/2 [==============================] - 0s 4ms/step - loss: 10.7136 - mae: 10.7136\n",
            "Epoch 68/100\n",
            "2/2 [==============================] - 0s 17ms/step - loss: 10.6397 - mae: 10.6397\n",
            "Epoch 69/100\n",
            "2/2 [==============================] - 0s 5ms/step - loss: 22.6914 - mae: 22.6914\n",
            "Epoch 70/100\n",
            "2/2 [==============================] - 0s 12ms/step - loss: 9.3316 - mae: 9.3316\n",
            "Epoch 71/100\n",
            "2/2 [==============================] - 0s 6ms/step - loss: 15.4355 - mae: 15.4355\n",
            "Epoch 72/100\n",
            "2/2 [==============================] - 0s 12ms/step - loss: 6.7437 - mae: 6.7437\n",
            "Epoch 73/100\n",
            "2/2 [==============================] - 0s 8ms/step - loss: 11.6891 - mae: 11.6891\n",
            "Epoch 74/100\n",
            "2/2 [==============================] - 0s 5ms/step - loss: 24.0400 - mae: 24.0400\n",
            "Epoch 75/100\n",
            "2/2 [==============================] - 0s 6ms/step - loss: 9.5896 - mae: 9.5896\n",
            "Epoch 76/100\n",
            "2/2 [==============================] - 0s 10ms/step - loss: 12.4371 - mae: 12.4371\n",
            "Epoch 77/100\n",
            "2/2 [==============================] - 0s 6ms/step - loss: 16.6488 - mae: 16.6488\n",
            "Epoch 78/100\n",
            "2/2 [==============================] - 0s 5ms/step - loss: 9.0614 - mae: 9.0614\n",
            "Epoch 79/100\n",
            "2/2 [==============================] - 0s 5ms/step - loss: 23.9675 - mae: 23.9675\n",
            "Epoch 80/100\n",
            "2/2 [==============================] - 0s 6ms/step - loss: 26.7463 - mae: 26.7463\n",
            "Epoch 81/100\n",
            "2/2 [==============================] - 0s 23ms/step - loss: 11.6714 - mae: 11.6714\n",
            "Epoch 82/100\n",
            "2/2 [==============================] - 0s 7ms/step - loss: 12.0228 - mae: 12.0228\n",
            "Epoch 83/100\n",
            "2/2 [==============================] - 0s 6ms/step - loss: 17.4218 - mae: 17.4218\n",
            "Epoch 84/100\n",
            "2/2 [==============================] - 0s 8ms/step - loss: 7.2629 - mae: 7.2629\n",
            "Epoch 85/100\n",
            "2/2 [==============================] - 0s 5ms/step - loss: 14.9650 - mae: 14.9650\n",
            "Epoch 86/100\n",
            "2/2 [==============================] - 0s 5ms/step - loss: 15.2862 - mae: 15.2862\n",
            "Epoch 87/100\n",
            "2/2 [==============================] - 0s 3ms/step - loss: 19.1086 - mae: 19.1086\n",
            "Epoch 88/100\n",
            "2/2 [==============================] - 0s 4ms/step - loss: 29.8228 - mae: 29.8228\n",
            "Epoch 89/100\n",
            "2/2 [==============================] - 0s 4ms/step - loss: 10.1742 - mae: 10.1742\n",
            "Epoch 90/100\n",
            "2/2 [==============================] - 0s 8ms/step - loss: 21.5240 - mae: 21.5240\n",
            "Epoch 91/100\n",
            "2/2 [==============================] - 0s 7ms/step - loss: 10.5716 - mae: 10.5716\n",
            "Epoch 92/100\n",
            "2/2 [==============================] - 0s 10ms/step - loss: 18.3977 - mae: 18.3977\n",
            "Epoch 93/100\n",
            "2/2 [==============================] - 0s 4ms/step - loss: 7.4138 - mae: 7.4138\n",
            "Epoch 94/100\n",
            "2/2 [==============================] - 0s 4ms/step - loss: 17.7380 - mae: 17.7380\n",
            "Epoch 95/100\n",
            "2/2 [==============================] - 0s 15ms/step - loss: 11.1144 - mae: 11.1144\n",
            "Epoch 96/100\n",
            "2/2 [==============================] - 0s 10ms/step - loss: 19.4346 - mae: 19.4346\n",
            "Epoch 97/100\n",
            "2/2 [==============================] - 0s 10ms/step - loss: 12.1593 - mae: 12.1593\n",
            "Epoch 98/100\n",
            "2/2 [==============================] - 0s 8ms/step - loss: 11.5653 - mae: 11.5653\n",
            "Epoch 99/100\n",
            "2/2 [==============================] - 0s 7ms/step - loss: 13.8827 - mae: 13.8827\n",
            "Epoch 100/100\n",
            "2/2 [==============================] - 0s 7ms/step - loss: 20.2277 - mae: 20.2277\n"
          ]
        },
        {
          "output_type": "execute_result",
          "data": {
            "text/plain": [
              "<keras.callbacks.History at 0x7fd9a2155af0>"
            ]
          },
          "metadata": {},
          "execution_count": 44
        }
      ],
      "source": [
        "# Set random seed\n",
        "tf.random.set_seed(42)\n",
        "\n",
        "# 1. create the model\n",
        "model_2 = tf.keras.Sequential([\n",
        "    tf.keras.layers.Dense(10),\n",
        "    tf.keras.layers.Dense(1),  \n",
        "])\n",
        "\n",
        "# 2. Compile the model\n",
        "model_2.compile(loss=tf.keras.losses.mae,\n",
        "                optimizer=tf.keras.optimizers.SGD(),\n",
        "                metrics=[\"mae\"])\n",
        "# 3. Fit the model\n",
        "model_2.fit(tf.expand_dims(X_train, axis=-1), y_train, epochs=100)"
      ]
    },
    {
      "cell_type": "code",
      "execution_count": 45,
      "metadata": {
        "colab": {
          "base_uri": "https://localhost:8080/",
          "height": 483
        },
        "id": "eixi0Jf8jHYP",
        "outputId": "350d2c2d-d140-4420-e1d2-b758e3ab213b"
      },
      "outputs": [
        {
          "output_type": "stream",
          "name": "stderr",
          "text": [
            "WARNING:tensorflow:5 out of the last 5 calls to <function Model.make_predict_function.<locals>.predict_function at 0x7fd9a211aca0> triggered tf.function retracing. Tracing is expensive and the excessive number of tracings could be due to (1) creating @tf.function repeatedly in a loop, (2) passing tensors with different shapes, (3) passing Python objects instead of tensors. For (1), please define your @tf.function outside of the loop. For (2), @tf.function has reduce_retracing=True option that can avoid unnecessary retracing. For (3), please refer to https://www.tensorflow.org/guide/function#controlling_retracing and https://www.tensorflow.org/api_docs/python/tf/function for  more details.\n"
          ]
        },
        {
          "output_type": "stream",
          "name": "stdout",
          "text": [
            "1/1 [==============================] - 0s 133ms/step\n"
          ]
        },
        {
          "output_type": "display_data",
          "data": {
            "text/plain": [
              "<Figure size 720x504 with 1 Axes>"
            ],
            "image/png": "[encoded data removed]"
          },
          "metadata": {
            "needs_background": "light"
          }
        }
      ],
      "source": [
        "y_preds_2 = model_2.predict(X_test)\n",
        "plot_prediction(predictions=y_preds_2)"
      ]
    },
    {
      "cell_type": "code",
      "source": [
        "mae_2 = mae(y_pred=y_preds_2)\n",
        "mse_2 = mse(y_pred=y_preds_2)\n",
        "\n",
        "mae_2, mse_2"
      ],
      "metadata": {
        "colab": {
          "base_uri": "https://localhost:8080/"
        },
        "id": "q2kC0dw29yTE",
        "outputId": "78b830db-22db-4070-88b9-69ed115317d6"
      },
      "execution_count": 46,
      "outputs": [
        {
          "output_type": "execute_result",
          "data": {
            "text/plain": [
              "(<tf.Tensor: shape=(), dtype=float32, numpy=3.19694>,\n",
              " <tf.Tensor: shape=(), dtype=float32, numpy=13.070127>)"
            ]
          },
          "metadata": {},
          "execution_count": 46
        }
      ]
    },
    {
      "cell_type": "code",
      "source": [
        "model_3 = tf.keras.Sequential([\n",
        "    tf.keras.layers.Dense(10),\n",
        "    tf.keras.layers.Dense(1)\n",
        "])\n",
        "\n",
        "model_3.compile(loss=tf.keras.losses.mae,\n",
        "                optimizer=tf.keras.optimizers.SGD(),\n",
        "                metrics=['mse'])\n",
        "\n",
        "model_3.fit(tf.expand_dims(X_train, axis=-1), y_train, epochs=500, verbose=1)"
      ],
      "metadata": {
        "colab": {
          "base_uri": "https://localhost:8080/"
        },
        "id": "SamJRo4U-Bac",
        "outputId": "697402b5-483d-4f5f-c3fe-0e4b9b8c36ef"
      },
      "execution_count": 47,
      "outputs": [
        {
          "output_type": "stream",
          "name": "stdout",
          "text": [
            "Epoch 1/500\n",
            "2/2 [==============================] - 1s 8ms/step - loss: 42.5822 - mse: 2823.1755\n",
            "Epoch 2/500\n",
            "2/2 [==============================] - 0s 8ms/step - loss: 10.9331 - mse: 167.2227\n",
            "Epoch 3/500\n",
            "2/2 [==============================] - 0s 7ms/step - loss: 26.9259 - mse: 1062.6483\n",
            "Epoch 4/500\n",
            "2/2 [==============================] - 0s 12ms/step - loss: 13.6703 - mse: 247.0116\n",
            "Epoch 5/500\n",
            "2/2 [==============================] - 0s 7ms/step - loss: 15.1926 - mse: 292.5403\n",
            "Epoch 6/500\n",
            "2/2 [==============================] - 0s 14ms/step - loss: 12.0801 - mse: 177.9818\n",
            "Epoch 7/500\n",
            "2/2 [==============================] - 0s 24ms/step - loss: 11.4040 - mse: 158.0894\n",
            "Epoch 8/500\n",
            "2/2 [==============================] - 0s 7ms/step - loss: 11.1956 - mse: 171.4060\n",
            "Epoch 9/500\n",
            "2/2 [==============================] - 0s 5ms/step - loss: 41.6513 - mse: 2760.7686\n",
            "Epoch 10/500\n",
            "2/2 [==============================] - 0s 4ms/step - loss: 28.8935 - mse: 1179.5693\n",
            "Epoch 11/500\n",
            "2/2 [==============================] - 0s 9ms/step - loss: 8.5332 - mse: 96.3214\n",
            "Epoch 12/500\n",
            "2/2 [==============================] - 0s 9ms/step - loss: 27.4635 - mse: 1036.9034\n",
            "Epoch 13/500\n",
            "2/2 [==============================] - 0s 21ms/step - loss: 12.1139 - mse: 174.4627\n",
            "Epoch 14/500\n",
            "2/2 [==============================] - 0s 22ms/step - loss: 34.8373 - mse: 1995.2266\n",
            "Epoch 15/500\n",
            "2/2 [==============================] - 0s 7ms/step - loss: 22.6692 - mse: 730.1408\n",
            "Epoch 16/500\n",
            "2/2 [==============================] - 0s 6ms/step - loss: 9.9359 - mse: 125.0452\n",
            "Epoch 17/500\n",
            "2/2 [==============================] - 0s 5ms/step - loss: 17.8992 - mse: 425.5911\n",
            "Epoch 18/500\n",
            "2/2 [==============================] - 0s 4ms/step - loss: 14.3769 - mse: 328.2473\n",
            "Epoch 19/500\n",
            "2/2 [==============================] - 0s 4ms/step - loss: 14.4871 - mse: 330.6525\n",
            "Epoch 20/500\n",
            "2/2 [==============================] - 0s 7ms/step - loss: 10.4799 - mse: 148.3128\n",
            "Epoch 21/500\n",
            "2/2 [==============================] - 0s 5ms/step - loss: 15.2575 - mse: 316.1357\n",
            "Epoch 22/500\n",
            "2/2 [==============================] - 0s 5ms/step - loss: 15.6024 - mse: 335.8525\n",
            "Epoch 23/500\n",
            "2/2 [==============================] - 0s 4ms/step - loss: 9.2279 - mse: 118.5867\n",
            "Epoch 24/500\n",
            "2/2 [==============================] - 0s 8ms/step - loss: 17.2281 - mse: 406.3124\n",
            "Epoch 25/500\n",
            "2/2 [==============================] - 0s 5ms/step - loss: 15.9113 - mse: 332.4176\n",
            "Epoch 26/500\n",
            "2/2 [==============================] - 0s 7ms/step - loss: 20.8721 - mse: 646.5102\n",
            "Epoch 27/500\n",
            "2/2 [==============================] - 0s 6ms/step - loss: 26.0935 - mse: 1063.5789\n",
            "Epoch 28/500\n",
            "2/2 [==============================] - 0s 9ms/step - loss: 18.5731 - mse: 546.2327\n",
            "Epoch 29/500\n",
            "2/2 [==============================] - 0s 12ms/step - loss: 9.2419 - mse: 97.0285\n",
            "Epoch 30/500\n",
            "2/2 [==============================] - 0s 5ms/step - loss: 29.1981 - mse: 1526.2484\n",
            "Epoch 31/500\n",
            "2/2 [==============================] - 0s 6ms/step - loss: 52.8950 - mse: 5004.9419\n",
            "Epoch 32/500\n",
            "2/2 [==============================] - 0s 4ms/step - loss: 11.9662 - mse: 209.8557\n",
            "Epoch 33/500\n",
            "2/2 [==============================] - 0s 9ms/step - loss: 15.5894 - mse: 335.2049\n",
            "Epoch 34/500\n",
            "2/2 [==============================] - 0s 4ms/step - loss: 12.6582 - mse: 212.6499\n",
            "Epoch 35/500\n",
            "2/2 [==============================] - 0s 5ms/step - loss: 9.2225 - mse: 92.4001\n",
            "Epoch 36/500\n",
            "2/2 [==============================] - 0s 5ms/step - loss: 16.5907 - mse: 400.5739\n",
            "Epoch 37/500\n",
            "2/2 [==============================] - 0s 5ms/step - loss: 11.0521 - mse: 192.2627\n",
            "Epoch 38/500\n",
            "2/2 [==============================] - 0s 4ms/step - loss: 18.1794 - mse: 434.8005\n",
            "Epoch 39/500\n",
            "2/2 [==============================] - 0s 6ms/step - loss: 19.1155 - mse: 531.0630\n",
            "Epoch 40/500\n",
            "2/2 [==============================] - 0s 4ms/step - loss: 20.4601 - mse: 611.7036\n",
            "Epoch 41/500\n",
            "2/2 [==============================] - 0s 7ms/step - loss: 14.8707 - mse: 277.6571\n",
            "Epoch 42/500\n",
            "2/2 [==============================] - 0s 6ms/step - loss: 12.2499 - mse: 184.9446\n",
            "Epoch 43/500\n",
            "2/2 [==============================] - 0s 4ms/step - loss: 10.7146 - mse: 165.5859\n",
            "Epoch 44/500\n",
            "2/2 [==============================] - 0s 5ms/step - loss: 22.9474 - mse: 824.3495\n",
            "Epoch 45/500\n",
            "2/2 [==============================] - 0s 5ms/step - loss: 10.3634 - mse: 128.6936\n",
            "Epoch 46/500\n",
            "2/2 [==============================] - 0s 6ms/step - loss: 11.7521 - mse: 179.9457\n",
            "Epoch 47/500\n",
            "2/2 [==============================] - 0s 4ms/step - loss: 9.6556 - mse: 153.6267\n",
            "Epoch 48/500\n",
            "2/2 [==============================] - 0s 6ms/step - loss: 17.2632 - mse: 404.3499\n",
            "Epoch 49/500\n",
            "2/2 [==============================] - 0s 7ms/step - loss: 9.5489 - mse: 99.3151\n",
            "Epoch 50/500\n",
            "2/2 [==============================] - 0s 8ms/step - loss: 13.7777 - mse: 258.1379\n",
            "Epoch 51/500\n",
            "2/2 [==============================] - 0s 6ms/step - loss: 11.5782 - mse: 154.1094\n",
            "Epoch 52/500\n",
            "2/2 [==============================] - 0s 5ms/step - loss: 30.4588 - mse: 1602.0054\n",
            "Epoch 53/500\n",
            "2/2 [==============================] - 0s 18ms/step - loss: 14.3112 - mse: 300.4782\n",
            "Epoch 54/500\n",
            "2/2 [==============================] - 0s 5ms/step - loss: 23.8976 - mse: 853.5272\n",
            "Epoch 55/500\n",
            "2/2 [==============================] - 0s 6ms/step - loss: 23.1125 - mse: 799.5643\n",
            "Epoch 56/500\n",
            "2/2 [==============================] - 0s 4ms/step - loss: 10.8542 - mse: 171.0030\n",
            "Epoch 57/500\n",
            "2/2 [==============================] - 0s 7ms/step - loss: 12.7053 - mse: 197.2426\n",
            "Epoch 58/500\n",
            "2/2 [==============================] - 0s 6ms/step - loss: 9.5760 - mse: 102.2687\n",
            "Epoch 59/500\n",
            "2/2 [==============================] - 0s 7ms/step - loss: 12.4807 - mse: 214.2000\n",
            "Epoch 60/500\n",
            "2/2 [==============================] - 0s 6ms/step - loss: 11.8913 - mse: 192.4137\n",
            "Epoch 61/500\n",
            "2/2 [==============================] - 0s 5ms/step - loss: 16.9716 - mse: 403.6742\n",
            "Epoch 62/500\n",
            "2/2 [==============================] - 0s 5ms/step - loss: 10.3876 - mse: 131.0052\n",
            "Epoch 63/500\n",
            "2/2 [==============================] - 0s 7ms/step - loss: 10.3428 - mse: 140.0837\n",
            "Epoch 64/500\n",
            "2/2 [==============================] - 0s 18ms/step - loss: 24.1942 - mse: 861.5446\n",
            "Epoch 65/500\n",
            "2/2 [==============================] - 0s 5ms/step - loss: 10.5224 - mse: 133.7912\n",
            "Epoch 66/500\n",
            "2/2 [==============================] - 0s 5ms/step - loss: 21.2046 - mse: 663.3086\n",
            "Epoch 67/500\n",
            "2/2 [==============================] - 0s 9ms/step - loss: 10.5191 - mse: 129.0165\n",
            "Epoch 68/500\n",
            "2/2 [==============================] - 0s 5ms/step - loss: 14.3680 - mse: 311.3405\n",
            "Epoch 69/500\n",
            "2/2 [==============================] - 0s 10ms/step - loss: 10.6097 - mse: 129.1471\n",
            "Epoch 70/500\n",
            "2/2 [==============================] - 0s 5ms/step - loss: 12.6937 - mse: 204.9404\n",
            "Epoch 71/500\n",
            "2/2 [==============================] - 0s 7ms/step - loss: 13.1234 - mse: 232.2867\n",
            "Epoch 72/500\n",
            "2/2 [==============================] - 0s 8ms/step - loss: 19.6276 - mse: 547.0944\n",
            "Epoch 73/500\n",
            "2/2 [==============================] - 0s 8ms/step - loss: 11.1902 - mse: 191.1924\n",
            "Epoch 74/500\n",
            "2/2 [==============================] - 0s 5ms/step - loss: 21.9121 - mse: 747.2991\n",
            "Epoch 75/500\n",
            "2/2 [==============================] - 0s 5ms/step - loss: 7.1885 - mse: 71.3460\n",
            "Epoch 76/500\n",
            "2/2 [==============================] - 0s 4ms/step - loss: 9.4161 - mse: 149.7083\n",
            "Epoch 77/500\n",
            "2/2 [==============================] - 0s 5ms/step - loss: 22.0473 - mse: 726.7155\n",
            "Epoch 78/500\n",
            "2/2 [==============================] - 0s 4ms/step - loss: 17.7011 - mse: 475.9118\n",
            "Epoch 79/500\n",
            "2/2 [==============================] - 0s 6ms/step - loss: 14.8612 - mse: 323.3849\n",
            "Epoch 80/500\n",
            "2/2 [==============================] - 0s 7ms/step - loss: 25.1842 - mse: 967.9965\n",
            "Epoch 81/500\n",
            "2/2 [==============================] - 0s 4ms/step - loss: 10.9252 - mse: 141.4079\n",
            "Epoch 82/500\n",
            "2/2 [==============================] - 0s 6ms/step - loss: 12.7402 - mse: 232.0012\n",
            "Epoch 83/500\n",
            "2/2 [==============================] - 0s 9ms/step - loss: 17.5085 - mse: 399.6929\n",
            "Epoch 84/500\n",
            "2/2 [==============================] - 0s 5ms/step - loss: 7.2803 - mse: 73.0742\n",
            "Epoch 85/500\n",
            "2/2 [==============================] - 0s 12ms/step - loss: 15.0318 - mse: 315.4437\n",
            "Epoch 86/500\n",
            "2/2 [==============================] - 0s 8ms/step - loss: 15.3400 - mse: 316.7399\n",
            "Epoch 87/500\n",
            "2/2 [==============================] - 0s 4ms/step - loss: 19.2179 - mse: 526.2448\n",
            "Epoch 88/500\n",
            "2/2 [==============================] - 0s 4ms/step - loss: 29.5362 - mse: 1260.8336\n",
            "Epoch 89/500\n",
            "2/2 [==============================] - 0s 6ms/step - loss: 10.1332 - mse: 124.0810\n",
            "Epoch 90/500\n",
            "2/2 [==============================] - 0s 4ms/step - loss: 21.2860 - mse: 648.9033\n",
            "Epoch 91/500\n",
            "2/2 [==============================] - 0s 4ms/step - loss: 10.5150 - mse: 162.7649\n",
            "Epoch 92/500\n",
            "2/2 [==============================] - 0s 10ms/step - loss: 18.1816 - mse: 452.6958\n",
            "Epoch 93/500\n",
            "2/2 [==============================] - 0s 9ms/step - loss: 6.5368 - mse: 60.3852\n",
            "Epoch 94/500\n",
            "2/2 [==============================] - 0s 6ms/step - loss: 11.1743 - mse: 155.9372\n",
            "Epoch 95/500\n",
            "2/2 [==============================] - 0s 24ms/step - loss: 24.6366 - mse: 911.7832\n",
            "Epoch 96/500\n",
            "2/2 [==============================] - 0s 10ms/step - loss: 10.7835 - mse: 171.5014\n",
            "Epoch 97/500\n",
            "2/2 [==============================] - 0s 5ms/step - loss: 15.5303 - mse: 366.1724\n",
            "Epoch 98/500\n",
            "2/2 [==============================] - 0s 27ms/step - loss: 9.0533 - mse: 143.2886\n",
            "Epoch 99/500\n",
            "2/2 [==============================] - 0s 5ms/step - loss: 10.8684 - mse: 139.1627\n",
            "Epoch 100/500\n",
            "2/2 [==============================] - 0s 5ms/step - loss: 27.1543 - mse: 1124.8959\n",
            "Epoch 101/500\n",
            "2/2 [==============================] - 0s 8ms/step - loss: 15.0985 - mse: 342.1708\n",
            "Epoch 102/500\n",
            "2/2 [==============================] - 0s 9ms/step - loss: 10.6480 - mse: 158.1153\n",
            "Epoch 103/500\n",
            "2/2 [==============================] - 0s 8ms/step - loss: 9.1251 - mse: 96.3347\n",
            "Epoch 104/500\n",
            "2/2 [==============================] - 0s 6ms/step - loss: 23.5916 - mse: 833.3986\n",
            "Epoch 105/500\n",
            "2/2 [==============================] - 0s 4ms/step - loss: 10.7488 - mse: 156.5294\n",
            "Epoch 106/500\n",
            "2/2 [==============================] - 0s 7ms/step - loss: 11.2126 - mse: 173.6959\n",
            "Epoch 107/500\n",
            "2/2 [==============================] - 0s 4ms/step - loss: 21.1606 - mse: 667.0156\n",
            "Epoch 108/500\n",
            "2/2 [==============================] - 0s 7ms/step - loss: 6.3044 - mse: 56.9973\n",
            "Epoch 109/500\n",
            "2/2 [==============================] - 0s 17ms/step - loss: 10.5376 - mse: 132.1063\n",
            "Epoch 110/500\n",
            "2/2 [==============================] - 0s 8ms/step - loss: 10.4890 - mse: 134.2514\n",
            "Epoch 111/500\n",
            "2/2 [==============================] - 0s 9ms/step - loss: 16.6339 - mse: 390.5510\n",
            "Epoch 112/500\n",
            "2/2 [==============================] - 0s 6ms/step - loss: 9.4794 - mse: 118.5019\n",
            "Epoch 113/500\n",
            "2/2 [==============================] - 0s 5ms/step - loss: 17.5285 - mse: 446.8937\n",
            "Epoch 114/500\n",
            "2/2 [==============================] - 0s 17ms/step - loss: 16.8953 - mse: 425.6243\n",
            "Epoch 115/500\n",
            "2/2 [==============================] - 0s 11ms/step - loss: 11.0144 - mse: 150.0813\n",
            "Epoch 116/500\n",
            "2/2 [==============================] - 0s 5ms/step - loss: 22.9330 - mse: 765.0790\n",
            "Epoch 117/500\n",
            "2/2 [==============================] - 0s 17ms/step - loss: 9.4916 - mse: 126.5410\n",
            "Epoch 118/500\n",
            "2/2 [==============================] - 0s 7ms/step - loss: 10.5481 - mse: 136.6725\n",
            "Epoch 119/500\n",
            "2/2 [==============================] - 0s 7ms/step - loss: 8.0094 - mse: 75.7835\n",
            "Epoch 120/500\n",
            "2/2 [==============================] - 0s 4ms/step - loss: 29.2342 - mse: 1273.1954\n",
            "Epoch 121/500\n",
            "2/2 [==============================] - 0s 18ms/step - loss: 8.0499 - mse: 70.0146\n",
            "Epoch 122/500\n",
            "2/2 [==============================] - 0s 10ms/step - loss: 27.9400 - mse: 1195.5645\n",
            "Epoch 123/500\n",
            "2/2 [==============================] - 0s 13ms/step - loss: 32.4459 - mse: 1544.1783\n",
            "Epoch 124/500\n",
            "2/2 [==============================] - 0s 11ms/step - loss: 19.2868 - mse: 551.3375\n",
            "Epoch 125/500\n",
            "2/2 [==============================] - 0s 10ms/step - loss: 9.4754 - mse: 152.0531\n",
            "Epoch 126/500\n",
            "2/2 [==============================] - 0s 4ms/step - loss: 9.5574 - mse: 112.7099\n",
            "Epoch 127/500\n",
            "2/2 [==============================] - 0s 8ms/step - loss: 12.6758 - mse: 251.0628\n",
            "Epoch 128/500\n",
            "2/2 [==============================] - 0s 9ms/step - loss: 12.7723 - mse: 225.5730\n",
            "Epoch 129/500\n",
            "2/2 [==============================] - 0s 17ms/step - loss: 13.9047 - mse: 310.4759\n",
            "Epoch 130/500\n",
            "2/2 [==============================] - 0s 7ms/step - loss: 10.2031 - mse: 121.1963\n",
            "Epoch 131/500\n",
            "2/2 [==============================] - 0s 12ms/step - loss: 21.6633 - mse: 710.6754\n",
            "Epoch 132/500\n",
            "2/2 [==============================] - 0s 8ms/step - loss: 8.2481 - mse: 95.4219\n",
            "Epoch 133/500\n",
            "2/2 [==============================] - 0s 7ms/step - loss: 9.0299 - mse: 112.2258\n",
            "Epoch 134/500\n",
            "2/2 [==============================] - 0s 10ms/step - loss: 16.8696 - mse: 414.9003\n",
            "Epoch 135/500\n",
            "2/2 [==============================] - 0s 12ms/step - loss: 10.6254 - mse: 149.2570\n",
            "Epoch 136/500\n",
            "2/2 [==============================] - 0s 17ms/step - loss: 18.4895 - mse: 484.5710\n",
            "Epoch 137/500\n",
            "2/2 [==============================] - 0s 15ms/step - loss: 23.4743 - mse: 744.1519\n",
            "Epoch 138/500\n",
            "2/2 [==============================] - 0s 13ms/step - loss: 9.2535 - mse: 139.1044\n",
            "Epoch 139/500\n",
            "2/2 [==============================] - 0s 6ms/step - loss: 8.9906 - mse: 142.8344\n",
            "Epoch 140/500\n",
            "2/2 [==============================] - 0s 9ms/step - loss: 16.9579 - mse: 414.4420\n",
            "Epoch 141/500\n",
            "2/2 [==============================] - 0s 10ms/step - loss: 8.2991 - mse: 75.2643\n",
            "Epoch 142/500\n",
            "2/2 [==============================] - 0s 9ms/step - loss: 34.0529 - mse: 2006.5125\n",
            "Epoch 143/500\n",
            "2/2 [==============================] - 0s 17ms/step - loss: 23.0925 - mse: 746.3925\n",
            "Epoch 144/500\n",
            "2/2 [==============================] - 0s 9ms/step - loss: 11.3178 - mse: 228.5256\n",
            "Epoch 145/500\n",
            "2/2 [==============================] - 0s 16ms/step - loss: 25.0260 - mse: 849.0703\n",
            "Epoch 146/500\n",
            "2/2 [==============================] - 0s 7ms/step - loss: 11.1395 - mse: 168.5863\n",
            "Epoch 147/500\n",
            "2/2 [==============================] - 0s 16ms/step - loss: 14.0641 - mse: 293.4109\n",
            "Epoch 148/500\n",
            "2/2 [==============================] - 0s 7ms/step - loss: 16.9134 - mse: 392.8133\n",
            "Epoch 149/500\n",
            "2/2 [==============================] - 0s 46ms/step - loss: 9.2440 - mse: 108.5677\n",
            "Epoch 150/500\n",
            "2/2 [==============================] - 0s 19ms/step - loss: 7.9228 - mse: 71.5231\n",
            "Epoch 151/500\n",
            "2/2 [==============================] - 0s 15ms/step - loss: 16.5267 - mse: 392.8456\n",
            "Epoch 152/500\n",
            "2/2 [==============================] - 0s 12ms/step - loss: 9.7869 - mse: 119.3237\n",
            "Epoch 153/500\n",
            "2/2 [==============================] - 0s 7ms/step - loss: 26.8916 - mse: 1022.6857\n",
            "Epoch 154/500\n",
            "2/2 [==============================] - 0s 10ms/step - loss: 11.8991 - mse: 238.7717\n",
            "Epoch 155/500\n",
            "2/2 [==============================] - 0s 4ms/step - loss: 15.2670 - mse: 334.6252\n",
            "Epoch 156/500\n",
            "2/2 [==============================] - 0s 15ms/step - loss: 16.6285 - mse: 423.5635\n",
            "Epoch 157/500\n",
            "2/2 [==============================] - 0s 10ms/step - loss: 19.3260 - mse: 576.5462\n",
            "Epoch 158/500\n",
            "2/2 [==============================] - 0s 11ms/step - loss: 8.2555 - mse: 129.2181\n",
            "Epoch 159/500\n",
            "2/2 [==============================] - 0s 5ms/step - loss: 7.9670 - mse: 109.4624\n",
            "Epoch 160/500\n",
            "2/2 [==============================] - 0s 5ms/step - loss: 20.9312 - mse: 658.5389\n",
            "Epoch 161/500\n",
            "2/2 [==============================] - 0s 17ms/step - loss: 23.8384 - mse: 862.0273\n",
            "Epoch 162/500\n",
            "2/2 [==============================] - 0s 6ms/step - loss: 18.7474 - mse: 501.8241\n",
            "Epoch 163/500\n",
            "2/2 [==============================] - 0s 73ms/step - loss: 17.6969 - mse: 449.2838\n",
            "Epoch 164/500\n",
            "2/2 [==============================] - 0s 11ms/step - loss: 11.0904 - mse: 180.7385\n",
            "Epoch 165/500\n",
            "2/2 [==============================] - 0s 11ms/step - loss: 9.5959 - mse: 181.1625\n",
            "Epoch 166/500\n",
            "2/2 [==============================] - 0s 4ms/step - loss: 21.5284 - mse: 678.8081\n",
            "Epoch 167/500\n",
            "2/2 [==============================] - 0s 4ms/step - loss: 26.4465 - mse: 1062.5345\n",
            "Epoch 168/500\n",
            "2/2 [==============================] - 0s 4ms/step - loss: 9.8807 - mse: 118.7010\n",
            "Epoch 169/500\n",
            "2/2 [==============================] - 0s 10ms/step - loss: 22.7214 - mse: 798.4165\n",
            "Epoch 170/500\n",
            "2/2 [==============================] - 0s 4ms/step - loss: 10.1229 - mse: 196.9343\n",
            "Epoch 171/500\n",
            "2/2 [==============================] - 0s 12ms/step - loss: 17.9795 - mse: 500.4771\n",
            "Epoch 172/500\n",
            "2/2 [==============================] - 0s 4ms/step - loss: 28.9997 - mse: 1322.0031\n",
            "Epoch 173/500\n",
            "2/2 [==============================] - 0s 4ms/step - loss: 16.6552 - mse: 438.1520\n",
            "Epoch 174/500\n",
            "2/2 [==============================] - 0s 6ms/step - loss: 11.1959 - mse: 200.8898\n",
            "Epoch 175/500\n",
            "2/2 [==============================] - 0s 4ms/step - loss: 27.5433 - mse: 1094.9504\n",
            "Epoch 176/500\n",
            "2/2 [==============================] - 0s 7ms/step - loss: 8.3104 - mse: 78.4074\n",
            "Epoch 177/500\n",
            "2/2 [==============================] - 0s 6ms/step - loss: 9.2890 - mse: 109.4852\n",
            "Epoch 178/500\n",
            "2/2 [==============================] - 0s 7ms/step - loss: 18.2729 - mse: 472.1318\n",
            "Epoch 179/500\n",
            "2/2 [==============================] - 0s 11ms/step - loss: 10.5415 - mse: 146.4986\n",
            "Epoch 180/500\n",
            "2/2 [==============================] - 0s 4ms/step - loss: 7.9188 - mse: 99.8195\n",
            "Epoch 181/500\n",
            "2/2 [==============================] - 0s 6ms/step - loss: 17.5086 - mse: 443.7148\n",
            "Epoch 182/500\n",
            "2/2 [==============================] - 0s 5ms/step - loss: 11.0546 - mse: 158.4256\n",
            "Epoch 183/500\n",
            "2/2 [==============================] - 0s 4ms/step - loss: 11.7519 - mse: 205.5672\n",
            "Epoch 184/500\n",
            "2/2 [==============================] - 0s 28ms/step - loss: 30.5715 - mse: 1403.3210\n",
            "Epoch 185/500\n",
            "2/2 [==============================] - 0s 5ms/step - loss: 7.5400 - mse: 99.1817\n",
            "Epoch 186/500\n",
            "2/2 [==============================] - 0s 24ms/step - loss: 15.9406 - mse: 367.1970\n",
            "Epoch 187/500\n",
            "2/2 [==============================] - 0s 12ms/step - loss: 8.5711 - mse: 85.4119\n",
            "Epoch 188/500\n",
            "2/2 [==============================] - 0s 7ms/step - loss: 28.8886 - mse: 1189.3577\n",
            "Epoch 189/500\n",
            "2/2 [==============================] - 0s 7ms/step - loss: 13.1373 - mse: 271.7828\n",
            "Epoch 190/500\n",
            "2/2 [==============================] - 0s 19ms/step - loss: 18.2753 - mse: 510.0541\n",
            "Epoch 191/500\n",
            "2/2 [==============================] - 0s 10ms/step - loss: 13.6973 - mse: 263.4832\n",
            "Epoch 192/500\n",
            "2/2 [==============================] - 0s 11ms/step - loss: 13.6935 - mse: 261.3924\n",
            "Epoch 193/500\n",
            "2/2 [==============================] - 0s 5ms/step - loss: 28.5525 - mse: 1132.8036\n",
            "Epoch 194/500\n",
            "2/2 [==============================] - 0s 8ms/step - loss: 7.1046 - mse: 78.4306\n",
            "Epoch 195/500\n",
            "2/2 [==============================] - 0s 6ms/step - loss: 7.0502 - mse: 75.1576\n",
            "Epoch 196/500\n",
            "2/2 [==============================] - 0s 8ms/step - loss: 21.9599 - mse: 706.8633\n",
            "Epoch 197/500\n",
            "2/2 [==============================] - 0s 8ms/step - loss: 20.9412 - mse: 649.8998\n",
            "Epoch 198/500\n",
            "2/2 [==============================] - 0s 12ms/step - loss: 12.5266 - mse: 238.3849\n",
            "Epoch 199/500\n",
            "2/2 [==============================] - 0s 7ms/step - loss: 17.9922 - mse: 464.4320\n",
            "Epoch 200/500\n",
            "2/2 [==============================] - 0s 6ms/step - loss: 13.8247 - mse: 285.4790\n",
            "Epoch 201/500\n",
            "2/2 [==============================] - 0s 7ms/step - loss: 6.0285 - mse: 51.1427\n",
            "Epoch 202/500\n",
            "2/2 [==============================] - 0s 8ms/step - loss: 22.8397 - mse: 743.8772\n",
            "Epoch 203/500\n",
            "2/2 [==============================] - 0s 5ms/step - loss: 8.9404 - mse: 153.3701\n",
            "Epoch 204/500\n",
            "2/2 [==============================] - 0s 4ms/step - loss: 18.8189 - mse: 531.1256\n",
            "Epoch 205/500\n",
            "2/2 [==============================] - 0s 4ms/step - loss: 9.3440 - mse: 126.9607\n",
            "Epoch 206/500\n",
            "2/2 [==============================] - 0s 7ms/step - loss: 10.4134 - mse: 143.1124\n",
            "Epoch 207/500\n",
            "2/2 [==============================] - 0s 14ms/step - loss: 21.1017 - mse: 676.7738\n",
            "Epoch 208/500\n",
            "2/2 [==============================] - 0s 7ms/step - loss: 16.4626 - mse: 390.1866\n",
            "Epoch 209/500\n",
            "2/2 [==============================] - 0s 13ms/step - loss: 14.3688 - mse: 318.3080\n",
            "Epoch 210/500\n",
            "2/2 [==============================] - 0s 7ms/step - loss: 19.3789 - mse: 547.2068\n",
            "Epoch 211/500\n",
            "2/2 [==============================] - 0s 4ms/step - loss: 10.2959 - mse: 146.6228\n",
            "Epoch 212/500\n",
            "2/2 [==============================] - 0s 4ms/step - loss: 20.1656 - mse: 610.1127\n",
            "Epoch 213/500\n",
            "2/2 [==============================] - 0s 16ms/step - loss: 15.0622 - mse: 308.3856\n",
            "Epoch 214/500\n",
            "2/2 [==============================] - 0s 10ms/step - loss: 14.6038 - mse: 294.3997\n",
            "Epoch 215/500\n",
            "2/2 [==============================] - 0s 5ms/step - loss: 23.3325 - mse: 801.2403\n",
            "Epoch 216/500\n",
            "2/2 [==============================] - 0s 5ms/step - loss: 13.3112 - mse: 276.4137\n",
            "Epoch 217/500\n",
            "2/2 [==============================] - 0s 10ms/step - loss: 9.8162 - mse: 134.9394\n",
            "Epoch 218/500\n",
            "2/2 [==============================] - 0s 8ms/step - loss: 12.5853 - mse: 207.6589\n",
            "Epoch 219/500\n",
            "2/2 [==============================] - 0s 4ms/step - loss: 5.3331 - mse: 39.2400\n",
            "Epoch 220/500\n",
            "2/2 [==============================] - 0s 5ms/step - loss: 14.6926 - mse: 283.6679\n",
            "Epoch 221/500\n",
            "2/2 [==============================] - 0s 8ms/step - loss: 33.5385 - mse: 1536.9209\n",
            "Epoch 222/500\n",
            "2/2 [==============================] - 0s 8ms/step - loss: 13.8805 - mse: 237.5946\n",
            "Epoch 223/500\n",
            "2/2 [==============================] - 0s 14ms/step - loss: 10.9872 - mse: 179.5802\n",
            "Epoch 224/500\n",
            "2/2 [==============================] - 0s 8ms/step - loss: 14.9380 - mse: 333.4512\n",
            "Epoch 225/500\n",
            "2/2 [==============================] - 0s 4ms/step - loss: 16.9834 - mse: 374.1156\n",
            "Epoch 226/500\n",
            "2/2 [==============================] - 0s 3ms/step - loss: 16.1735 - mse: 385.0337\n",
            "Epoch 227/500\n",
            "2/2 [==============================] - 0s 4ms/step - loss: 16.4892 - mse: 384.8620\n",
            "Epoch 228/500\n",
            "2/2 [==============================] - 0s 5ms/step - loss: 9.9334 - mse: 185.4483\n",
            "Epoch 229/500\n",
            "2/2 [==============================] - 0s 17ms/step - loss: 17.8279 - mse: 443.1902\n",
            "Epoch 230/500\n",
            "2/2 [==============================] - 0s 6ms/step - loss: 15.4489 - mse: 310.3665\n",
            "Epoch 231/500\n",
            "2/2 [==============================] - 0s 7ms/step - loss: 20.8729 - mse: 654.1620\n",
            "Epoch 232/500\n",
            "2/2 [==============================] - 0s 11ms/step - loss: 20.4368 - mse: 593.8245\n",
            "Epoch 233/500\n",
            "2/2 [==============================] - 0s 4ms/step - loss: 15.0925 - mse: 339.1691\n",
            "Epoch 234/500\n",
            "2/2 [==============================] - 0s 4ms/step - loss: 6.9612 - mse: 65.8800\n",
            "Epoch 235/500\n",
            "2/2 [==============================] - 0s 4ms/step - loss: 15.7431 - mse: 348.3261\n",
            "Epoch 236/500\n",
            "2/2 [==============================] - 0s 4ms/step - loss: 6.6844 - mse: 71.0750\n",
            "Epoch 237/500\n",
            "2/2 [==============================] - 0s 8ms/step - loss: 8.5997 - mse: 113.9803\n",
            "Epoch 238/500\n",
            "2/2 [==============================] - 0s 5ms/step - loss: 7.7600 - mse: 87.7894\n",
            "Epoch 239/500\n",
            "2/2 [==============================] - 0s 4ms/step - loss: 15.6675 - mse: 373.7043\n",
            "Epoch 240/500\n",
            "2/2 [==============================] - 0s 5ms/step - loss: 9.0044 - mse: 109.0672\n",
            "Epoch 241/500\n",
            "2/2 [==============================] - 0s 4ms/step - loss: 13.4320 - mse: 279.9271\n",
            "Epoch 242/500\n",
            "2/2 [==============================] - 0s 10ms/step - loss: 8.8925 - mse: 107.6467\n",
            "Epoch 243/500\n",
            "2/2 [==============================] - 0s 9ms/step - loss: 19.3309 - mse: 570.3690\n",
            "Epoch 244/500\n",
            "2/2 [==============================] - 0s 8ms/step - loss: 13.8752 - mse: 271.2401\n",
            "Epoch 245/500\n",
            "2/2 [==============================] - 0s 6ms/step - loss: 14.5270 - mse: 282.7280\n",
            "Epoch 246/500\n",
            "2/2 [==============================] - 0s 3ms/step - loss: 15.6643 - mse: 361.3549\n",
            "Epoch 247/500\n",
            "2/2 [==============================] - 0s 4ms/step - loss: 17.4968 - mse: 411.0746\n",
            "Epoch 248/500\n",
            "2/2 [==============================] - 0s 4ms/step - loss: 13.0650 - mse: 249.5703\n",
            "Epoch 249/500\n",
            "2/2 [==============================] - 0s 4ms/step - loss: 14.4143 - mse: 283.6945\n",
            "Epoch 250/500\n",
            "2/2 [==============================] - 0s 4ms/step - loss: 27.8084 - mse: 1100.5492\n",
            "Epoch 251/500\n",
            "2/2 [==============================] - 0s 8ms/step - loss: 7.4941 - mse: 68.9759\n",
            "Epoch 252/500\n",
            "2/2 [==============================] - 0s 5ms/step - loss: 38.2516 - mse: 2418.7222\n",
            "Epoch 253/500\n",
            "2/2 [==============================] - 0s 7ms/step - loss: 23.1391 - mse: 752.5815\n",
            "Epoch 254/500\n",
            "2/2 [==============================] - 0s 5ms/step - loss: 7.2848 - mse: 78.3129\n",
            "Epoch 255/500\n",
            "2/2 [==============================] - 0s 7ms/step - loss: 24.6464 - mse: 877.5949\n",
            "Epoch 256/500\n",
            "2/2 [==============================] - 0s 4ms/step - loss: 12.3952 - mse: 219.4530\n",
            "Epoch 257/500\n",
            "2/2 [==============================] - 0s 8ms/step - loss: 10.5624 - mse: 163.2279\n",
            "Epoch 258/500\n",
            "2/2 [==============================] - 0s 5ms/step - loss: 14.1943 - mse: 306.4815\n",
            "Epoch 259/500\n",
            "2/2 [==============================] - 0s 5ms/step - loss: 11.2490 - mse: 186.7468\n",
            "Epoch 260/500\n",
            "2/2 [==============================] - 0s 5ms/step - loss: 31.6272 - mse: 1527.5128\n",
            "Epoch 261/500\n",
            "2/2 [==============================] - 0s 4ms/step - loss: 11.1654 - mse: 178.0814\n",
            "Epoch 262/500\n",
            "2/2 [==============================] - 0s 6ms/step - loss: 10.0203 - mse: 139.2420\n",
            "Epoch 263/500\n",
            "2/2 [==============================] - 0s 4ms/step - loss: 8.9338 - mse: 103.4201\n",
            "Epoch 264/500\n",
            "2/2 [==============================] - 0s 5ms/step - loss: 21.5165 - mse: 651.3104\n",
            "Epoch 265/500\n",
            "2/2 [==============================] - 0s 4ms/step - loss: 11.4334 - mse: 198.8170\n",
            "Epoch 266/500\n",
            "2/2 [==============================] - 0s 4ms/step - loss: 13.2669 - mse: 254.3578\n",
            "Epoch 267/500\n",
            "2/2 [==============================] - 0s 4ms/step - loss: 11.0636 - mse: 233.3604\n",
            "Epoch 268/500\n",
            "2/2 [==============================] - 0s 4ms/step - loss: 21.7188 - mse: 673.9229\n",
            "Epoch 269/500\n",
            "2/2 [==============================] - 0s 9ms/step - loss: 32.9130 - mse: 1625.3528\n",
            "Epoch 270/500\n",
            "2/2 [==============================] - 0s 37ms/step - loss: 9.7237 - mse: 132.0539\n",
            "Epoch 271/500\n",
            "2/2 [==============================] - 0s 12ms/step - loss: 7.7036 - mse: 111.9084\n",
            "Epoch 272/500\n",
            "2/2 [==============================] - 0s 10ms/step - loss: 28.5087 - mse: 1116.6100\n",
            "Epoch 273/500\n",
            "2/2 [==============================] - 0s 6ms/step - loss: 7.3695 - mse: 83.2381\n",
            "Epoch 274/500\n",
            "2/2 [==============================] - 0s 10ms/step - loss: 6.3200 - mse: 45.0157\n",
            "Epoch 275/500\n",
            "2/2 [==============================] - 0s 9ms/step - loss: 37.1489 - mse: 2116.9214\n",
            "Epoch 276/500\n",
            "2/2 [==============================] - 0s 5ms/step - loss: 8.2746 - mse: 108.5946\n",
            "Epoch 277/500\n",
            "2/2 [==============================] - 0s 3ms/step - loss: 27.9333 - mse: 1069.9890\n",
            "Epoch 278/500\n",
            "2/2 [==============================] - 0s 86ms/step - loss: 10.6131 - mse: 213.1039\n",
            "Epoch 279/500\n",
            "2/2 [==============================] - 0s 4ms/step - loss: 16.0592 - mse: 386.4377\n",
            "Epoch 280/500\n",
            "2/2 [==============================] - 0s 27ms/step - loss: 21.1418 - mse: 676.8710\n",
            "Epoch 281/500\n",
            "2/2 [==============================] - 0s 5ms/step - loss: 24.0278 - mse: 882.7176\n",
            "Epoch 282/500\n",
            "2/2 [==============================] - 0s 4ms/step - loss: 8.2943 - mse: 97.3967\n",
            "Epoch 283/500\n",
            "2/2 [==============================] - 0s 7ms/step - loss: 9.0376 - mse: 119.3083\n",
            "Epoch 284/500\n",
            "2/2 [==============================] - 0s 8ms/step - loss: 22.9684 - mse: 784.2523\n",
            "Epoch 285/500\n",
            "2/2 [==============================] - 0s 26ms/step - loss: 11.8142 - mse: 226.1998\n",
            "Epoch 286/500\n",
            "2/2 [==============================] - 0s 4ms/step - loss: 6.7266 - mse: 65.8699\n",
            "Epoch 287/500\n",
            "2/2 [==============================] - 0s 4ms/step - loss: 20.9357 - mse: 635.6038\n",
            "Epoch 288/500\n",
            "2/2 [==============================] - 0s 8ms/step - loss: 11.1900 - mse: 202.7070\n",
            "Epoch 289/500\n",
            "2/2 [==============================] - 0s 10ms/step - loss: 12.4182 - mse: 239.8832\n",
            "Epoch 290/500\n",
            "2/2 [==============================] - 0s 6ms/step - loss: 16.9539 - mse: 392.3289\n",
            "Epoch 291/500\n",
            "2/2 [==============================] - 0s 6ms/step - loss: 17.3520 - mse: 445.1956\n",
            "Epoch 292/500\n",
            "2/2 [==============================] - 0s 6ms/step - loss: 11.4509 - mse: 322.7456\n",
            "Epoch 293/500\n",
            "2/2 [==============================] - 0s 6ms/step - loss: 14.2686 - mse: 277.3374\n",
            "Epoch 294/500\n",
            "2/2 [==============================] - 0s 6ms/step - loss: 21.1963 - mse: 695.3907\n",
            "Epoch 295/500\n",
            "2/2 [==============================] - 0s 12ms/step - loss: 15.7476 - mse: 357.8213\n",
            "Epoch 296/500\n",
            "2/2 [==============================] - 0s 6ms/step - loss: 5.8710 - mse: 63.3629\n",
            "Epoch 297/500\n",
            "2/2 [==============================] - 0s 7ms/step - loss: 11.8132 - mse: 249.1280\n",
            "Epoch 298/500\n",
            "2/2 [==============================] - 0s 11ms/step - loss: 23.6499 - mse: 815.9677\n",
            "Epoch 299/500\n",
            "2/2 [==============================] - 0s 26ms/step - loss: 16.6366 - mse: 416.7868\n",
            "Epoch 300/500\n",
            "2/2 [==============================] - 0s 14ms/step - loss: 6.7561 - mse: 54.9482\n",
            "Epoch 301/500\n",
            "2/2 [==============================] - 0s 5ms/step - loss: 23.8762 - mse: 799.5358\n",
            "Epoch 302/500\n",
            "2/2 [==============================] - 0s 9ms/step - loss: 7.9915 - mse: 87.4724\n",
            "Epoch 303/500\n",
            "2/2 [==============================] - 0s 10ms/step - loss: 20.4030 - mse: 611.2352\n",
            "Epoch 304/500\n",
            "2/2 [==============================] - 0s 16ms/step - loss: 13.1574 - mse: 265.1964\n",
            "Epoch 305/500\n",
            "2/2 [==============================] - 0s 16ms/step - loss: 6.9126 - mse: 96.9805\n",
            "Epoch 306/500\n",
            "2/2 [==============================] - 0s 10ms/step - loss: 18.5340 - mse: 480.4122\n",
            "Epoch 307/500\n",
            "2/2 [==============================] - 0s 9ms/step - loss: 9.6451 - mse: 185.5471\n",
            "Epoch 308/500\n",
            "2/2 [==============================] - 0s 21ms/step - loss: 20.2383 - mse: 631.4922\n",
            "Epoch 309/500\n",
            "2/2 [==============================] - 0s 8ms/step - loss: 14.2506 - mse: 310.1769\n",
            "Epoch 310/500\n",
            "2/2 [==============================] - 0s 8ms/step - loss: 5.0876 - mse: 43.8700\n",
            "Epoch 311/500\n",
            "2/2 [==============================] - 0s 4ms/step - loss: 13.8201 - mse: 261.3070\n",
            "Epoch 312/500\n",
            "2/2 [==============================] - 0s 5ms/step - loss: 30.3948 - mse: 1275.1400\n",
            "Epoch 313/500\n",
            "2/2 [==============================] - 0s 13ms/step - loss: 6.9042 - mse: 105.5143\n",
            "Epoch 314/500\n",
            "2/2 [==============================] - 0s 10ms/step - loss: 11.0914 - mse: 282.4764\n",
            "Epoch 315/500\n",
            "2/2 [==============================] - 0s 6ms/step - loss: 23.3471 - mse: 794.3973\n",
            "Epoch 316/500\n",
            "2/2 [==============================] - 0s 5ms/step - loss: 14.8040 - mse: 338.8558\n",
            "Epoch 317/500\n",
            "2/2 [==============================] - 0s 30ms/step - loss: 20.4903 - mse: 573.8478\n",
            "Epoch 318/500\n",
            "2/2 [==============================] - 0s 10ms/step - loss: 8.6387 - mse: 102.4864\n",
            "Epoch 319/500\n",
            "2/2 [==============================] - 0s 15ms/step - loss: 15.1350 - mse: 357.6279\n",
            "Epoch 320/500\n",
            "2/2 [==============================] - 0s 10ms/step - loss: 8.2728 - mse: 98.8203\n",
            "Epoch 321/500\n",
            "2/2 [==============================] - 0s 4ms/step - loss: 14.5406 - mse: 314.2703\n",
            "Epoch 322/500\n",
            "2/2 [==============================] - 0s 10ms/step - loss: 12.8420 - mse: 242.4669\n",
            "Epoch 323/500\n",
            "2/2 [==============================] - 0s 5ms/step - loss: 19.1403 - mse: 562.0197\n",
            "Epoch 324/500\n",
            "2/2 [==============================] - 0s 12ms/step - loss: 16.9096 - mse: 427.4322\n",
            "Epoch 325/500\n",
            "2/2 [==============================] - 0s 16ms/step - loss: 9.3109 - mse: 209.7536\n",
            "Epoch 326/500\n",
            "2/2 [==============================] - 0s 23ms/step - loss: 19.9789 - mse: 608.7683\n",
            "Epoch 327/500\n",
            "2/2 [==============================] - 0s 3ms/step - loss: 27.9554 - mse: 1118.0941\n",
            "Epoch 328/500\n",
            "2/2 [==============================] - 0s 12ms/step - loss: 11.7383 - mse: 229.6229\n",
            "Epoch 329/500\n",
            "2/2 [==============================] - 0s 3ms/step - loss: 16.4214 - mse: 408.3329\n",
            "Epoch 330/500\n",
            "2/2 [==============================] - 0s 10ms/step - loss: 7.2757 - mse: 79.5800\n",
            "Epoch 331/500\n",
            "2/2 [==============================] - 0s 7ms/step - loss: 22.4687 - mse: 775.1063\n",
            "Epoch 332/500\n",
            "2/2 [==============================] - 0s 8ms/step - loss: 13.2669 - mse: 271.4509\n",
            "Epoch 333/500\n",
            "2/2 [==============================] - 0s 9ms/step - loss: 10.0931 - mse: 163.5908\n",
            "Epoch 334/500\n",
            "2/2 [==============================] - 0s 4ms/step - loss: 6.5639 - mse: 93.5884\n",
            "Epoch 335/500\n",
            "2/2 [==============================] - 0s 14ms/step - loss: 6.2410 - mse: 53.8200\n",
            "Epoch 336/500\n",
            "2/2 [==============================] - 0s 19ms/step - loss: 34.4345 - mse: 1928.3689\n",
            "Epoch 337/500\n",
            "2/2 [==============================] - 0s 6ms/step - loss: 26.8680 - mse: 1055.4044\n",
            "Epoch 338/500\n",
            "2/2 [==============================] - 0s 8ms/step - loss: 13.9396 - mse: 294.6081\n",
            "Epoch 339/500\n",
            "2/2 [==============================] - 0s 10ms/step - loss: 11.4910 - mse: 211.0175\n",
            "Epoch 340/500\n",
            "2/2 [==============================] - 0s 10ms/step - loss: 8.8214 - mse: 178.0056\n",
            "Epoch 341/500\n",
            "2/2 [==============================] - 0s 4ms/step - loss: 23.4782 - mse: 800.3292\n",
            "Epoch 342/500\n",
            "2/2 [==============================] - 0s 21ms/step - loss: 13.8497 - mse: 282.1821\n",
            "Epoch 343/500\n",
            "2/2 [==============================] - 0s 11ms/step - loss: 14.8419 - mse: 294.2353\n",
            "Epoch 344/500\n",
            "2/2 [==============================] - 0s 16ms/step - loss: 13.3787 - mse: 274.9174\n",
            "Epoch 345/500\n",
            "2/2 [==============================] - 0s 5ms/step - loss: 31.0326 - mse: 1354.2535\n",
            "Epoch 346/500\n",
            "2/2 [==============================] - 0s 6ms/step - loss: 10.6989 - mse: 251.5773\n",
            "Epoch 347/500\n",
            "2/2 [==============================] - 0s 11ms/step - loss: 25.7343 - mse: 927.1676\n",
            "Epoch 348/500\n",
            "2/2 [==============================] - 0s 8ms/step - loss: 12.8637 - mse: 259.5754\n",
            "Epoch 349/500\n",
            "2/2 [==============================] - 0s 7ms/step - loss: 13.1562 - mse: 249.2290\n",
            "Epoch 350/500\n",
            "2/2 [==============================] - 0s 5ms/step - loss: 15.4313 - mse: 332.9315\n",
            "Epoch 351/500\n",
            "2/2 [==============================] - 0s 6ms/step - loss: 32.9634 - mse: 1524.9329\n",
            "Epoch 352/500\n",
            "2/2 [==============================] - 0s 3ms/step - loss: 14.1986 - mse: 282.6112\n",
            "Epoch 353/500\n",
            "2/2 [==============================] - 0s 4ms/step - loss: 15.9160 - mse: 373.9597\n",
            "Epoch 354/500\n",
            "2/2 [==============================] - 0s 16ms/step - loss: 19.0813 - mse: 534.7463\n",
            "Epoch 355/500\n",
            "2/2 [==============================] - 0s 8ms/step - loss: 34.1370 - mse: 1784.8168\n",
            "Epoch 356/500\n",
            "2/2 [==============================] - 0s 4ms/step - loss: 8.2430 - mse: 108.9752\n",
            "Epoch 357/500\n",
            "2/2 [==============================] - 0s 3ms/step - loss: 21.7224 - mse: 706.9926\n",
            "Epoch 358/500\n",
            "2/2 [==============================] - 0s 4ms/step - loss: 19.8383 - mse: 567.9298\n",
            "Epoch 359/500\n",
            "2/2 [==============================] - 0s 4ms/step - loss: 11.0707 - mse: 288.5103\n",
            "Epoch 360/500\n",
            "2/2 [==============================] - 0s 4ms/step - loss: 20.3356 - mse: 622.0133\n",
            "Epoch 361/500\n",
            "2/2 [==============================] - 0s 3ms/step - loss: 10.8994 - mse: 218.7729\n",
            "Epoch 362/500\n",
            "2/2 [==============================] - 0s 11ms/step - loss: 6.7801 - mse: 77.2142\n",
            "Epoch 363/500\n",
            "2/2 [==============================] - 0s 4ms/step - loss: 23.8593 - mse: 827.6558\n",
            "Epoch 364/500\n",
            "2/2 [==============================] - 0s 4ms/step - loss: 29.5702 - mse: 1268.8014\n",
            "Epoch 365/500\n",
            "2/2 [==============================] - 0s 3ms/step - loss: 8.2665 - mse: 106.7796\n",
            "Epoch 366/500\n",
            "2/2 [==============================] - 0s 4ms/step - loss: 6.0686 - mse: 48.7766\n",
            "Epoch 367/500\n",
            "2/2 [==============================] - 0s 4ms/step - loss: 34.7233 - mse: 1829.0485\n",
            "Epoch 368/500\n",
            "2/2 [==============================] - 0s 11ms/step - loss: 7.3412 - mse: 100.4985\n",
            "Epoch 369/500\n",
            "2/2 [==============================] - 0s 4ms/step - loss: 9.1538 - mse: 127.9612\n",
            "Epoch 370/500\n",
            "2/2 [==============================] - 0s 4ms/step - loss: 10.8544 - mse: 205.3395\n",
            "Epoch 371/500\n",
            "2/2 [==============================] - 0s 5ms/step - loss: 8.9199 - mse: 140.1064\n",
            "Epoch 372/500\n",
            "2/2 [==============================] - 0s 4ms/step - loss: 7.6868 - mse: 141.6684\n",
            "Epoch 373/500\n",
            "2/2 [==============================] - 0s 35ms/step - loss: 25.0877 - mse: 921.4113\n",
            "Epoch 374/500\n",
            "2/2 [==============================] - 0s 31ms/step - loss: 13.1512 - mse: 280.6258\n",
            "Epoch 375/500\n",
            "2/2 [==============================] - 0s 17ms/step - loss: 11.8737 - mse: 213.8291\n",
            "Epoch 376/500\n",
            "2/2 [==============================] - 0s 14ms/step - loss: 14.1561 - mse: 286.3858\n",
            "Epoch 377/500\n",
            "2/2 [==============================] - 0s 12ms/step - loss: 15.7280 - mse: 319.1891\n",
            "Epoch 378/500\n",
            "2/2 [==============================] - 0s 8ms/step - loss: 17.0633 - mse: 465.9794\n",
            "Epoch 379/500\n",
            "2/2 [==============================] - 0s 14ms/step - loss: 19.3442 - mse: 534.3576\n",
            "Epoch 380/500\n",
            "2/2 [==============================] - 0s 12ms/step - loss: 15.6960 - mse: 385.1127\n",
            "Epoch 381/500\n",
            "2/2 [==============================] - 0s 22ms/step - loss: 11.4719 - mse: 217.2452\n",
            "Epoch 382/500\n",
            "2/2 [==============================] - 0s 20ms/step - loss: 16.3436 - mse: 357.3980\n",
            "Epoch 383/500\n",
            "2/2 [==============================] - 0s 22ms/step - loss: 22.1107 - mse: 753.9284\n",
            "Epoch 384/500\n",
            "2/2 [==============================] - 0s 22ms/step - loss: 7.7105 - mse: 82.4595\n",
            "Epoch 385/500\n",
            "2/2 [==============================] - 0s 13ms/step - loss: 10.6118 - mse: 273.1005\n",
            "Epoch 386/500\n",
            "2/2 [==============================] - 0s 11ms/step - loss: 19.1051 - mse: 571.1637\n",
            "Epoch 387/500\n",
            "2/2 [==============================] - 0s 6ms/step - loss: 26.4671 - mse: 1021.8895\n",
            "Epoch 388/500\n",
            "2/2 [==============================] - 0s 11ms/step - loss: 10.0792 - mse: 173.8792\n",
            "Epoch 389/500\n",
            "2/2 [==============================] - 0s 10ms/step - loss: 5.1517 - mse: 40.2209\n",
            "Epoch 390/500\n",
            "2/2 [==============================] - 0s 21ms/step - loss: 18.8077 - mse: 512.3062\n",
            "Epoch 391/500\n",
            "2/2 [==============================] - 0s 15ms/step - loss: 9.3263 - mse: 261.1057\n",
            "Epoch 392/500\n",
            "2/2 [==============================] - 0s 11ms/step - loss: 14.4041 - mse: 326.8085\n",
            "Epoch 393/500\n",
            "2/2 [==============================] - 0s 7ms/step - loss: 15.4075 - mse: 339.5027\n",
            "Epoch 394/500\n",
            "2/2 [==============================] - 0s 34ms/step - loss: 14.7419 - mse: 320.2953\n",
            "Epoch 395/500\n",
            "2/2 [==============================] - 0s 16ms/step - loss: 24.9778 - mse: 883.0529\n",
            "Epoch 396/500\n",
            "2/2 [==============================] - 0s 30ms/step - loss: 19.1388 - mse: 519.4127\n",
            "Epoch 397/500\n",
            "2/2 [==============================] - 0s 56ms/step - loss: 11.5711 - mse: 282.2752\n",
            "Epoch 398/500\n",
            "2/2 [==============================] - 0s 15ms/step - loss: 19.2242 - mse: 580.6860\n",
            "Epoch 399/500\n",
            "2/2 [==============================] - 0s 10ms/step - loss: 25.9351 - mse: 1007.3079\n",
            "Epoch 400/500\n",
            "2/2 [==============================] - 0s 17ms/step - loss: 15.5935 - mse: 351.5402\n",
            "Epoch 401/500\n",
            "2/2 [==============================] - 0s 8ms/step - loss: 14.6526 - mse: 281.9190\n",
            "Epoch 402/500\n",
            "2/2 [==============================] - 0s 5ms/step - loss: 24.2780 - mse: 838.5666\n",
            "Epoch 403/500\n",
            "2/2 [==============================] - 0s 10ms/step - loss: 16.2797 - mse: 391.6414\n",
            "Epoch 404/500\n",
            "2/2 [==============================] - 0s 21ms/step - loss: 10.4337 - mse: 210.6252\n",
            "Epoch 405/500\n",
            "2/2 [==============================] - 0s 8ms/step - loss: 6.3794 - mse: 67.7010\n",
            "Epoch 406/500\n",
            "2/2 [==============================] - 0s 9ms/step - loss: 17.7625 - mse: 475.4213\n",
            "Epoch 407/500\n",
            "2/2 [==============================] - 0s 14ms/step - loss: 11.0234 - mse: 261.4662\n",
            "Epoch 408/500\n",
            "2/2 [==============================] - 0s 23ms/step - loss: 21.0807 - mse: 679.6839\n",
            "Epoch 409/500\n",
            "2/2 [==============================] - 0s 8ms/step - loss: 30.2958 - mse: 1416.4490\n",
            "Epoch 410/500\n",
            "2/2 [==============================] - 0s 6ms/step - loss: 9.8325 - mse: 241.5133\n",
            "Epoch 411/500\n",
            "2/2 [==============================] - 0s 5ms/step - loss: 14.7097 - mse: 281.2070\n",
            "Epoch 412/500\n",
            "2/2 [==============================] - 0s 9ms/step - loss: 21.4597 - mse: 706.0004\n",
            "Epoch 413/500\n",
            "2/2 [==============================] - 0s 12ms/step - loss: 13.3104 - mse: 272.7267\n",
            "Epoch 414/500\n",
            "2/2 [==============================] - 0s 12ms/step - loss: 7.7989 - mse: 157.4368\n",
            "Epoch 415/500\n",
            "2/2 [==============================] - 0s 11ms/step - loss: 12.2027 - mse: 243.5207\n",
            "Epoch 416/500\n",
            "2/2 [==============================] - 0s 8ms/step - loss: 25.8896 - mse: 931.5198\n",
            "Epoch 417/500\n",
            "2/2 [==============================] - 0s 6ms/step - loss: 15.0039 - mse: 348.6288\n",
            "Epoch 418/500\n",
            "2/2 [==============================] - 0s 13ms/step - loss: 12.7948 - mse: 236.1382\n",
            "Epoch 419/500\n",
            "2/2 [==============================] - 0s 7ms/step - loss: 15.8623 - mse: 372.9520\n",
            "Epoch 420/500\n",
            "2/2 [==============================] - 0s 12ms/step - loss: 24.7144 - mse: 847.3392\n",
            "Epoch 421/500\n",
            "2/2 [==============================] - 0s 4ms/step - loss: 17.5656 - mse: 454.6816\n",
            "Epoch 422/500\n",
            "2/2 [==============================] - 0s 6ms/step - loss: 8.7163 - mse: 189.0645\n",
            "Epoch 423/500\n",
            "2/2 [==============================] - 0s 10ms/step - loss: 24.9130 - mse: 877.7567\n",
            "Epoch 424/500\n",
            "2/2 [==============================] - 0s 11ms/step - loss: 16.1225 - mse: 405.5086\n",
            "Epoch 425/500\n",
            "2/2 [==============================] - 0s 5ms/step - loss: 7.4654 - mse: 81.1298\n",
            "Epoch 426/500\n",
            "2/2 [==============================] - 0s 4ms/step - loss: 21.5441 - mse: 643.0426\n",
            "Epoch 427/500\n",
            "2/2 [==============================] - 0s 5ms/step - loss: 6.6520 - mse: 81.7296\n",
            "Epoch 428/500\n",
            "2/2 [==============================] - 0s 21ms/step - loss: 13.8155 - mse: 308.8628\n",
            "Epoch 429/500\n",
            "2/2 [==============================] - 0s 7ms/step - loss: 11.7674 - mse: 222.2958\n",
            "Epoch 430/500\n",
            "2/2 [==============================] - 0s 27ms/step - loss: 10.5095 - mse: 219.1997\n",
            "Epoch 431/500\n",
            "2/2 [==============================] - 0s 4ms/step - loss: 12.0563 - mse: 268.6875\n",
            "Epoch 432/500\n",
            "2/2 [==============================] - 0s 4ms/step - loss: 7.6051 - mse: 90.6651\n",
            "Epoch 433/500\n",
            "2/2 [==============================] - 0s 9ms/step - loss: 14.8279 - mse: 344.4597\n",
            "Epoch 434/500\n",
            "2/2 [==============================] - 0s 12ms/step - loss: 17.9457 - mse: 468.9523\n",
            "Epoch 435/500\n",
            "2/2 [==============================] - 0s 4ms/step - loss: 9.7130 - mse: 251.5823\n",
            "Epoch 436/500\n",
            "2/2 [==============================] - 0s 10ms/step - loss: 29.1169 - mse: 1233.7072\n",
            "Epoch 437/500\n",
            "2/2 [==============================] - 0s 15ms/step - loss: 9.2796 - mse: 229.0429\n",
            "Epoch 438/500\n",
            "2/2 [==============================] - 0s 5ms/step - loss: 12.6930 - mse: 274.3316\n",
            "Epoch 439/500\n",
            "2/2 [==============================] - 0s 4ms/step - loss: 33.5526 - mse: 1559.1389\n",
            "Epoch 440/500\n",
            "2/2 [==============================] - 0s 7ms/step - loss: 14.9204 - mse: 288.0505\n",
            "Epoch 441/500\n",
            "2/2 [==============================] - 0s 6ms/step - loss: 17.3505 - mse: 473.9814\n",
            "Epoch 442/500\n",
            "2/2 [==============================] - 0s 9ms/step - loss: 22.0312 - mse: 735.8333\n",
            "Epoch 443/500\n",
            "2/2 [==============================] - 0s 14ms/step - loss: 24.2373 - mse: 831.1008\n",
            "Epoch 444/500\n",
            "2/2 [==============================] - 0s 4ms/step - loss: 11.5245 - mse: 217.6527\n",
            "Epoch 445/500\n",
            "2/2 [==============================] - 0s 4ms/step - loss: 14.7614 - mse: 307.9103\n",
            "Epoch 446/500\n",
            "2/2 [==============================] - 0s 4ms/step - loss: 17.7724 - mse: 501.6469\n",
            "Epoch 447/500\n",
            "2/2 [==============================] - 0s 4ms/step - loss: 5.6770 - mse: 52.1622\n",
            "Epoch 448/500\n",
            "2/2 [==============================] - 0s 4ms/step - loss: 9.5166 - mse: 234.8879\n",
            "Epoch 449/500\n",
            "2/2 [==============================] - 0s 4ms/step - loss: 14.1783 - mse: 281.9759\n",
            "Epoch 450/500\n",
            "2/2 [==============================] - 0s 11ms/step - loss: 16.9440 - mse: 436.4640\n",
            "Epoch 451/500\n",
            "2/2 [==============================] - 0s 5ms/step - loss: 14.3605 - mse: 311.0169\n",
            "Epoch 452/500\n",
            "2/2 [==============================] - 0s 9ms/step - loss: 30.7707 - mse: 1342.0834\n",
            "Epoch 453/500\n",
            "2/2 [==============================] - 0s 8ms/step - loss: 8.4148 - mse: 195.2588\n",
            "Epoch 454/500\n",
            "2/2 [==============================] - 0s 5ms/step - loss: 27.6925 - mse: 1071.5127\n",
            "Epoch 455/500\n",
            "2/2 [==============================] - 0s 16ms/step - loss: 9.8312 - mse: 187.7354\n",
            "Epoch 456/500\n",
            "2/2 [==============================] - 0s 4ms/step - loss: 14.6270 - mse: 289.7393\n",
            "Epoch 457/500\n",
            "2/2 [==============================] - 0s 4ms/step - loss: 17.7890 - mse: 483.4682\n",
            "Epoch 458/500\n",
            "2/2 [==============================] - 0s 4ms/step - loss: 14.0619 - mse: 269.8937\n",
            "Epoch 459/500\n",
            "2/2 [==============================] - 0s 5ms/step - loss: 26.0022 - mse: 975.4780\n",
            "Epoch 460/500\n",
            "2/2 [==============================] - 0s 4ms/step - loss: 14.7843 - mse: 326.8496\n",
            "Epoch 461/500\n",
            "2/2 [==============================] - 0s 6ms/step - loss: 12.0183 - mse: 263.0505\n",
            "Epoch 462/500\n",
            "2/2 [==============================] - 0s 8ms/step - loss: 13.3071 - mse: 244.8638\n",
            "Epoch 463/500\n",
            "2/2 [==============================] - 0s 18ms/step - loss: 29.5312 - mse: 1218.3020\n",
            "Epoch 464/500\n",
            "2/2 [==============================] - 0s 7ms/step - loss: 3.4591 - mse: 22.1119\n",
            "Epoch 465/500\n",
            "2/2 [==============================] - 0s 11ms/step - loss: 15.1962 - mse: 351.4819\n",
            "Epoch 466/500\n",
            "2/2 [==============================] - 0s 13ms/step - loss: 20.7925 - mse: 649.1942\n",
            "Epoch 467/500\n",
            "2/2 [==============================] - 0s 5ms/step - loss: 30.6246 - mse: 1432.6095\n",
            "Epoch 468/500\n",
            "2/2 [==============================] - 0s 4ms/step - loss: 11.1070 - mse: 236.7167\n",
            "Epoch 469/500\n",
            "2/2 [==============================] - 0s 6ms/step - loss: 12.9014 - mse: 279.7795\n",
            "Epoch 470/500\n",
            "2/2 [==============================] - 0s 4ms/step - loss: 3.5627 - mse: 18.5622\n",
            "Epoch 471/500\n",
            "2/2 [==============================] - 0s 14ms/step - loss: 42.0638 - mse: 2705.0413\n",
            "Epoch 472/500\n",
            "2/2 [==============================] - 0s 19ms/step - loss: 4.6053 - mse: 46.6731\n",
            "Epoch 473/500\n",
            "2/2 [==============================] - 0s 8ms/step - loss: 18.4567 - mse: 529.2546\n",
            "Epoch 474/500\n",
            "2/2 [==============================] - 0s 12ms/step - loss: 41.5628 - mse: 2717.0259\n",
            "Epoch 475/500\n",
            "2/2 [==============================] - 0s 6ms/step - loss: 17.5718 - mse: 440.8023\n",
            "Epoch 476/500\n",
            "2/2 [==============================] - 0s 6ms/step - loss: 13.2544 - mse: 243.4643\n",
            "Epoch 477/500\n",
            "2/2 [==============================] - 0s 6ms/step - loss: 29.3734 - mse: 1206.4413\n",
            "Epoch 478/500\n",
            "2/2 [==============================] - 0s 5ms/step - loss: 5.6482 - mse: 74.7709\n",
            "Epoch 479/500\n",
            "2/2 [==============================] - 0s 9ms/step - loss: 7.8072 - mse: 183.1379\n",
            "Epoch 480/500\n",
            "2/2 [==============================] - 0s 11ms/step - loss: 18.4698 - mse: 530.9239\n",
            "Epoch 481/500\n",
            "2/2 [==============================] - 0s 7ms/step - loss: 16.3174 - mse: 405.9012\n",
            "Epoch 482/500\n",
            "2/2 [==============================] - 0s 26ms/step - loss: 15.1087 - mse: 353.1798\n",
            "Epoch 483/500\n",
            "2/2 [==============================] - 0s 25ms/step - loss: 20.6300 - mse: 639.3577\n",
            "Epoch 484/500\n",
            "2/2 [==============================] - 0s 8ms/step - loss: 34.8879 - mse: 1855.5238\n",
            "Epoch 485/500\n",
            "2/2 [==============================] - 0s 8ms/step - loss: 13.6770 - mse: 303.0330\n",
            "Epoch 486/500\n",
            "2/2 [==============================] - 0s 8ms/step - loss: 7.3646 - mse: 109.6690\n",
            "Epoch 487/500\n",
            "2/2 [==============================] - 0s 12ms/step - loss: 6.4212 - mse: 68.4843\n",
            "Epoch 488/500\n",
            "2/2 [==============================] - 0s 4ms/step - loss: 31.2173 - mse: 1437.8859\n",
            "Epoch 489/500\n",
            "2/2 [==============================] - 0s 4ms/step - loss: 12.2965 - mse: 237.3114\n",
            "Epoch 490/500\n",
            "2/2 [==============================] - 0s 4ms/step - loss: 12.9182 - mse: 249.3195\n",
            "Epoch 491/500\n",
            "2/2 [==============================] - 0s 5ms/step - loss: 23.9857 - mse: 860.0618\n",
            "Epoch 492/500\n",
            "2/2 [==============================] - 0s 15ms/step - loss: 19.6227 - mse: 542.8209\n",
            "Epoch 493/500\n",
            "2/2 [==============================] - 0s 4ms/step - loss: 4.7966 - mse: 50.6428\n",
            "Epoch 494/500\n",
            "2/2 [==============================] - 0s 6ms/step - loss: 12.0276 - mse: 225.7409\n",
            "Epoch 495/500\n",
            "2/2 [==============================] - 0s 5ms/step - loss: 13.6991 - mse: 252.4147\n",
            "Epoch 496/500\n",
            "2/2 [==============================] - 0s 6ms/step - loss: 12.8986 - mse: 242.5773\n",
            "Epoch 497/500\n",
            "2/2 [==============================] - 0s 7ms/step - loss: 18.0246 - mse: 534.5608\n",
            "Epoch 498/500\n",
            "2/2 [==============================] - 0s 7ms/step - loss: 22.6500 - mse: 748.7136\n",
            "Epoch 499/500\n",
            "2/2 [==============================] - 0s 4ms/step - loss: 8.5478 - mse: 115.9364\n",
            "Epoch 500/500\n",
            "2/2 [==============================] - 0s 4ms/step - loss: 14.4578 - mse: 279.1795\n"
          ]
        },
        {
          "output_type": "execute_result",
          "data": {
            "text/plain": [
              "<keras.callbacks.History at 0x7fd9a1fd7400>"
            ]
          },
          "metadata": {},
          "execution_count": 47
        }
      ]
    },
    {
      "cell_type": "code",
      "source": [
        "y_preds_3 = model_3.predict(X_test)\n",
        "plot_prediction(predictions=y_preds_3)"
      ],
      "metadata": {
        "colab": {
          "base_uri": "https://localhost:8080/",
          "height": 483
        },
        "id": "sMoKjTEV-nE6",
        "outputId": "c4617cc3-0330-4b0e-b124-fe62044eadfa"
      },
      "execution_count": 48,
      "outputs": [
        {
          "output_type": "stream",
          "name": "stderr",
          "text": [
            "WARNING:tensorflow:6 out of the last 6 calls to <function Model.make_predict_function.<locals>.predict_function at 0x7fd9a1ff8e50> triggered tf.function retracing. Tracing is expensive and the excessive number of tracings could be due to (1) creating @tf.function repeatedly in a loop, (2) passing tensors with different shapes, (3) passing Python objects instead of tensors. For (1), please define your @tf.function outside of the loop. For (2), @tf.function has reduce_retracing=True option that can avoid unnecessary retracing. For (3), please refer to https://www.tensorflow.org/guide/function#controlling_retracing and https://www.tensorflow.org/api_docs/python/tf/function for  more details.\n"
          ]
        },
        {
          "output_type": "stream",
          "name": "stdout",
          "text": [
            "1/1 [==============================] - 0s 79ms/step\n"
          ]
        },
        {
          "output_type": "display_data",
          "data": {
            "text/plain": [
              "<Figure size 720x504 with 1 Axes>"
            ],
            "image/png": "[encoded data removed]"
          },
          "metadata": {
            "needs_background": "light"
          }
        }
      ]
    },
    {
      "cell_type": "code",
      "source": [
        "mae_3 = mae(y_pred=y_preds_3)\n",
        "mse_3 = mse(y_pred=y_preds_3)\n",
        "mae_3, mse_3"
      ],
      "metadata": {
        "colab": {
          "base_uri": "https://localhost:8080/"
        },
        "id": "C7TXttsz-u7I",
        "outputId": "a5e417b1-ed48-49f3-e910-198889b14591"
      },
      "execution_count": 49,
      "outputs": [
        {
          "output_type": "execute_result",
          "data": {
            "text/plain": [
              "(<tf.Tensor: shape=(), dtype=float32, numpy=68.149315>,\n",
              " <tf.Tensor: shape=(), dtype=float32, numpy=4729.35>)"
            ]
          },
          "metadata": {},
          "execution_count": 49
        }
      ]
    },
    {
      "cell_type": "markdown",
      "source": [
        "### Comparing the results of our experiments\n",
        "Time to compare results "
      ],
      "metadata": {
        "id": "3XoYmAdv-4Cw"
      }
    },
    {
      "cell_type": "code",
      "source": [
        "# compare our results using a pandas dataframe\n",
        "import pandas as pd\n",
        "\n",
        "model_results = [[\"model_1\", mae_1.numpy(), mse_1.numpy()],\n",
        "                 [\"model_2\", mae_2.numpy(), mse_2.numpy()],\n",
        "                 [\"model_3\", mae_3.numpy(), mse_3.numpy()]]\n",
        "all_results = pd.DataFrame(model_results, columns=[\"model\", \"mae\", \"mse\"])\n",
        "all_results"
      ],
      "metadata": {
        "colab": {
          "base_uri": "https://localhost:8080/",
          "height": 143
        },
        "id": "UnKakPLt_3kQ",
        "outputId": "6bf04b57-ceec-4350-a23a-b1725bbe4054"
      },
      "execution_count": 50,
      "outputs": [
        {
          "output_type": "execute_result",
          "data": {
            "text/plain": [
              "     model        mae          mse\n",
              "0  model_1  18.745327   353.573364\n",
              "1  model_2   3.196940    13.070127\n",
              "2  model_3  68.149315  4729.350098"
            ],
            "text/html": [
              "\n",
              "  <div id=\"df-35aa4a15-209f-42dd-9aaf-d6b8da824b7d\">\n",
              "    <div class=\"colab-df-container\">\n",
              "      <div>\n",
              "<style scoped>\n",
              "    .dataframe tbody tr th:only-of-type {\n",
              "        vertical-align: middle;\n",
              "    }\n",
              "\n",
              "    .dataframe tbody tr th {\n",
              "        vertical-align: top;\n",
              "    }\n",
              "\n",
              "    .dataframe thead th {\n",
              "        text-align: right;\n",
              "    }\n",
              "</style>\n",
              "<table border=\"1\" class=\"dataframe\">\n",
              "  <thead>\n",
              "    <tr style=\"text-align: right;\">\n",
              "      <th></th>\n",
              "      <th>model</th>\n",
              "      <th>mae</th>\n",
              "      <th>mse</th>\n",
              "    </tr>\n",
              "  </thead>\n",
              "  <tbody>\n",
              "    <tr>\n",
              "      <th>0</th>\n",
              "      <td>model_1</td>\n",
              "      <td>18.745327</td>\n",
              "      <td>353.573364</td>\n",
              "    </tr>\n",
              "    <tr>\n",
              "      <th>1</th>\n",
              "      <td>model_2</td>\n",
              "      <td>3.196940</td>\n",
              "      <td>13.070127</td>\n",
              "    </tr>\n",
              "    <tr>\n",
              "      <th>2</th>\n",
              "      <td>model_3</td>\n",
              "      <td>68.149315</td>\n",
              "      <td>4729.350098</td>\n",
              "    </tr>\n",
              "  </tbody>\n",
              "</table>\n",
              "</div>\n",
              "      <button class=\"colab-df-convert\" onclick=\"convertToInteractive('df-35aa4a15-209f-42dd-9aaf-d6b8da824b7d')\"\n",
              "              title=\"Convert this dataframe to an interactive table.\"\n",
              "              style=\"display:none;\">\n",
              "        \n",
              "  <svg xmlns=\"http://www.w3.org/2000/svg\" height=\"24px\"viewBox=\"0 0 24 24\"\n",
              "       width=\"24px\">\n",
              "    <path d=\"M0 0h24v24H0V0z\" fill=\"none\"/>\n",
              "    <path d=\"M18.56 5.44l.94 2.06.94-2.06 2.06-.94-2.06-.94-.94-2.06-.94 2.06-2.06.94zm-11 1L8.5 8.5l.94-2.06 2.06-.94-2.06-.94L8.5 2.5l-.94 2.06-2.06.94zm10 10l.94 2.06.94-2.06 2.06-.94-2.06-.94-.94-2.06-.94 2.06-2.06.94z\"/><path d=\"M17.41 7.96l-1.37-1.37c-.4-.4-.92-.59-1.43-.59-.52 0-1.04.2-1.43.59L10.3 9.45l-7.72 7.72c-.78.78-.78 2.05 0 2.83L4 21.41c.39.39.9.59 1.41.59.51 0 1.02-.2 1.41-.59l7.78-7.78 2.81-2.81c.8-.78.8-2.07 0-2.86zM5.41 20L4 18.59l7.72-7.72 1.47 1.35L5.41 20z\"/>\n",
              "  </svg>\n",
              "      </button>\n",
              "      \n",
              "  <style>\n",
              "    .colab-df-container {\n",
              "      display:flex;\n",
              "      flex-wrap:wrap;\n",
              "      gap: 12px;\n",
              "    }\n",
              "\n",
              "    .colab-df-convert {\n",
              "      background-color: #E8F0FE;\n",
              "      border: none;\n",
              "      border-radius: 50%;\n",
              "      cursor: pointer;\n",
              "      display: none;\n",
              "      fill: #1967D2;\n",
              "      height: 32px;\n",
              "      padding: 0 0 0 0;\n",
              "      width: 32px;\n",
              "    }\n",
              "\n",
              "    .colab-df-convert:hover {\n",
              "      background-color: #E2EBFA;\n",
              "      box-shadow: 0px 1px 2px rgba(60, 64, 67, 0.3), 0px 1px 3px 1px rgba(60, 64, 67, 0.15);\n",
              "      fill: #174EA6;\n",
              "    }\n",
              "\n",
              "    [theme=dark] .colab-df-convert {\n",
              "      background-color: #3B4455;\n",
              "      fill: #D2E3FC;\n",
              "    }\n",
              "\n",
              "    [theme=dark] .colab-df-convert:hover {\n",
              "      background-color: #434B5C;\n",
              "      box-shadow: 0px 1px 3px 1px rgba(0, 0, 0, 0.15);\n",
              "      filter: drop-shadow(0px 1px 2px rgba(0, 0, 0, 0.3));\n",
              "      fill: #FFFFFF;\n",
              "    }\n",
              "  </style>\n",
              "\n",
              "      <script>\n",
              "        const buttonEl =\n",
              "          document.querySelector('#df-35aa4a15-209f-42dd-9aaf-d6b8da824b7d button.colab-df-convert');\n",
              "        buttonEl.style.display =\n",
              "          google.colab.kernel.accessAllowed ? 'block' : 'none';\n",
              "\n",
              "        async function convertToInteractive(key) {\n",
              "          const element = document.querySelector('#df-35aa4a15-209f-42dd-9aaf-d6b8da824b7d');\n",
              "          const dataTable =\n",
              "            await google.colab.kernel.invokeFunction('convertToInteractive',\n",
              "                                                     [key], {});\n",
              "          if (!dataTable) return;\n",
              "\n",
              "          const docLinkHtml = 'Like what you see? Visit the ' +\n",
              "            '<a target=\"_blank\" href=https://colab.research.google.com/notebooks/data_table.ipynb>data table notebook</a>'\n",
              "            + ' to learn more about interactive tables.';\n",
              "          element.innerHTML = '';\n",
              "          dataTable['output_type'] = 'display_data';\n",
              "          await google.colab.output.renderOutput(dataTable, element);\n",
              "          const docLink = document.createElement('div');\n",
              "          docLink.innerHTML = docLinkHtml;\n",
              "          element.appendChild(docLink);\n",
              "        }\n",
              "      </script>\n",
              "    </div>\n",
              "  </div>\n",
              "  "
            ]
          },
          "metadata": {},
          "execution_count": 50
        }
      ]
    },
    {
      "cell_type": "markdown",
      "source": [
        "Looks like `model_2` performed the best"
      ],
      "metadata": {
        "id": "gnmEMWZkAJJ4"
      }
    },
    {
      "cell_type": "code",
      "source": [
        "model_2.summary()"
      ],
      "metadata": {
        "colab": {
          "base_uri": "https://localhost:8080/"
        },
        "id": "ZyRmVzCj_4T3",
        "outputId": "015e77bd-b98b-4be8-825f-c7c0f8b010b4"
      },
      "execution_count": 51,
      "outputs": [
        {
          "output_type": "stream",
          "name": "stdout",
          "text": [
            "Model: \"sequential_4\"\n",
            "_________________________________________________________________\n",
            " Layer (type)                Output Shape              Param #   \n",
            "=================================================================\n",
            " dense_5 (Dense)             (None, 10)                20        \n",
            "                                                                 \n",
            " dense_6 (Dense)             (None, 1)                 11        \n",
            "                                                                 \n",
            "=================================================================\n",
            "Total params: 31\n",
            "Trainable params: 31\n",
            "Non-trainable params: 0\n",
            "_________________________________________________________________\n"
          ]
        }
      ]
    },
    {
      "cell_type": "markdown",
      "source": [
        "**Note:** One of the main goals should be to minimize the time between your experiments the more expierments you do, the more things youll figure out which dont work and in, get  closer to figuring our what does work."
      ],
      "metadata": {
        "id": "qtOneVlhAPR4"
      }
    },
    {
      "cell_type": "markdown",
      "source": [
        "## Tracking your experiments \n",
        "One really good habit in ML Modeling is to track results of experiments.\n",
        "\n",
        "And when doing so it can be tedious if volume of experiments is high\n",
        "\n",
        "There are tools to helps us with this\n",
        "\n",
        "**Resource:** As you build more models you'll want to look into using:\n",
        "\n",
        "* TensorBoard - a component of the TensorFlow library to help track modelling experiments\n",
        "* Weights & Biases - a toool for tracking all kinds of machine learning experiments (plugs straight into TensorBoard)\n"
      ],
      "metadata": {
        "id": "3DnylUorAciN"
      }
    },
    {
      "cell_type": "markdown",
      "source": [
        "## Saving our models\n",
        "\n",
        "Saving our models allows us to use them outside of Google Colab (or whereever they were trained) such as for a Web App or Mobile App\n",
        "\n",
        "There are two main formats we can save our model's too:\n",
        "\n",
        "1. The SavedModel format\n",
        "2. The HDF5 format"
      ],
      "metadata": {
        "id": "VCzpJ-QEBJ3J"
      }
    },
    {
      "cell_type": "code",
      "source": [
        "# Save model using the SavedModel format\n",
        "model_2.save(\"Predicting_Number_Model\")"
      ],
      "metadata": {
        "id": "O6AoFkFZBadA"
      },
      "execution_count": 52,
      "outputs": []
    },
    {
      "cell_type": "code",
      "source": [
        "# Save using the HDF5 standard\n",
        "model_2.save(\"Predicting_Number_Model.h5\")"
      ],
      "metadata": {
        "id": "9UbmhEEqCnyC"
      },
      "execution_count": 53,
      "outputs": []
    },
    {
      "cell_type": "markdown",
      "source": [
        "### Loading in a saved model"
      ],
      "metadata": {
        "id": "sCMpvLG1DQ0v"
      }
    },
    {
      "cell_type": "code",
      "source": [
        "# Load in the SavedModel format model\n",
        "loaded_SavedModel_format = tf.keras.models.load_model('/content/Predicting_Number_Model')\n",
        "loaded_SavedModel_format.summary()"
      ],
      "metadata": {
        "colab": {
          "base_uri": "https://localhost:8080/"
        },
        "id": "g5COQH8DB4-d",
        "outputId": "3e283894-2775-472b-da08-b4273cc1ecf8"
      },
      "execution_count": 55,
      "outputs": [
        {
          "output_type": "stream",
          "name": "stdout",
          "text": [
            "Model: \"sequential_4\"\n",
            "_________________________________________________________________\n",
            " Layer (type)                Output Shape              Param #   \n",
            "=================================================================\n",
            " dense_5 (Dense)             (None, 10)                20        \n",
            "                                                                 \n",
            " dense_6 (Dense)             (None, 1)                 11        \n",
            "                                                                 \n",
            "=================================================================\n",
            "Total params: 31\n",
            "Trainable params: 31\n",
            "Non-trainable params: 0\n",
            "_________________________________________________________________\n"
          ]
        }
      ]
    },
    {
      "cell_type": "code",
      "source": [
        "model_2.summary() # Checking it is the same as the model we just loaded in"
      ],
      "metadata": {
        "colab": {
          "base_uri": "https://localhost:8080/"
        },
        "id": "6C48fXudCX22",
        "outputId": "3549e0ad-a883-439f-91a1-9ffb9e9fa7b2"
      },
      "execution_count": 56,
      "outputs": [
        {
          "output_type": "stream",
          "name": "stdout",
          "text": [
            "Model: \"sequential_4\"\n",
            "_________________________________________________________________\n",
            " Layer (type)                Output Shape              Param #   \n",
            "=================================================================\n",
            " dense_5 (Dense)             (None, 10)                20        \n",
            "                                                                 \n",
            " dense_6 (Dense)             (None, 1)                 11        \n",
            "                                                                 \n",
            "=================================================================\n",
            "Total params: 31\n",
            "Trainable params: 31\n",
            "Non-trainable params: 0\n",
            "_________________________________________________________________\n"
          ]
        }
      ]
    },
    {
      "cell_type": "code",
      "source": [
        "pred_1 = model_2.predict(X_test)\n",
        "pred_2 = loaded_SavedModel_format.predict(X_test)\n",
        "\n",
        "pred_1 == pred_2 # Confirming they are predicting the same numbers"
      ],
      "metadata": {
        "colab": {
          "base_uri": "https://localhost:8080/"
        },
        "id": "hT4EBwHJCdke",
        "outputId": "a56e0590-d79d-42b7-97cf-beeb870efc52"
      },
      "execution_count": 57,
      "outputs": [
        {
          "output_type": "stream",
          "name": "stdout",
          "text": [
            "1/1 [==============================] - 0s 59ms/step\n",
            "1/1 [==============================] - 0s 185ms/step\n"
          ]
        },
        {
          "output_type": "execute_result",
          "data": {
            "text/plain": [
              "array([[ True],\n",
              "       [ True],\n",
              "       [ True],\n",
              "       [ True],\n",
              "       [ True],\n",
              "       [ True],\n",
              "       [ True],\n",
              "       [ True],\n",
              "       [ True],\n",
              "       [ True]])"
            ]
          },
          "metadata": {},
          "execution_count": 57
        }
      ]
    },
    {
      "cell_type": "code",
      "source": [
        "# Load in a model using h5 format\n",
        "h5_loaded_model = tf.keras.models.load_model('/content/Predicting_Number_Model.h5')\n",
        "h5_loaded_model.summary()"
      ],
      "metadata": {
        "colab": {
          "base_uri": "https://localhost:8080/"
        },
        "id": "X-m9U-YaDe6v",
        "outputId": "71647856-4d3e-4791-988a-6d0daee086f1"
      },
      "execution_count": 59,
      "outputs": [
        {
          "output_type": "stream",
          "name": "stdout",
          "text": [
            "Model: \"sequential_4\"\n",
            "_________________________________________________________________\n",
            " Layer (type)                Output Shape              Param #   \n",
            "=================================================================\n",
            " dense_5 (Dense)             (None, 10)                20        \n",
            "                                                                 \n",
            " dense_6 (Dense)             (None, 1)                 11        \n",
            "                                                                 \n",
            "=================================================================\n",
            "Total params: 31\n",
            "Trainable params: 31\n",
            "Non-trainable params: 0\n",
            "_________________________________________________________________\n"
          ]
        }
      ]
    },
    {
      "cell_type": "code",
      "source": [
        "pred_1 = model_2.predict(X_test)\n",
        "pred_2 = h5_loaded_model.predict(X_test)\n",
        "\n",
        "pred_1 == pred_2 # Confirming they are predicting the same numbers"
      ],
      "metadata": {
        "colab": {
          "base_uri": "https://localhost:8080/"
        },
        "id": "FLyVFwdLDo4d",
        "outputId": "e1c77770-53fa-4d23-c160-58ade2047d88"
      },
      "execution_count": 60,
      "outputs": [
        {
          "output_type": "stream",
          "name": "stdout",
          "text": [
            "1/1 [==============================] - 0s 26ms/step\n",
            "1/1 [==============================] - 0s 65ms/step\n"
          ]
        },
        {
          "output_type": "execute_result",
          "data": {
            "text/plain": [
              "array([[ True],\n",
              "       [ True],\n",
              "       [ True],\n",
              "       [ True],\n",
              "       [ True],\n",
              "       [ True],\n",
              "       [ True],\n",
              "       [ True],\n",
              "       [ True],\n",
              "       [ True]])"
            ]
          },
          "metadata": {},
          "execution_count": 60
        }
      ]
    },
    {
      "cell_type": "markdown",
      "source": [
        "## Download a model (or any other file) from Google Colab \n",
        "\n",
        "If you want to deownload your files from Google Cloab:\n",
        "\n",
        "1. Go to the 'files' tabn anmd right click on the file you want and click \"download\"\n",
        "\n",
        "2. Use code (see the cell below)\n",
        "\n",
        "3. Save it to Google Drive by connecting Google Drive and copying it there. (See 2nd code cell below)"
      ],
      "metadata": {
        "id": "jZJKK9W1EGVV"
      }
    },
    {
      "cell_type": "code",
      "source": [
        "# Downloading a file from Google Colab\n",
        "from google.colab import files\n",
        "files.download(\"/content/Predicting_Number_Model.h5\")"
      ],
      "metadata": {
        "colab": {
          "base_uri": "https://localhost:8080/",
          "height": 17
        },
        "id": "H9lHorKHEfFq",
        "outputId": "c2423ba9-70e6-4af7-86dd-fef09b0f7454"
      },
      "execution_count": 65,
      "outputs": [
        {
          "output_type": "display_data",
          "data": {
            "text/plain": [
              "<IPython.core.display.Javascript object>"
            ],
            "application/javascript": [
              "\n",
              "    async function download(id, filename, size) {\n",
              "      if (!google.colab.kernel.accessAllowed) {\n",
              "        return;\n",
              "      }\n",
              "      const div = document.createElement('div');\n",
              "      const label = document.createElement('label');\n",
              "      label.textContent = `Downloading \"${filename}\": `;\n",
              "      div.appendChild(label);\n",
              "      const progress = document.createElement('progress');\n",
              "      progress.max = size;\n",
              "      div.appendChild(progress);\n",
              "      document.body.appendChild(div);\n",
              "\n",
              "      const buffers = [];\n",
              "      let downloaded = 0;\n",
              "\n",
              "      const channel = await google.colab.kernel.comms.open(id);\n",
              "      // Send a message to notify the kernel that we're ready.\n",
              "      channel.send({})\n",
              "\n",
              "      for await (const message of channel.messages) {\n",
              "        // Send a message to notify the kernel that we're ready.\n",
              "        channel.send({})\n",
              "        if (message.buffers) {\n",
              "          for (const buffer of message.buffers) {\n",
              "            buffers.push(buffer);\n",
              "            downloaded += buffer.byteLength;\n",
              "            progress.value = downloaded;\n",
              "          }\n",
              "        }\n",
              "      }\n",
              "      const blob = new Blob(buffers, {type: 'application/binary'});\n",
              "      const a = document.createElement('a');\n",
              "      a.href = window.URL.createObjectURL(blob);\n",
              "      a.download = filename;\n",
              "      div.appendChild(a);\n",
              "      a.click();\n",
              "      div.remove();\n",
              "    }\n",
              "  "
            ]
          },
          "metadata": {}
        },
        {
          "output_type": "display_data",
          "data": {
            "text/plain": [
              "<IPython.core.display.Javascript object>"
            ],
            "application/javascript": [
              "download(\"download_1eecec31-fb5e-474c-93ec-45bc75582668\", \"Predicting_Number_Model.h5\", 17872)"
            ]
          },
          "metadata": {}
        }
      ]
    },
    {
      "cell_type": "code",
      "source": [
        "# Save a file from Colab to Drive (requires mounting Google Drive)\n",
        "!cp /content/Predicting_Number_Model.h5 /content/drive/MyDrive/Models"
      ],
      "metadata": {
        "id": "BXTULmb5E4LD"
      },
      "execution_count": 71,
      "outputs": []
    },
    {
      "cell_type": "markdown",
      "source": [
        "### A larger example"
      ],
      "metadata": {
        "id": "aVeEdr68GUvo"
      }
    },
    {
      "cell_type": "code",
      "source": [
        "# Import required libraries\n",
        "import tensorflow as tf\n",
        "import pandas as pd\n",
        "import matplotlib.pyplot as plt\n"
      ],
      "metadata": {
        "id": "84vYH8vCGYwi"
      },
      "execution_count": 72,
      "outputs": []
    },
    {
      "cell_type": "code",
      "source": [
        "# Read in the insurance dataset\n",
        "insurance = pd.read_csv(\"https://raw.githubusercontent.com/stedy/Machine-Learning-with-R-datasets/master/insurance.csv\")\n",
        "insurance"
      ],
      "metadata": {
        "colab": {
          "base_uri": "https://localhost:8080/",
          "height": 424
        },
        "id": "aeZ8hbB3HH7b",
        "outputId": "b4456075-1c5d-4b91-e33b-ec257505c964"
      },
      "execution_count": 74,
      "outputs": [
        {
          "output_type": "execute_result",
          "data": {
            "text/plain": [
              "      age     sex     bmi  children smoker     region      charges\n",
              "0      19  female  27.900         0    yes  southwest  16884.92400\n",
              "1      18    male  33.770         1     no  southeast   1725.55230\n",
              "2      28    male  33.000         3     no  southeast   4449.46200\n",
              "3      33    male  22.705         0     no  northwest  21984.47061\n",
              "4      32    male  28.880         0     no  northwest   3866.85520\n",
              "...   ...     ...     ...       ...    ...        ...          ...\n",
              "1333   50    male  30.970         3     no  northwest  10600.54830\n",
              "1334   18  female  31.920         0     no  northeast   2205.98080\n",
              "1335   18  female  36.850         0     no  southeast   1629.83350\n",
              "1336   21  female  25.800         0     no  southwest   2007.94500\n",
              "1337   61  female  29.070         0    yes  northwest  29141.36030\n",
              "\n",
              "[1338 rows x 7 columns]"
            ],
            "text/html": [
              "\n",
              "  <div id=\"df-f1892ff0-e28e-44d8-87f1-f58f33f4f950\">\n",
              "    <div class=\"colab-df-container\">\n",
              "      <div>\n",
              "<style scoped>\n",
              "    .dataframe tbody tr th:only-of-type {\n",
              "        vertical-align: middle;\n",
              "    }\n",
              "\n",
              "    .dataframe tbody tr th {\n",
              "        vertical-align: top;\n",
              "    }\n",
              "\n",
              "    .dataframe thead th {\n",
              "        text-align: right;\n",
              "    }\n",
              "</style>\n",
              "<table border=\"1\" class=\"dataframe\">\n",
              "  <thead>\n",
              "    <tr style=\"text-align: right;\">\n",
              "      <th></th>\n",
              "      <th>age</th>\n",
              "      <th>sex</th>\n",
              "      <th>bmi</th>\n",
              "      <th>children</th>\n",
              "      <th>smoker</th>\n",
              "      <th>region</th>\n",
              "      <th>charges</th>\n",
              "    </tr>\n",
              "  </thead>\n",
              "  <tbody>\n",
              "    <tr>\n",
              "      <th>0</th>\n",
              "      <td>19</td>\n",
              "      <td>female</td>\n",
              "      <td>27.900</td>\n",
              "      <td>0</td>\n",
              "      <td>yes</td>\n",
              "      <td>southwest</td>\n",
              "      <td>16884.92400</td>\n",
              "    </tr>\n",
              "    <tr>\n",
              "      <th>1</th>\n",
              "      <td>18</td>\n",
              "      <td>male</td>\n",
              "      <td>33.770</td>\n",
              "      <td>1</td>\n",
              "      <td>no</td>\n",
              "      <td>southeast</td>\n",
              "      <td>1725.55230</td>\n",
              "    </tr>\n",
              "    <tr>\n",
              "      <th>2</th>\n",
              "      <td>28</td>\n",
              "      <td>male</td>\n",
              "      <td>33.000</td>\n",
              "      <td>3</td>\n",
              "      <td>no</td>\n",
              "      <td>southeast</td>\n",
              "      <td>4449.46200</td>\n",
              "    </tr>\n",
              "    <tr>\n",
              "      <th>3</th>\n",
              "      <td>33</td>\n",
              "      <td>male</td>\n",
              "      <td>22.705</td>\n",
              "      <td>0</td>\n",
              "      <td>no</td>\n",
              "      <td>northwest</td>\n",
              "      <td>21984.47061</td>\n",
              "    </tr>\n",
              "    <tr>\n",
              "      <th>4</th>\n",
              "      <td>32</td>\n",
              "      <td>male</td>\n",
              "      <td>28.880</td>\n",
              "      <td>0</td>\n",
              "      <td>no</td>\n",
              "      <td>northwest</td>\n",
              "      <td>3866.85520</td>\n",
              "    </tr>\n",
              "    <tr>\n",
              "      <th>...</th>\n",
              "      <td>...</td>\n",
              "      <td>...</td>\n",
              "      <td>...</td>\n",
              "      <td>...</td>\n",
              "      <td>...</td>\n",
              "      <td>...</td>\n",
              "      <td>...</td>\n",
              "    </tr>\n",
              "    <tr>\n",
              "      <th>1333</th>\n",
              "      <td>50</td>\n",
              "      <td>male</td>\n",
              "      <td>30.970</td>\n",
              "      <td>3</td>\n",
              "      <td>no</td>\n",
              "      <td>northwest</td>\n",
              "      <td>10600.54830</td>\n",
              "    </tr>\n",
              "    <tr>\n",
              "      <th>1334</th>\n",
              "      <td>18</td>\n",
              "      <td>female</td>\n",
              "      <td>31.920</td>\n",
              "      <td>0</td>\n",
              "      <td>no</td>\n",
              "      <td>northeast</td>\n",
              "      <td>2205.98080</td>\n",
              "    </tr>\n",
              "    <tr>\n",
              "      <th>1335</th>\n",
              "      <td>18</td>\n",
              "      <td>female</td>\n",
              "      <td>36.850</td>\n",
              "      <td>0</td>\n",
              "      <td>no</td>\n",
              "      <td>southeast</td>\n",
              "      <td>1629.83350</td>\n",
              "    </tr>\n",
              "    <tr>\n",
              "      <th>1336</th>\n",
              "      <td>21</td>\n",
              "      <td>female</td>\n",
              "      <td>25.800</td>\n",
              "      <td>0</td>\n",
              "      <td>no</td>\n",
              "      <td>southwest</td>\n",
              "      <td>2007.94500</td>\n",
              "    </tr>\n",
              "    <tr>\n",
              "      <th>1337</th>\n",
              "      <td>61</td>\n",
              "      <td>female</td>\n",
              "      <td>29.070</td>\n",
              "      <td>0</td>\n",
              "      <td>yes</td>\n",
              "      <td>northwest</td>\n",
              "      <td>29141.36030</td>\n",
              "    </tr>\n",
              "  </tbody>\n",
              "</table>\n",
              "<p>1338 rows × 7 columns</p>\n",
              "</div>\n",
              "      <button class=\"colab-df-convert\" onclick=\"convertToInteractive('df-f1892ff0-e28e-44d8-87f1-f58f33f4f950')\"\n",
              "              title=\"Convert this dataframe to an interactive table.\"\n",
              "              style=\"display:none;\">\n",
              "        \n",
              "  <svg xmlns=\"http://www.w3.org/2000/svg\" height=\"24px\"viewBox=\"0 0 24 24\"\n",
              "       width=\"24px\">\n",
              "    <path d=\"M0 0h24v24H0V0z\" fill=\"none\"/>\n",
              "    <path d=\"M18.56 5.44l.94 2.06.94-2.06 2.06-.94-2.06-.94-.94-2.06-.94 2.06-2.06.94zm-11 1L8.5 8.5l.94-2.06 2.06-.94-2.06-.94L8.5 2.5l-.94 2.06-2.06.94zm10 10l.94 2.06.94-2.06 2.06-.94-2.06-.94-.94-2.06-.94 2.06-2.06.94z\"/><path d=\"M17.41 7.96l-1.37-1.37c-.4-.4-.92-.59-1.43-.59-.52 0-1.04.2-1.43.59L10.3 9.45l-7.72 7.72c-.78.78-.78 2.05 0 2.83L4 21.41c.39.39.9.59 1.41.59.51 0 1.02-.2 1.41-.59l7.78-7.78 2.81-2.81c.8-.78.8-2.07 0-2.86zM5.41 20L4 18.59l7.72-7.72 1.47 1.35L5.41 20z\"/>\n",
              "  </svg>\n",
              "      </button>\n",
              "      \n",
              "  <style>\n",
              "    .colab-df-container {\n",
              "      display:flex;\n",
              "      flex-wrap:wrap;\n",
              "      gap: 12px;\n",
              "    }\n",
              "\n",
              "    .colab-df-convert {\n",
              "      background-color: #E8F0FE;\n",
              "      border: none;\n",
              "      border-radius: 50%;\n",
              "      cursor: pointer;\n",
              "      display: none;\n",
              "      fill: #1967D2;\n",
              "      height: 32px;\n",
              "      padding: 0 0 0 0;\n",
              "      width: 32px;\n",
              "    }\n",
              "\n",
              "    .colab-df-convert:hover {\n",
              "      background-color: #E2EBFA;\n",
              "      box-shadow: 0px 1px 2px rgba(60, 64, 67, 0.3), 0px 1px 3px 1px rgba(60, 64, 67, 0.15);\n",
              "      fill: #174EA6;\n",
              "    }\n",
              "\n",
              "    [theme=dark] .colab-df-convert {\n",
              "      background-color: #3B4455;\n",
              "      fill: #D2E3FC;\n",
              "    }\n",
              "\n",
              "    [theme=dark] .colab-df-convert:hover {\n",
              "      background-color: #434B5C;\n",
              "      box-shadow: 0px 1px 3px 1px rgba(0, 0, 0, 0.15);\n",
              "      filter: drop-shadow(0px 1px 2px rgba(0, 0, 0, 0.3));\n",
              "      fill: #FFFFFF;\n",
              "    }\n",
              "  </style>\n",
              "\n",
              "      <script>\n",
              "        const buttonEl =\n",
              "          document.querySelector('#df-f1892ff0-e28e-44d8-87f1-f58f33f4f950 button.colab-df-convert');\n",
              "        buttonEl.style.display =\n",
              "          google.colab.kernel.accessAllowed ? 'block' : 'none';\n",
              "\n",
              "        async function convertToInteractive(key) {\n",
              "          const element = document.querySelector('#df-f1892ff0-e28e-44d8-87f1-f58f33f4f950');\n",
              "          const dataTable =\n",
              "            await google.colab.kernel.invokeFunction('convertToInteractive',\n",
              "                                                     [key], {});\n",
              "          if (!dataTable) return;\n",
              "\n",
              "          const docLinkHtml = 'Like what you see? Visit the ' +\n",
              "            '<a target=\"_blank\" href=https://colab.research.google.com/notebooks/data_table.ipynb>data table notebook</a>'\n",
              "            + ' to learn more about interactive tables.';\n",
              "          element.innerHTML = '';\n",
              "          dataTable['output_type'] = 'display_data';\n",
              "          await google.colab.output.renderOutput(dataTable, element);\n",
              "          const docLink = document.createElement('div');\n",
              "          docLink.innerHTML = docLinkHtml;\n",
              "          element.appendChild(docLink);\n",
              "        }\n",
              "      </script>\n",
              "    </div>\n",
              "  </div>\n",
              "  "
            ]
          },
          "metadata": {},
          "execution_count": 74
        }
      ]
    },
    {
      "cell_type": "code",
      "source": [
        "# One-hot encoding our dataframe to make it all numerical\n",
        "insurance = pd.get_dummies(insurance)\n",
        "insurance.head()"
      ],
      "metadata": {
        "colab": {
          "base_uri": "https://localhost:8080/",
          "height": 270
        },
        "id": "YwH9oYwvHo_U",
        "outputId": "55c4f00b-4c3b-434a-a445-5f4f55c66004"
      },
      "execution_count": 79,
      "outputs": [
        {
          "output_type": "execute_result",
          "data": {
            "text/plain": [
              "   age     bmi  children      charges  sex_female  sex_male  smoker_no  \\\n",
              "0   19  27.900         0  16884.92400           1         0          0   \n",
              "1   18  33.770         1   1725.55230           0         1          1   \n",
              "2   28  33.000         3   4449.46200           0         1          1   \n",
              "3   33  22.705         0  21984.47061           0         1          1   \n",
              "4   32  28.880         0   3866.85520           0         1          1   \n",
              "\n",
              "   smoker_yes  region_northeast  region_northwest  region_southeast  \\\n",
              "0           1                 0                 0                 0   \n",
              "1           0                 0                 0                 1   \n",
              "2           0                 0                 0                 1   \n",
              "3           0                 0                 1                 0   \n",
              "4           0                 0                 1                 0   \n",
              "\n",
              "   region_southwest  \n",
              "0                 1  \n",
              "1                 0  \n",
              "2                 0  \n",
              "3                 0  \n",
              "4                 0  "
            ],
            "text/html": [
              "\n",
              "  <div id=\"df-ef2e7a57-fe20-4b73-8067-c338592ebac5\">\n",
              "    <div class=\"colab-df-container\">\n",
              "      <div>\n",
              "<style scoped>\n",
              "    .dataframe tbody tr th:only-of-type {\n",
              "        vertical-align: middle;\n",
              "    }\n",
              "\n",
              "    .dataframe tbody tr th {\n",
              "        vertical-align: top;\n",
              "    }\n",
              "\n",
              "    .dataframe thead th {\n",
              "        text-align: right;\n",
              "    }\n",
              "</style>\n",
              "<table border=\"1\" class=\"dataframe\">\n",
              "  <thead>\n",
              "    <tr style=\"text-align: right;\">\n",
              "      <th></th>\n",
              "      <th>age</th>\n",
              "      <th>bmi</th>\n",
              "      <th>children</th>\n",
              "      <th>charges</th>\n",
              "      <th>sex_female</th>\n",
              "      <th>sex_male</th>\n",
              "      <th>smoker_no</th>\n",
              "      <th>smoker_yes</th>\n",
              "      <th>region_northeast</th>\n",
              "      <th>region_northwest</th>\n",
              "      <th>region_southeast</th>\n",
              "      <th>region_southwest</th>\n",
              "    </tr>\n",
              "  </thead>\n",
              "  <tbody>\n",
              "    <tr>\n",
              "      <th>0</th>\n",
              "      <td>19</td>\n",
              "      <td>27.900</td>\n",
              "      <td>0</td>\n",
              "      <td>16884.92400</td>\n",
              "      <td>1</td>\n",
              "      <td>0</td>\n",
              "      <td>0</td>\n",
              "      <td>1</td>\n",
              "      <td>0</td>\n",
              "      <td>0</td>\n",
              "      <td>0</td>\n",
              "      <td>1</td>\n",
              "    </tr>\n",
              "    <tr>\n",
              "      <th>1</th>\n",
              "      <td>18</td>\n",
              "      <td>33.770</td>\n",
              "      <td>1</td>\n",
              "      <td>1725.55230</td>\n",
              "      <td>0</td>\n",
              "      <td>1</td>\n",
              "      <td>1</td>\n",
              "      <td>0</td>\n",
              "      <td>0</td>\n",
              "      <td>0</td>\n",
              "      <td>1</td>\n",
              "      <td>0</td>\n",
              "    </tr>\n",
              "    <tr>\n",
              "      <th>2</th>\n",
              "      <td>28</td>\n",
              "      <td>33.000</td>\n",
              "      <td>3</td>\n",
              "      <td>4449.46200</td>\n",
              "      <td>0</td>\n",
              "      <td>1</td>\n",
              "      <td>1</td>\n",
              "      <td>0</td>\n",
              "      <td>0</td>\n",
              "      <td>0</td>\n",
              "      <td>1</td>\n",
              "      <td>0</td>\n",
              "    </tr>\n",
              "    <tr>\n",
              "      <th>3</th>\n",
              "      <td>33</td>\n",
              "      <td>22.705</td>\n",
              "      <td>0</td>\n",
              "      <td>21984.47061</td>\n",
              "      <td>0</td>\n",
              "      <td>1</td>\n",
              "      <td>1</td>\n",
              "      <td>0</td>\n",
              "      <td>0</td>\n",
              "      <td>1</td>\n",
              "      <td>0</td>\n",
              "      <td>0</td>\n",
              "    </tr>\n",
              "    <tr>\n",
              "      <th>4</th>\n",
              "      <td>32</td>\n",
              "      <td>28.880</td>\n",
              "      <td>0</td>\n",
              "      <td>3866.85520</td>\n",
              "      <td>0</td>\n",
              "      <td>1</td>\n",
              "      <td>1</td>\n",
              "      <td>0</td>\n",
              "      <td>0</td>\n",
              "      <td>1</td>\n",
              "      <td>0</td>\n",
              "      <td>0</td>\n",
              "    </tr>\n",
              "  </tbody>\n",
              "</table>\n",
              "</div>\n",
              "      <button class=\"colab-df-convert\" onclick=\"convertToInteractive('df-ef2e7a57-fe20-4b73-8067-c338592ebac5')\"\n",
              "              title=\"Convert this dataframe to an interactive table.\"\n",
              "              style=\"display:none;\">\n",
              "        \n",
              "  <svg xmlns=\"http://www.w3.org/2000/svg\" height=\"24px\"viewBox=\"0 0 24 24\"\n",
              "       width=\"24px\">\n",
              "    <path d=\"M0 0h24v24H0V0z\" fill=\"none\"/>\n",
              "    <path d=\"M18.56 5.44l.94 2.06.94-2.06 2.06-.94-2.06-.94-.94-2.06-.94 2.06-2.06.94zm-11 1L8.5 8.5l.94-2.06 2.06-.94-2.06-.94L8.5 2.5l-.94 2.06-2.06.94zm10 10l.94 2.06.94-2.06 2.06-.94-2.06-.94-.94-2.06-.94 2.06-2.06.94z\"/><path d=\"M17.41 7.96l-1.37-1.37c-.4-.4-.92-.59-1.43-.59-.52 0-1.04.2-1.43.59L10.3 9.45l-7.72 7.72c-.78.78-.78 2.05 0 2.83L4 21.41c.39.39.9.59 1.41.59.51 0 1.02-.2 1.41-.59l7.78-7.78 2.81-2.81c.8-.78.8-2.07 0-2.86zM5.41 20L4 18.59l7.72-7.72 1.47 1.35L5.41 20z\"/>\n",
              "  </svg>\n",
              "      </button>\n",
              "      \n",
              "  <style>\n",
              "    .colab-df-container {\n",
              "      display:flex;\n",
              "      flex-wrap:wrap;\n",
              "      gap: 12px;\n",
              "    }\n",
              "\n",
              "    .colab-df-convert {\n",
              "      background-color: #E8F0FE;\n",
              "      border: none;\n",
              "      border-radius: 50%;\n",
              "      cursor: pointer;\n",
              "      display: none;\n",
              "      fill: #1967D2;\n",
              "      height: 32px;\n",
              "      padding: 0 0 0 0;\n",
              "      width: 32px;\n",
              "    }\n",
              "\n",
              "    .colab-df-convert:hover {\n",
              "      background-color: #E2EBFA;\n",
              "      box-shadow: 0px 1px 2px rgba(60, 64, 67, 0.3), 0px 1px 3px 1px rgba(60, 64, 67, 0.15);\n",
              "      fill: #174EA6;\n",
              "    }\n",
              "\n",
              "    [theme=dark] .colab-df-convert {\n",
              "      background-color: #3B4455;\n",
              "      fill: #D2E3FC;\n",
              "    }\n",
              "\n",
              "    [theme=dark] .colab-df-convert:hover {\n",
              "      background-color: #434B5C;\n",
              "      box-shadow: 0px 1px 3px 1px rgba(0, 0, 0, 0.15);\n",
              "      filter: drop-shadow(0px 1px 2px rgba(0, 0, 0, 0.3));\n",
              "      fill: #FFFFFF;\n",
              "    }\n",
              "  </style>\n",
              "\n",
              "      <script>\n",
              "        const buttonEl =\n",
              "          document.querySelector('#df-ef2e7a57-fe20-4b73-8067-c338592ebac5 button.colab-df-convert');\n",
              "        buttonEl.style.display =\n",
              "          google.colab.kernel.accessAllowed ? 'block' : 'none';\n",
              "\n",
              "        async function convertToInteractive(key) {\n",
              "          const element = document.querySelector('#df-ef2e7a57-fe20-4b73-8067-c338592ebac5');\n",
              "          const dataTable =\n",
              "            await google.colab.kernel.invokeFunction('convertToInteractive',\n",
              "                                                     [key], {});\n",
              "          if (!dataTable) return;\n",
              "\n",
              "          const docLinkHtml = 'Like what you see? Visit the ' +\n",
              "            '<a target=\"_blank\" href=https://colab.research.google.com/notebooks/data_table.ipynb>data table notebook</a>'\n",
              "            + ' to learn more about interactive tables.';\n",
              "          element.innerHTML = '';\n",
              "          dataTable['output_type'] = 'display_data';\n",
              "          await google.colab.output.renderOutput(dataTable, element);\n",
              "          const docLink = document.createElement('div');\n",
              "          docLink.innerHTML = docLinkHtml;\n",
              "          element.appendChild(docLink);\n",
              "        }\n",
              "      </script>\n",
              "    </div>\n",
              "  </div>\n",
              "  "
            ]
          },
          "metadata": {},
          "execution_count": 79
        }
      ]
    },
    {
      "cell_type": "code",
      "source": [
        "# Create X & y values (features and labels)\n",
        "X = insurance.drop(\"charges\", axis=1)\n",
        "y = insurance[\"charges\"]"
      ],
      "metadata": {
        "id": "gAot1m5oJHir"
      },
      "execution_count": 92,
      "outputs": []
    },
    {
      "cell_type": "code",
      "source": [
        "# View X\n",
        "X.head()"
      ],
      "metadata": {
        "colab": {
          "base_uri": "https://localhost:8080/",
          "height": 270
        },
        "id": "9iu5TxKkKXgY",
        "outputId": "34576210-51bb-42ba-a6c4-a935a343c748"
      },
      "execution_count": 93,
      "outputs": [
        {
          "output_type": "execute_result",
          "data": {
            "text/plain": [
              "   age     bmi  children  sex_female  sex_male  smoker_no  smoker_yes  \\\n",
              "0   19  27.900         0           1         0          0           1   \n",
              "1   18  33.770         1           0         1          1           0   \n",
              "2   28  33.000         3           0         1          1           0   \n",
              "3   33  22.705         0           0         1          1           0   \n",
              "4   32  28.880         0           0         1          1           0   \n",
              "\n",
              "   region_northeast  region_northwest  region_southeast  region_southwest  \n",
              "0                 0                 0                 0                 1  \n",
              "1                 0                 0                 1                 0  \n",
              "2                 0                 0                 1                 0  \n",
              "3                 0                 1                 0                 0  \n",
              "4                 0                 1                 0                 0  "
            ],
            "text/html": [
              "\n",
              "  <div id=\"df-c64bed2f-f7de-4ea3-b31a-5a6a1a0c480f\">\n",
              "    <div class=\"colab-df-container\">\n",
              "      <div>\n",
              "<style scoped>\n",
              "    .dataframe tbody tr th:only-of-type {\n",
              "        vertical-align: middle;\n",
              "    }\n",
              "\n",
              "    .dataframe tbody tr th {\n",
              "        vertical-align: top;\n",
              "    }\n",
              "\n",
              "    .dataframe thead th {\n",
              "        text-align: right;\n",
              "    }\n",
              "</style>\n",
              "<table border=\"1\" class=\"dataframe\">\n",
              "  <thead>\n",
              "    <tr style=\"text-align: right;\">\n",
              "      <th></th>\n",
              "      <th>age</th>\n",
              "      <th>bmi</th>\n",
              "      <th>children</th>\n",
              "      <th>sex_female</th>\n",
              "      <th>sex_male</th>\n",
              "      <th>smoker_no</th>\n",
              "      <th>smoker_yes</th>\n",
              "      <th>region_northeast</th>\n",
              "      <th>region_northwest</th>\n",
              "      <th>region_southeast</th>\n",
              "      <th>region_southwest</th>\n",
              "    </tr>\n",
              "  </thead>\n",
              "  <tbody>\n",
              "    <tr>\n",
              "      <th>0</th>\n",
              "      <td>19</td>\n",
              "      <td>27.900</td>\n",
              "      <td>0</td>\n",
              "      <td>1</td>\n",
              "      <td>0</td>\n",
              "      <td>0</td>\n",
              "      <td>1</td>\n",
              "      <td>0</td>\n",
              "      <td>0</td>\n",
              "      <td>0</td>\n",
              "      <td>1</td>\n",
              "    </tr>\n",
              "    <tr>\n",
              "      <th>1</th>\n",
              "      <td>18</td>\n",
              "      <td>33.770</td>\n",
              "      <td>1</td>\n",
              "      <td>0</td>\n",
              "      <td>1</td>\n",
              "      <td>1</td>\n",
              "      <td>0</td>\n",
              "      <td>0</td>\n",
              "      <td>0</td>\n",
              "      <td>1</td>\n",
              "      <td>0</td>\n",
              "    </tr>\n",
              "    <tr>\n",
              "      <th>2</th>\n",
              "      <td>28</td>\n",
              "      <td>33.000</td>\n",
              "      <td>3</td>\n",
              "      <td>0</td>\n",
              "      <td>1</td>\n",
              "      <td>1</td>\n",
              "      <td>0</td>\n",
              "      <td>0</td>\n",
              "      <td>0</td>\n",
              "      <td>1</td>\n",
              "      <td>0</td>\n",
              "    </tr>\n",
              "    <tr>\n",
              "      <th>3</th>\n",
              "      <td>33</td>\n",
              "      <td>22.705</td>\n",
              "      <td>0</td>\n",
              "      <td>0</td>\n",
              "      <td>1</td>\n",
              "      <td>1</td>\n",
              "      <td>0</td>\n",
              "      <td>0</td>\n",
              "      <td>1</td>\n",
              "      <td>0</td>\n",
              "      <td>0</td>\n",
              "    </tr>\n",
              "    <tr>\n",
              "      <th>4</th>\n",
              "      <td>32</td>\n",
              "      <td>28.880</td>\n",
              "      <td>0</td>\n",
              "      <td>0</td>\n",
              "      <td>1</td>\n",
              "      <td>1</td>\n",
              "      <td>0</td>\n",
              "      <td>0</td>\n",
              "      <td>1</td>\n",
              "      <td>0</td>\n",
              "      <td>0</td>\n",
              "    </tr>\n",
              "  </tbody>\n",
              "</table>\n",
              "</div>\n",
              "      <button class=\"colab-df-convert\" onclick=\"convertToInteractive('df-c64bed2f-f7de-4ea3-b31a-5a6a1a0c480f')\"\n",
              "              title=\"Convert this dataframe to an interactive table.\"\n",
              "              style=\"display:none;\">\n",
              "        \n",
              "  <svg xmlns=\"http://www.w3.org/2000/svg\" height=\"24px\"viewBox=\"0 0 24 24\"\n",
              "       width=\"24px\">\n",
              "    <path d=\"M0 0h24v24H0V0z\" fill=\"none\"/>\n",
              "    <path d=\"M18.56 5.44l.94 2.06.94-2.06 2.06-.94-2.06-.94-.94-2.06-.94 2.06-2.06.94zm-11 1L8.5 8.5l.94-2.06 2.06-.94-2.06-.94L8.5 2.5l-.94 2.06-2.06.94zm10 10l.94 2.06.94-2.06 2.06-.94-2.06-.94-.94-2.06-.94 2.06-2.06.94z\"/><path d=\"M17.41 7.96l-1.37-1.37c-.4-.4-.92-.59-1.43-.59-.52 0-1.04.2-1.43.59L10.3 9.45l-7.72 7.72c-.78.78-.78 2.05 0 2.83L4 21.41c.39.39.9.59 1.41.59.51 0 1.02-.2 1.41-.59l7.78-7.78 2.81-2.81c.8-.78.8-2.07 0-2.86zM5.41 20L4 18.59l7.72-7.72 1.47 1.35L5.41 20z\"/>\n",
              "  </svg>\n",
              "      </button>\n",
              "      \n",
              "  <style>\n",
              "    .colab-df-container {\n",
              "      display:flex;\n",
              "      flex-wrap:wrap;\n",
              "      gap: 12px;\n",
              "    }\n",
              "\n",
              "    .colab-df-convert {\n",
              "      background-color: #E8F0FE;\n",
              "      border: none;\n",
              "      border-radius: 50%;\n",
              "      cursor: pointer;\n",
              "      display: none;\n",
              "      fill: #1967D2;\n",
              "      height: 32px;\n",
              "      padding: 0 0 0 0;\n",
              "      width: 32px;\n",
              "    }\n",
              "\n",
              "    .colab-df-convert:hover {\n",
              "      background-color: #E2EBFA;\n",
              "      box-shadow: 0px 1px 2px rgba(60, 64, 67, 0.3), 0px 1px 3px 1px rgba(60, 64, 67, 0.15);\n",
              "      fill: #174EA6;\n",
              "    }\n",
              "\n",
              "    [theme=dark] .colab-df-convert {\n",
              "      background-color: #3B4455;\n",
              "      fill: #D2E3FC;\n",
              "    }\n",
              "\n",
              "    [theme=dark] .colab-df-convert:hover {\n",
              "      background-color: #434B5C;\n",
              "      box-shadow: 0px 1px 3px 1px rgba(0, 0, 0, 0.15);\n",
              "      filter: drop-shadow(0px 1px 2px rgba(0, 0, 0, 0.3));\n",
              "      fill: #FFFFFF;\n",
              "    }\n",
              "  </style>\n",
              "\n",
              "      <script>\n",
              "        const buttonEl =\n",
              "          document.querySelector('#df-c64bed2f-f7de-4ea3-b31a-5a6a1a0c480f button.colab-df-convert');\n",
              "        buttonEl.style.display =\n",
              "          google.colab.kernel.accessAllowed ? 'block' : 'none';\n",
              "\n",
              "        async function convertToInteractive(key) {\n",
              "          const element = document.querySelector('#df-c64bed2f-f7de-4ea3-b31a-5a6a1a0c480f');\n",
              "          const dataTable =\n",
              "            await google.colab.kernel.invokeFunction('convertToInteractive',\n",
              "                                                     [key], {});\n",
              "          if (!dataTable) return;\n",
              "\n",
              "          const docLinkHtml = 'Like what you see? Visit the ' +\n",
              "            '<a target=\"_blank\" href=https://colab.research.google.com/notebooks/data_table.ipynb>data table notebook</a>'\n",
              "            + ' to learn more about interactive tables.';\n",
              "          element.innerHTML = '';\n",
              "          dataTable['output_type'] = 'display_data';\n",
              "          await google.colab.output.renderOutput(dataTable, element);\n",
              "          const docLink = document.createElement('div');\n",
              "          docLink.innerHTML = docLinkHtml;\n",
              "          element.appendChild(docLink);\n",
              "        }\n",
              "      </script>\n",
              "    </div>\n",
              "  </div>\n",
              "  "
            ]
          },
          "metadata": {},
          "execution_count": 93
        }
      ]
    },
    {
      "cell_type": "code",
      "source": [
        "# View y\n",
        "y.head()"
      ],
      "metadata": {
        "colab": {
          "base_uri": "https://localhost:8080/"
        },
        "id": "7TpNHHjDKcsu",
        "outputId": "7aa648a8-53c4-4033-dea3-1e39bb983b7e"
      },
      "execution_count": 94,
      "outputs": [
        {
          "output_type": "execute_result",
          "data": {
            "text/plain": [
              "0    16884.92400\n",
              "1     1725.55230\n",
              "2     4449.46200\n",
              "3    21984.47061\n",
              "4     3866.85520\n",
              "Name: charges, dtype: float64"
            ]
          },
          "metadata": {},
          "execution_count": 94
        }
      ]
    },
    {
      "cell_type": "code",
      "source": [
        "# Creating training and test sets\n",
        "length = len(insurance.index)\n",
        "training_length = round(length * .8)\n",
        "X_train = X[:training_length]\n",
        "X_test = X[training_length:]\n",
        "y_train = y[:training_length]\n",
        "y_test = y[training_length:]\n",
        "\n",
        "len(X_train), len(y_train), len(X_test), len(y_test) # Confirming the lengths of the corresponding dataframes are correct"
      ],
      "metadata": {
        "colab": {
          "base_uri": "https://localhost:8080/"
        },
        "id": "Cv7ddlWMJkOj",
        "outputId": "d521303a-5ddb-4aa6-a0ff-81af44af289d"
      },
      "execution_count": 109,
      "outputs": [
        {
          "output_type": "execute_result",
          "data": {
            "text/plain": [
              "(1070, 1070, 268, 268)"
            ]
          },
          "metadata": {},
          "execution_count": 109
        }
      ]
    },
    {
      "cell_type": "code",
      "source": [
        "from tensorflow.python import train\n",
        "# More efficient way to make training and test sets\n",
        "from sklearn.model_selection import train_test_split\n",
        "X_train, X_test, y_train, y_test = train_test_split(X,y,test_size=0.2,random_state=42)\n",
        "len(X), len(X_train), len(X_test)"
      ],
      "metadata": {
        "colab": {
          "base_uri": "https://localhost:8080/"
        },
        "id": "nJMaAzv9L2vT",
        "outputId": "e84f38a5-8895-48fd-d246-2d5780b5c13a"
      },
      "execution_count": 112,
      "outputs": [
        {
          "output_type": "execute_result",
          "data": {
            "text/plain": [
              "(1338, 1070, 268)"
            ]
          },
          "metadata": {},
          "execution_count": 112
        }
      ]
    },
    {
      "cell_type": "code",
      "source": [
        "\n",
        "# Building a neural network (sort of like model_2 above)\n",
        "tf.random.set_seed(42)\n",
        "\n",
        "insurance_model = tf.keras.Sequential([\n",
        "    tf.keras.layers.Dense(10),\n",
        "    tf.keras.layers.Dense(1)\n",
        "])\n",
        "\n",
        "insurance_model.compile(loss=tf.keras.losses.mae,\n",
        "                        optimizer=tf.keras.optimizers.SGD(),\n",
        "                        metrics=[\"mae\"])\n",
        "\n",
        "insurance_model.fit(tf.expand_dims(X_train, axis=-1), y_train, epochs=100)"
      ],
      "metadata": {
        "colab": {
          "base_uri": "https://localhost:8080/"
        },
        "id": "HNkokA08Mudd",
        "outputId": "94676dcb-c8f6-4f2d-ab0b-730e02a3e280"
      },
      "execution_count": 121,
      "outputs": [
        {
          "output_type": "stream",
          "name": "stdout",
          "text": [
            "Epoch 1/100\n",
            "34/34 [==============================] - 1s 3ms/step - loss: 13235.9590 - mae: 13235.9590\n",
            "Epoch 2/100\n",
            "34/34 [==============================] - 0s 5ms/step - loss: 12311.1182 - mae: 12311.1182\n",
            "Epoch 3/100\n",
            "34/34 [==============================] - 0s 3ms/step - loss: 12173.6699 - mae: 12173.6699\n",
            "Epoch 4/100\n",
            "34/34 [==============================] - 0s 4ms/step - loss: 12099.2920 - mae: 12099.2920\n",
            "Epoch 5/100\n",
            "34/34 [==============================] - 0s 3ms/step - loss: 11985.4248 - mae: 11985.4248\n",
            "Epoch 6/100\n",
            "34/34 [==============================] - 0s 5ms/step - loss: 11799.9395 - mae: 11799.9395\n",
            "Epoch 7/100\n",
            "34/34 [==============================] - 0s 3ms/step - loss: 11476.8359 - mae: 11476.8359\n",
            "Epoch 8/100\n",
            "34/34 [==============================] - 0s 6ms/step - loss: 10967.0283 - mae: 10967.0283\n",
            "Epoch 9/100\n",
            "34/34 [==============================] - 0s 4ms/step - loss: 10350.2998 - mae: 10350.2998\n",
            "Epoch 10/100\n",
            "34/34 [==============================] - 0s 4ms/step - loss: 9702.6709 - mae: 9702.6709\n",
            "Epoch 11/100\n",
            "34/34 [==============================] - 0s 3ms/step - loss: 9191.6162 - mae: 9191.6162\n",
            "Epoch 12/100\n",
            "34/34 [==============================] - 0s 4ms/step - loss: 8812.3760 - mae: 8812.3760\n",
            "Epoch 13/100\n",
            "34/34 [==============================] - 0s 4ms/step - loss: 8661.6318 - mae: 8661.6318\n",
            "Epoch 14/100\n",
            "34/34 [==============================] - 0s 3ms/step - loss: 8530.6475 - mae: 8530.6475\n",
            "Epoch 15/100\n",
            "34/34 [==============================] - 0s 3ms/step - loss: 8504.2061 - mae: 8504.2061\n",
            "Epoch 16/100\n",
            "34/34 [==============================] - 0s 1ms/step - loss: 8450.2246 - mae: 8450.2246\n",
            "Epoch 17/100\n",
            "34/34 [==============================] - 0s 2ms/step - loss: 8557.1924 - mae: 8557.1924\n",
            "Epoch 18/100\n",
            "34/34 [==============================] - 0s 1ms/step - loss: 8530.2988 - mae: 8530.2988\n",
            "Epoch 19/100\n",
            "34/34 [==============================] - 0s 1ms/step - loss: 8447.9883 - mae: 8447.9883\n",
            "Epoch 20/100\n",
            "34/34 [==============================] - 0s 2ms/step - loss: 8596.8496 - mae: 8596.8496\n",
            "Epoch 21/100\n",
            "34/34 [==============================] - 0s 1ms/step - loss: 8506.3730 - mae: 8506.3730\n",
            "Epoch 22/100\n",
            "34/34 [==============================] - 0s 1ms/step - loss: 8618.8506 - mae: 8618.8506\n",
            "Epoch 23/100\n",
            "34/34 [==============================] - 0s 1ms/step - loss: 8540.3105 - mae: 8540.3105\n",
            "Epoch 24/100\n",
            "34/34 [==============================] - 0s 2ms/step - loss: 8485.0303 - mae: 8485.0303\n",
            "Epoch 25/100\n",
            "34/34 [==============================] - 0s 2ms/step - loss: 8505.4121 - mae: 8505.4121\n",
            "Epoch 26/100\n",
            "34/34 [==============================] - 0s 1ms/step - loss: 8423.0166 - mae: 8423.0166\n",
            "Epoch 27/100\n",
            "34/34 [==============================] - 0s 2ms/step - loss: 8534.9561 - mae: 8534.9561\n",
            "Epoch 28/100\n",
            "34/34 [==============================] - 0s 1ms/step - loss: 8429.8018 - mae: 8429.8018\n",
            "Epoch 29/100\n",
            "34/34 [==============================] - 0s 2ms/step - loss: 8430.2549 - mae: 8430.2549\n",
            "Epoch 30/100\n",
            "34/34 [==============================] - 0s 1ms/step - loss: 8500.0615 - mae: 8500.0615\n",
            "Epoch 31/100\n",
            "34/34 [==============================] - 0s 2ms/step - loss: 8462.8271 - mae: 8462.8271\n",
            "Epoch 32/100\n",
            "34/34 [==============================] - 0s 1ms/step - loss: 8467.4355 - mae: 8467.4355\n",
            "Epoch 33/100\n",
            "34/34 [==============================] - 0s 1ms/step - loss: 8393.6240 - mae: 8393.6240\n",
            "Epoch 34/100\n",
            "34/34 [==============================] - 0s 2ms/step - loss: 8417.7529 - mae: 8417.7529\n",
            "Epoch 35/100\n",
            "34/34 [==============================] - 0s 2ms/step - loss: 8426.5898 - mae: 8426.5898\n",
            "Epoch 36/100\n",
            "34/34 [==============================] - 0s 1ms/step - loss: 8405.4658 - mae: 8405.4658\n",
            "Epoch 37/100\n",
            "34/34 [==============================] - 0s 2ms/step - loss: 8431.5420 - mae: 8431.5420\n",
            "Epoch 38/100\n",
            "34/34 [==============================] - 0s 1ms/step - loss: 8395.5322 - mae: 8395.5322\n",
            "Epoch 39/100\n",
            "34/34 [==============================] - 0s 1ms/step - loss: 8424.3652 - mae: 8424.3652\n",
            "Epoch 40/100\n",
            "34/34 [==============================] - 0s 1ms/step - loss: 8343.8877 - mae: 8343.8877\n",
            "Epoch 41/100\n",
            "34/34 [==============================] - 0s 1ms/step - loss: 8414.1875 - mae: 8414.1875\n",
            "Epoch 42/100\n",
            "34/34 [==============================] - 0s 2ms/step - loss: 8410.1104 - mae: 8410.1104\n",
            "Epoch 43/100\n",
            "34/34 [==============================] - 0s 2ms/step - loss: 8460.3418 - mae: 8460.3418\n",
            "Epoch 44/100\n",
            "34/34 [==============================] - 0s 2ms/step - loss: 8383.7109 - mae: 8383.7109\n",
            "Epoch 45/100\n",
            "34/34 [==============================] - 0s 1ms/step - loss: 8430.5215 - mae: 8430.5215\n",
            "Epoch 46/100\n",
            "34/34 [==============================] - 0s 1ms/step - loss: 8400.4453 - mae: 8400.4453\n",
            "Epoch 47/100\n",
            "34/34 [==============================] - 0s 2ms/step - loss: 8396.6387 - mae: 8396.6387\n",
            "Epoch 48/100\n",
            "34/34 [==============================] - 0s 1ms/step - loss: 8368.3125 - mae: 8368.3125\n",
            "Epoch 49/100\n",
            "34/34 [==============================] - 0s 1ms/step - loss: 8414.6309 - mae: 8414.6309\n",
            "Epoch 50/100\n",
            "34/34 [==============================] - 0s 1ms/step - loss: 8384.1816 - mae: 8384.1816\n",
            "Epoch 51/100\n",
            "34/34 [==============================] - 0s 2ms/step - loss: 8392.4209 - mae: 8392.4209\n",
            "Epoch 52/100\n",
            "34/34 [==============================] - 0s 1ms/step - loss: 8364.3027 - mae: 8364.3027\n",
            "Epoch 53/100\n",
            "34/34 [==============================] - 0s 1ms/step - loss: 8440.5498 - mae: 8440.5498\n",
            "Epoch 54/100\n",
            "34/34 [==============================] - 0s 2ms/step - loss: 8413.2959 - mae: 8413.2959\n",
            "Epoch 55/100\n",
            "34/34 [==============================] - 0s 2ms/step - loss: 8364.0986 - mae: 8364.0986\n",
            "Epoch 56/100\n",
            "34/34 [==============================] - 0s 1ms/step - loss: 8374.9893 - mae: 8374.9893\n",
            "Epoch 57/100\n",
            "34/34 [==============================] - 0s 1ms/step - loss: 8374.6133 - mae: 8374.6133\n",
            "Epoch 58/100\n",
            "34/34 [==============================] - 0s 2ms/step - loss: 8323.6045 - mae: 8323.6045\n",
            "Epoch 59/100\n",
            "34/34 [==============================] - 0s 1ms/step - loss: 8422.1699 - mae: 8422.1699\n",
            "Epoch 60/100\n",
            "34/34 [==============================] - 0s 1ms/step - loss: 8434.9268 - mae: 8434.9268\n",
            "Epoch 61/100\n",
            "34/34 [==============================] - 0s 1ms/step - loss: 8410.3701 - mae: 8410.3701\n",
            "Epoch 62/100\n",
            "34/34 [==============================] - 0s 1ms/step - loss: 8348.9414 - mae: 8348.9414\n",
            "Epoch 63/100\n",
            "34/34 [==============================] - 0s 2ms/step - loss: 8382.4395 - mae: 8382.4395\n",
            "Epoch 64/100\n",
            "34/34 [==============================] - 0s 2ms/step - loss: 8390.2178 - mae: 8390.2178\n",
            "Epoch 65/100\n",
            "34/34 [==============================] - 0s 1ms/step - loss: 8400.1279 - mae: 8400.1279\n",
            "Epoch 66/100\n",
            "34/34 [==============================] - 0s 1ms/step - loss: 8357.6084 - mae: 8357.6084\n",
            "Epoch 67/100\n",
            "34/34 [==============================] - 0s 1ms/step - loss: 8326.0518 - mae: 8326.0518\n",
            "Epoch 68/100\n",
            "34/34 [==============================] - 0s 1ms/step - loss: 8347.0010 - mae: 8347.0010\n",
            "Epoch 69/100\n",
            "34/34 [==============================] - 0s 1ms/step - loss: 8357.6436 - mae: 8357.6436\n",
            "Epoch 70/100\n",
            "34/34 [==============================] - 0s 1ms/step - loss: 8408.4463 - mae: 8408.4463\n",
            "Epoch 71/100\n",
            "34/34 [==============================] - 0s 2ms/step - loss: 8357.8848 - mae: 8357.8848\n",
            "Epoch 72/100\n",
            "34/34 [==============================] - 0s 1ms/step - loss: 8361.9219 - mae: 8361.9219\n",
            "Epoch 73/100\n",
            "34/34 [==============================] - 0s 2ms/step - loss: 8355.2236 - mae: 8355.2236\n",
            "Epoch 74/100\n",
            "34/34 [==============================] - 0s 1ms/step - loss: 8372.8877 - mae: 8372.8877\n",
            "Epoch 75/100\n",
            "34/34 [==============================] - 0s 2ms/step - loss: 8340.4355 - mae: 8340.4355\n",
            "Epoch 76/100\n",
            "34/34 [==============================] - 0s 2ms/step - loss: 8336.8984 - mae: 8336.8984\n",
            "Epoch 77/100\n",
            "34/34 [==============================] - 0s 1ms/step - loss: 8368.9082 - mae: 8368.9082\n",
            "Epoch 78/100\n",
            "34/34 [==============================] - 0s 1ms/step - loss: 8361.4717 - mae: 8361.4717\n",
            "Epoch 79/100\n",
            "34/34 [==============================] - 0s 1ms/step - loss: 8397.4590 - mae: 8397.4590\n",
            "Epoch 80/100\n",
            "34/34 [==============================] - 0s 2ms/step - loss: 8323.4268 - mae: 8323.4268\n",
            "Epoch 81/100\n",
            "34/34 [==============================] - 0s 2ms/step - loss: 8364.4326 - mae: 8364.4326\n",
            "Epoch 82/100\n",
            "34/34 [==============================] - 0s 1ms/step - loss: 8343.5264 - mae: 8343.5264\n",
            "Epoch 83/100\n",
            "34/34 [==============================] - 0s 2ms/step - loss: 8412.4004 - mae: 8412.4004\n",
            "Epoch 84/100\n",
            "34/34 [==============================] - 0s 2ms/step - loss: 8347.5420 - mae: 8347.5420\n",
            "Epoch 85/100\n",
            "34/34 [==============================] - 0s 1ms/step - loss: 8377.8457 - mae: 8377.8457\n",
            "Epoch 86/100\n",
            "34/34 [==============================] - 0s 1ms/step - loss: 8364.2188 - mae: 8364.2188\n",
            "Epoch 87/100\n",
            "34/34 [==============================] - 0s 1ms/step - loss: 8360.6875 - mae: 8360.6875\n",
            "Epoch 88/100\n",
            "34/34 [==============================] - 0s 1ms/step - loss: 8348.8135 - mae: 8348.8135\n",
            "Epoch 89/100\n",
            "34/34 [==============================] - 0s 1ms/step - loss: 8391.8721 - mae: 8391.8721\n",
            "Epoch 90/100\n",
            "34/34 [==============================] - 0s 1ms/step - loss: 8318.3711 - mae: 8318.3711\n",
            "Epoch 91/100\n",
            "34/34 [==============================] - 0s 1ms/step - loss: 8362.2402 - mae: 8362.2402\n",
            "Epoch 92/100\n",
            "34/34 [==============================] - 0s 1ms/step - loss: 8383.1777 - mae: 8383.1777\n",
            "Epoch 93/100\n",
            "34/34 [==============================] - 0s 1ms/step - loss: 8328.8291 - mae: 8328.8291\n",
            "Epoch 94/100\n",
            "34/34 [==============================] - 0s 2ms/step - loss: 8318.3115 - mae: 8318.3115\n",
            "Epoch 95/100\n",
            "34/34 [==============================] - 0s 1ms/step - loss: 8340.4863 - mae: 8340.4863\n",
            "Epoch 96/100\n",
            "34/34 [==============================] - 0s 1ms/step - loss: 8352.1152 - mae: 8352.1152\n",
            "Epoch 97/100\n",
            "34/34 [==============================] - 0s 2ms/step - loss: 8355.6279 - mae: 8355.6279\n",
            "Epoch 98/100\n",
            "34/34 [==============================] - 0s 2ms/step - loss: 8348.6328 - mae: 8348.6328\n",
            "Epoch 99/100\n",
            "34/34 [==============================] - 0s 2ms/step - loss: 8322.7256 - mae: 8322.7256\n",
            "Epoch 100/100\n",
            "34/34 [==============================] - 0s 1ms/step - loss: 8338.7256 - mae: 8338.7256\n"
          ]
        },
        {
          "output_type": "execute_result",
          "data": {
            "text/plain": [
              "<keras.callbacks.History at 0x7fd990c83ca0>"
            ]
          },
          "metadata": {},
          "execution_count": 121
        }
      ]
    },
    {
      "cell_type": "code",
      "source": [
        "# Check the results of the insurance model on the test data\n",
        "insurance_model.evaluate(X_test, y_test)"
      ],
      "metadata": {
        "colab": {
          "base_uri": "https://localhost:8080/"
        },
        "id": "h39JvX8YN5LH",
        "outputId": "a7543f8c-f6ad-422a-bb61-305b57396d32"
      },
      "execution_count": 122,
      "outputs": [
        {
          "output_type": "stream",
          "name": "stdout",
          "text": [
            "9/9 [==============================] - 0s 4ms/step - loss: 8921.2812 - mae: 8921.2812\n"
          ]
        },
        {
          "output_type": "execute_result",
          "data": {
            "text/plain": [
              "[8921.28125, 8921.28125]"
            ]
          },
          "metadata": {},
          "execution_count": 122
        }
      ]
    },
    {
      "cell_type": "markdown",
      "source": [
        "Right now our model is not performing well, lets improve it"
      ],
      "metadata": {
        "id": "uLqWRIWLOMoL"
      }
    },
    {
      "cell_type": "code",
      "source": [
        "\n",
        "# Building a neural network (sort of like model_2 above)\n",
        "tf.random.set_seed(42)\n",
        "\n",
        "insurance_model = tf.keras.Sequential([\n",
        "    tf.keras.layers.Dense(100),\n",
        "    tf.keras.layers.Dense(10),\n",
        "    tf.keras.layers.Dense(1)\n",
        "])\n",
        "\n",
        "insurance_model.compile(loss=tf.keras.losses.mae,\n",
        "                        optimizer=tf.keras.optimizers.Adam(),\n",
        "                        metrics=[\"mae\"])\n",
        "\n",
        "history = insurance_model.fit(X_train, y_train, epochs=200, verbose=0)"
      ],
      "metadata": {
        "id": "reE_AU3qOhij"
      },
      "execution_count": 147,
      "outputs": []
    },
    {
      "cell_type": "code",
      "source": [
        "# Check the results of the insurance model on the test data\n",
        "insurance_model.evaluate(X_test, y_test)"
      ],
      "metadata": {
        "colab": {
          "base_uri": "https://localhost:8080/"
        },
        "id": "7T2CWVFDPb1N",
        "outputId": "398e8072-6b6f-41b0-9a22-041a7bbb5472"
      },
      "execution_count": 145,
      "outputs": [
        {
          "output_type": "stream",
          "name": "stdout",
          "text": [
            "9/9 [==============================] - 0s 2ms/step - loss: 3488.7854 - mae: 3488.7856\n"
          ]
        },
        {
          "output_type": "execute_result",
          "data": {
            "text/plain": [
              "[3488.785400390625, 3488.78564453125]"
            ]
          },
          "metadata": {},
          "execution_count": 145
        }
      ]
    },
    {
      "cell_type": "code",
      "source": [
        "# Plot history (also known as a loss curve or a training curve)\n",
        "pd.DataFrame(history.history).plot()\n",
        "plt.ylabel(\"loss\")\n",
        "plt.xlabel(\"epochs\")"
      ],
      "metadata": {
        "colab": {
          "base_uri": "https://localhost:8080/",
          "height": 296
        },
        "id": "Q5vylU4nRAjD",
        "outputId": "87b446c0-77f4-49f2-b00f-c571fb828fa1"
      },
      "execution_count": 148,
      "outputs": [
        {
          "output_type": "execute_result",
          "data": {
            "text/plain": [
              "Text(0.5, 0, 'epochs')"
            ]
          },
          "metadata": {},
          "execution_count": 148
        },
        {
          "output_type": "display_data",
          "data": {
            "text/plain": [
              "<Figure size 432x288 with 1 Axes>"
            ],
            "image/png": "[encoded data removed]"
          },
          "metadata": {
            "needs_background": "light"
          }
        }
      ]
    },
    {
      "cell_type": "markdown",
      "source": [
        "Training time can depend, it depends on the problem we are working on.\n",
        "\n",
        "Many people have asked this question before so tensorflow has a solution, its called the **EarlyStoppingCallback!**\n",
        "\n",
        "EarlyStoppingCallback is a component you can add to a model to stop training one it stops improving on a certain metric"
      ],
      "metadata": {
        "id": "lD5rgc-NRmoV"
      }
    },
    {
      "cell_type": "markdown",
      "source": [
        "## Preprocessing data (normalization and stardization)"
      ],
      "metadata": {
        "id": "BE900qv5R3hl"
      }
    }
  ],
  "metadata": {
    "colab": {
      "provenance": [],
      "mount_file_id": "12rxJULxEsaMMHhCBQMfvv3iGEujRlzEm",
      "authorship_tag": "ABX9TyMlXynAtCFHdmXwqW/NCpwN",
      "include_colab_link": true
    },
    "kernelspec": {
      "display_name": "Python 3",
      "name": "python3"
    },
    "language_info": {
      "name": "python"
    }
  },
  "nbformat": 4,
  "nbformat_minor": 0
}