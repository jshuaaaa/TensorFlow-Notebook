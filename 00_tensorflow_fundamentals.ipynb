{
  "nbformat": 4,
  "nbformat_minor": 0,
  "metadata": {
    "colab": {
      "name": "00_tensorflow_fundamentals.ipynb",
      "provenance": [],
      "collapsed_sections": [
        "WKBzrPNHjcOc",
        "Thqt23E97Jjk",
        "PrmsvH3o778k",
        "PAtrPFW79Y-D",
        "7C8YYYuKAjrU"
      ],
      "authorship_tag": "ABX9TyPPY+AfkzYDZzvBSfb+As0L",
      "include_colab_link": true
    },
    "kernelspec": {
      "name": "python3",
      "display_name": "Python 3"
    },
    "language_info": {
      "name": "python"
    },
    "accelerator": "GPU",
    "gpuClass": "standard"
  },
  "cells": [
    {
      "cell_type": "markdown",
      "metadata": {
        "id": "view-in-github",
        "colab_type": "text"
      },
      "source": [
        "<a href=\"https://colab.research.google.com/github/jshuaaaa/TensorFlow-Notebook/blob/main/00_tensorflow_fundamentals.ipynb\" target=\"_parent\"><img src=\"https://colab.research.google.com/assets/colab-badge.svg\" alt=\"Open In Colab\"/></a>"
      ]
    },
    {
      "cell_type": "markdown",
      "source": [
        "In this notebook, were going to cover some of the most ufndamental concepts of tensors using TensorFlow"
      ],
      "metadata": {
        "id": "vi6Nfuild4F0"
      }
    },
    {
      "cell_type": "code",
      "source": [
        "import tensorflow as tf\n",
        "import numpy as np\n",
        "print(tf.__version__)"
      ],
      "metadata": {
        "colab": {
          "base_uri": "https://localhost:8080/"
        },
        "id": "YDwjXzySd3rl",
        "outputId": "0cd0dab9-3776-4ef9-ac09-89b3b389546b"
      },
      "execution_count": null,
      "outputs": [
        {
          "output_type": "stream",
          "name": "stdout",
          "text": [
            "2.8.2\n"
          ]
        }
      ]
    },
    {
      "cell_type": "code",
      "source": [
        "scalar = tf.constant(7)\n",
        "scalar"
      ],
      "metadata": {
        "colab": {
          "base_uri": "https://localhost:8080/"
        },
        "id": "V4KSEB5UegxF",
        "outputId": "612ebe97-da72-4a81-9ea9-12e44555d88b"
      },
      "execution_count": null,
      "outputs": [
        {
          "output_type": "execute_result",
          "data": {
            "text/plain": [
              "<tf.Tensor: shape=(), dtype=int32, numpy=7>"
            ]
          },
          "metadata": {},
          "execution_count": 5
        }
      ]
    },
    {
      "cell_type": "code",
      "source": [
        "scalar.ndim"
      ],
      "metadata": {
        "colab": {
          "base_uri": "https://localhost:8080/"
        },
        "id": "_QI2pazEewbe",
        "outputId": "6acab942-bd01-4053-ffa6-d4ab6e7657c4"
      },
      "execution_count": null,
      "outputs": [
        {
          "output_type": "execute_result",
          "data": {
            "text/plain": [
              "0"
            ]
          },
          "metadata": {},
          "execution_count": 6
        }
      ]
    },
    {
      "cell_type": "code",
      "source": [
        "vector = tf.constant([10,10])\n",
        "vector"
      ],
      "metadata": {
        "colab": {
          "base_uri": "https://localhost:8080/"
        },
        "id": "7-2OyW_cfHJK",
        "outputId": "cb6bdca3-b718-4509-b7a7-7192d013b8cc"
      },
      "execution_count": null,
      "outputs": [
        {
          "output_type": "execute_result",
          "data": {
            "text/plain": [
              "<tf.Tensor: shape=(2,), dtype=int32, numpy=array([10, 10], dtype=int32)>"
            ]
          },
          "metadata": {},
          "execution_count": 7
        }
      ]
    },
    {
      "cell_type": "code",
      "source": [
        "vector.ndim"
      ],
      "metadata": {
        "colab": {
          "base_uri": "https://localhost:8080/"
        },
        "id": "L8Y-ckEofPJh",
        "outputId": "09fd00f6-0735-4603-f022-95a27aa88d55"
      },
      "execution_count": null,
      "outputs": [
        {
          "output_type": "execute_result",
          "data": {
            "text/plain": [
              "1"
            ]
          },
          "metadata": {},
          "execution_count": 8
        }
      ]
    },
    {
      "cell_type": "code",
      "source": [
        "matrix = tf.constant([[10,7], [7,10]])\n",
        "matrix"
      ],
      "metadata": {
        "colab": {
          "base_uri": "https://localhost:8080/"
        },
        "id": "zHwk4Qe5fbar",
        "outputId": "b457bdb4-4802-41bf-fadf-560c523b28a9"
      },
      "execution_count": null,
      "outputs": [
        {
          "output_type": "execute_result",
          "data": {
            "text/plain": [
              "<tf.Tensor: shape=(2, 2), dtype=int32, numpy=\n",
              "array([[10,  7],\n",
              "       [ 7, 10]], dtype=int32)>"
            ]
          },
          "metadata": {},
          "execution_count": 9
        }
      ]
    },
    {
      "cell_type": "code",
      "source": [
        "matrix.ndim"
      ],
      "metadata": {
        "colab": {
          "base_uri": "https://localhost:8080/"
        },
        "id": "EDOqnpfzfoN7",
        "outputId": "a841ec12-4a25-476f-efa2-6fb0f898df48"
      },
      "execution_count": null,
      "outputs": [
        {
          "output_type": "execute_result",
          "data": {
            "text/plain": [
              "2"
            ]
          },
          "metadata": {},
          "execution_count": 10
        }
      ]
    },
    {
      "cell_type": "code",
      "source": [
        "another_matrix = tf.constant([[10.,7.], [3.,2.], [8.,9.]], dtype=tf.float16)\n",
        "another_matrix"
      ],
      "metadata": {
        "colab": {
          "base_uri": "https://localhost:8080/"
        },
        "id": "0VhtxScHfvEo",
        "outputId": "efc19777-9a49-449c-c2dc-dc85eddabe3a"
      },
      "execution_count": null,
      "outputs": [
        {
          "output_type": "execute_result",
          "data": {
            "text/plain": [
              "<tf.Tensor: shape=(3, 2), dtype=float16, numpy=\n",
              "array([[10.,  7.],\n",
              "       [ 3.,  2.],\n",
              "       [ 8.,  9.]], dtype=float16)>"
            ]
          },
          "metadata": {},
          "execution_count": 11
        }
      ]
    },
    {
      "cell_type": "code",
      "source": [
        "another_matrix.ndim"
      ],
      "metadata": {
        "colab": {
          "base_uri": "https://localhost:8080/"
        },
        "id": "oj8oWMSdgV7s",
        "outputId": "6ccfb5a8-6db5-49d8-8bfb-b2a0e5b8aff4"
      },
      "execution_count": null,
      "outputs": [
        {
          "output_type": "execute_result",
          "data": {
            "text/plain": [
              "2"
            ]
          },
          "metadata": {},
          "execution_count": 12
        }
      ]
    },
    {
      "cell_type": "code",
      "source": [
        "tensor = tf.constant([[[1,2,3,],\n",
        "                       [4,5,6],\n",
        "                       [7,8,9],\n",
        "                       [10,11,12],\n",
        "                       [13,14,15],\n",
        "                       [16,17,18]]])\n",
        "tensor"
      ],
      "metadata": {
        "colab": {
          "base_uri": "https://localhost:8080/"
        },
        "id": "9p_Xk2RBghAG",
        "outputId": "e553d98a-14b6-4396-827d-2607fd644a59"
      },
      "execution_count": null,
      "outputs": [
        {
          "output_type": "execute_result",
          "data": {
            "text/plain": [
              "<tf.Tensor: shape=(1, 6, 3), dtype=int32, numpy=\n",
              "array([[[ 1,  2,  3],\n",
              "        [ 4,  5,  6],\n",
              "        [ 7,  8,  9],\n",
              "        [10, 11, 12],\n",
              "        [13, 14, 15],\n",
              "        [16, 17, 18]]], dtype=int32)>"
            ]
          },
          "metadata": {},
          "execution_count": 13
        }
      ]
    },
    {
      "cell_type": "code",
      "source": [
        "tensor.ndim"
      ],
      "metadata": {
        "colab": {
          "base_uri": "https://localhost:8080/"
        },
        "id": "OqneANiYhISX",
        "outputId": "5a04fda4-f35c-4d54-bfb8-3b9887a7a708"
      },
      "execution_count": null,
      "outputs": [
        {
          "output_type": "execute_result",
          "data": {
            "text/plain": [
              "3"
            ]
          },
          "metadata": {},
          "execution_count": 14
        }
      ]
    },
    {
      "cell_type": "markdown",
      "source": [
        "Scalar: single number\n",
        "Vector: a number with direction\n",
        "Matrix: a 2-deminsional array of numbers\n",
        "tensor: a n-dimensional array of numbers (where n can be any number)"
      ],
      "metadata": {
        "id": "FmRmFb1KhW3z"
      }
    },
    {
      "cell_type": "markdown",
      "source": [
        "### creating tensors with tf.variable"
      ],
      "metadata": {
        "id": "VyxGsC8ah2mw"
      }
    },
    {
      "cell_type": "code",
      "source": [
        "changeable_tensor = tf.Variable([10,7])\n",
        "unchangeable_tensor = tf.constant([10,7])\n",
        "unchangeable_tensor, changeable_tensor\n"
      ],
      "metadata": {
        "colab": {
          "base_uri": "https://localhost:8080/"
        },
        "id": "wbAOmoS6hps5",
        "outputId": "ea66af96-6259-4ead-922b-53f9d9be93ca"
      },
      "execution_count": null,
      "outputs": [
        {
          "output_type": "execute_result",
          "data": {
            "text/plain": [
              "(<tf.Tensor: shape=(2,), dtype=int32, numpy=array([10,  7], dtype=int32)>,\n",
              " <tf.Variable 'Variable:0' shape=(2,) dtype=int32, numpy=array([10,  7], dtype=int32)>)"
            ]
          },
          "metadata": {},
          "execution_count": 16
        }
      ]
    },
    {
      "cell_type": "code",
      "source": [
        "changeable_tensor[0] = 7\n",
        "changeable_tensor"
      ],
      "metadata": {
        "colab": {
          "base_uri": "https://localhost:8080/",
          "height": 182
        },
        "id": "hwTVRKeaigFl",
        "outputId": "3b34bdfc-98ed-406b-e5fb-d6c3e5813154"
      },
      "execution_count": null,
      "outputs": [
        {
          "output_type": "error",
          "ename": "TypeError",
          "evalue": "ignored",
          "traceback": [
            "\u001b[0;31m---------------------------------------------------------------------------\u001b[0m",
            "\u001b[0;31mTypeError\u001b[0m                                 Traceback (most recent call last)",
            "\u001b[0;32m<ipython-input-17-05d0bdd98eb4>\u001b[0m in \u001b[0;36m<module>\u001b[0;34m\u001b[0m\n\u001b[0;32m----> 1\u001b[0;31m \u001b[0mchangeable_tensor\u001b[0m\u001b[0;34m[\u001b[0m\u001b[0;36m0\u001b[0m\u001b[0;34m]\u001b[0m \u001b[0;34m=\u001b[0m \u001b[0;36m7\u001b[0m\u001b[0;34m\u001b[0m\u001b[0;34m\u001b[0m\u001b[0m\n\u001b[0m\u001b[1;32m      2\u001b[0m \u001b[0mchangeable_tensor\u001b[0m\u001b[0;34m\u001b[0m\u001b[0;34m\u001b[0m\u001b[0m\n",
            "\u001b[0;31mTypeError\u001b[0m: 'ResourceVariable' object does not support item assignment"
          ]
        }
      ]
    },
    {
      "cell_type": "code",
      "source": [
        "changeable_tensor[0].assign(7)\n",
        "changeable_tensor"
      ],
      "metadata": {
        "colab": {
          "base_uri": "https://localhost:8080/"
        },
        "id": "O4K6nUVjiu2X",
        "outputId": "3408b97c-356c-4ea1-d304-adc2678e818b"
      },
      "execution_count": null,
      "outputs": [
        {
          "output_type": "execute_result",
          "data": {
            "text/plain": [
              "<tf.Variable 'Variable:0' shape=(2,) dtype=int32, numpy=array([7, 7], dtype=int32)>"
            ]
          },
          "metadata": {},
          "execution_count": 18
        }
      ]
    },
    {
      "cell_type": "markdown",
      "source": [
        "### Creating random tensors"
      ],
      "metadata": {
        "id": "WKBzrPNHjcOc"
      }
    },
    {
      "cell_type": "code",
      "source": [
        "random_1 = tf.random.Generator.from_seed(42) # set seed for reproducibility\n",
        "random_1 = random_1.normal(shape=(3,2))\n",
        "random_2 = tf.random.Generator.from_seed(42)\n",
        "random_2 = random_2.normal(shape=(3,2))\n",
        "\n",
        "random_1, random_2, random_1 == random_2"
      ],
      "metadata": {
        "colab": {
          "base_uri": "https://localhost:8080/"
        },
        "id": "bUQjPH0Fjeec",
        "outputId": "0a13a970-c6c4-4098-ab9f-bf8ed7c4da60"
      },
      "execution_count": null,
      "outputs": [
        {
          "output_type": "execute_result",
          "data": {
            "text/plain": [
              "(<tf.Tensor: shape=(3, 2), dtype=float32, numpy=\n",
              " array([[-0.7565803 , -0.06854702],\n",
              "        [ 0.07595026, -1.2573844 ],\n",
              "        [-0.23193763, -1.8107855 ]], dtype=float32)>,\n",
              " <tf.Tensor: shape=(3, 2), dtype=float32, numpy=\n",
              " array([[-0.7565803 , -0.06854702],\n",
              "        [ 0.07595026, -1.2573844 ],\n",
              "        [-0.23193763, -1.8107855 ]], dtype=float32)>,\n",
              " <tf.Tensor: shape=(3, 2), dtype=bool, numpy=\n",
              " array([[ True,  True],\n",
              "        [ True,  True],\n",
              "        [ True,  True]])>)"
            ]
          },
          "metadata": {},
          "execution_count": 27
        }
      ]
    },
    {
      "cell_type": "markdown",
      "source": [
        "### Shuffle the order of elements in a tensor"
      ],
      "metadata": {
        "id": "jBIwQjT94NBY"
      }
    },
    {
      "cell_type": "code",
      "source": [
        "not_shuffled = tf.constant([[10,7],\n",
        "                            [2,5],\n",
        "                            [3,4]])\n",
        "tf.random.set_seed(42) # Global level seed\n",
        "tf.random.shuffle(not_shuffled, seed=1) # operation level seed"
      ],
      "metadata": {
        "id": "1GUAaospk5U5",
        "colab": {
          "base_uri": "https://localhost:8080/"
        },
        "outputId": "21b20f53-2d63-4143-ead5-30bcda1af1ab"
      },
      "execution_count": null,
      "outputs": [
        {
          "output_type": "execute_result",
          "data": {
            "text/plain": [
              "<tf.Tensor: shape=(3, 2), dtype=int32, numpy=\n",
              "array([[10,  7],\n",
              "       [ 3,  4],\n",
              "       [ 2,  5]], dtype=int32)>"
            ]
          },
          "metadata": {},
          "execution_count": 33
        }
      ]
    },
    {
      "cell_type": "markdown",
      "source": [
        "### Other ways to make tensors\n"
      ],
      "metadata": {
        "id": "Thqt23E97Jjk"
      }
    },
    {
      "cell_type": "code",
      "source": [
        "#Create a tensor of all ones\n",
        "tf.ones([10,7])"
      ],
      "metadata": {
        "colab": {
          "base_uri": "https://localhost:8080/"
        },
        "id": "6cJP2tdQ7LuQ",
        "outputId": "55d44a0f-b9a2-4511-fe38-8f7d2ddab38b"
      },
      "execution_count": null,
      "outputs": [
        {
          "output_type": "execute_result",
          "data": {
            "text/plain": [
              "<tf.Tensor: shape=(10, 7), dtype=float32, numpy=\n",
              "array([[1., 1., 1., 1., 1., 1., 1.],\n",
              "       [1., 1., 1., 1., 1., 1., 1.],\n",
              "       [1., 1., 1., 1., 1., 1., 1.],\n",
              "       [1., 1., 1., 1., 1., 1., 1.],\n",
              "       [1., 1., 1., 1., 1., 1., 1.],\n",
              "       [1., 1., 1., 1., 1., 1., 1.],\n",
              "       [1., 1., 1., 1., 1., 1., 1.],\n",
              "       [1., 1., 1., 1., 1., 1., 1.],\n",
              "       [1., 1., 1., 1., 1., 1., 1.],\n",
              "       [1., 1., 1., 1., 1., 1., 1.]], dtype=float32)>"
            ]
          },
          "metadata": {},
          "execution_count": 34
        }
      ]
    },
    {
      "cell_type": "code",
      "source": [
        "# create a tensor set of all zeros\n",
        "tf.zeros(shape=(3,4))"
      ],
      "metadata": {
        "colab": {
          "base_uri": "https://localhost:8080/"
        },
        "id": "9WXiIQYr7XYL",
        "outputId": "23675ec4-5bc5-4465-b37d-37099fef59b5"
      },
      "execution_count": null,
      "outputs": [
        {
          "output_type": "execute_result",
          "data": {
            "text/plain": [
              "<tf.Tensor: shape=(3, 4), dtype=float32, numpy=\n",
              "array([[0., 0., 0., 0.],\n",
              "       [0., 0., 0., 0.],\n",
              "       [0., 0., 0., 0.]], dtype=float32)>"
            ]
          },
          "metadata": {},
          "execution_count": 41
        }
      ]
    },
    {
      "cell_type": "markdown",
      "source": [
        "### Turn NumPy arrays into tensors\n",
        "The main difference between NumPy arrays and TensorFlow tensors is that tensors can run faster on a GPU for numerical computing"
      ],
      "metadata": {
        "id": "PrmsvH3o778k"
      }
    },
    {
      "cell_type": "code",
      "source": [
        "import numpy as np\n",
        "numpy_A = np.arange(1,51, dtype=np.int32)\n",
        "numpy_A  # create a NumPy range between 1 and 25\n",
        "# X = tf.constant(some_matrix)\n",
        "# y = tf.constant(vector)\n"
      ],
      "metadata": {
        "colab": {
          "base_uri": "https://localhost:8080/"
        },
        "id": "dSc7p-Kr8EbN",
        "outputId": "99acbfb3-fa7c-4e6d-e329-2e3bdc03bdb9"
      },
      "execution_count": null,
      "outputs": [
        {
          "output_type": "execute_result",
          "data": {
            "text/plain": [
              "array([ 1,  2,  3,  4,  5,  6,  7,  8,  9, 10, 11, 12, 13, 14, 15, 16, 17,\n",
              "       18, 19, 20, 21, 22, 23, 24, 25, 26, 27, 28, 29, 30, 31, 32, 33, 34,\n",
              "       35, 36, 37, 38, 39, 40, 41, 42, 43, 44, 45, 46, 47, 48, 49, 50],\n",
              "      dtype=int32)"
            ]
          },
          "metadata": {},
          "execution_count": 51
        }
      ]
    },
    {
      "cell_type": "code",
      "source": [
        "A = tf.constant(numpy_A, shape=(5,10))\n",
        "A"
      ],
      "metadata": {
        "colab": {
          "base_uri": "https://localhost:8080/"
        },
        "id": "VZd1u81j8rW3",
        "outputId": "feb55cbe-b157-4594-a98e-858503b25366"
      },
      "execution_count": null,
      "outputs": [
        {
          "output_type": "execute_result",
          "data": {
            "text/plain": [
              "<tf.Tensor: shape=(5, 10), dtype=int32, numpy=\n",
              "array([[ 1,  2,  3,  4,  5,  6,  7,  8,  9, 10],\n",
              "       [11, 12, 13, 14, 15, 16, 17, 18, 19, 20],\n",
              "       [21, 22, 23, 24, 25, 26, 27, 28, 29, 30],\n",
              "       [31, 32, 33, 34, 35, 36, 37, 38, 39, 40],\n",
              "       [41, 42, 43, 44, 45, 46, 47, 48, 49, 50]], dtype=int32)>"
            ]
          },
          "metadata": {},
          "execution_count": 52
        }
      ]
    },
    {
      "cell_type": "markdown",
      "source": [
        "### Getting information from tensors\n",
        "* Shape\n",
        "* Rank\n",
        "* Axis or dimension\n",
        "* Size\n"
      ],
      "metadata": {
        "id": "PAtrPFW79Y-D"
      }
    },
    {
      "cell_type": "code",
      "source": [
        "rank_4_tensor = tf.zeros(shape=[2,3,4,5])\n",
        "rank_4_tensor"
      ],
      "metadata": {
        "colab": {
          "base_uri": "https://localhost:8080/"
        },
        "id": "QNCg3ZBB9pYq",
        "outputId": "b033062d-0064-4689-84a4-b9819cd76de2"
      },
      "execution_count": null,
      "outputs": [
        {
          "output_type": "execute_result",
          "data": {
            "text/plain": [
              "<tf.Tensor: shape=(2, 3, 4, 5), dtype=float32, numpy=\n",
              "array([[[[0., 0., 0., 0., 0.],\n",
              "         [0., 0., 0., 0., 0.],\n",
              "         [0., 0., 0., 0., 0.],\n",
              "         [0., 0., 0., 0., 0.]],\n",
              "\n",
              "        [[0., 0., 0., 0., 0.],\n",
              "         [0., 0., 0., 0., 0.],\n",
              "         [0., 0., 0., 0., 0.],\n",
              "         [0., 0., 0., 0., 0.]],\n",
              "\n",
              "        [[0., 0., 0., 0., 0.],\n",
              "         [0., 0., 0., 0., 0.],\n",
              "         [0., 0., 0., 0., 0.],\n",
              "         [0., 0., 0., 0., 0.]]],\n",
              "\n",
              "\n",
              "       [[[0., 0., 0., 0., 0.],\n",
              "         [0., 0., 0., 0., 0.],\n",
              "         [0., 0., 0., 0., 0.],\n",
              "         [0., 0., 0., 0., 0.]],\n",
              "\n",
              "        [[0., 0., 0., 0., 0.],\n",
              "         [0., 0., 0., 0., 0.],\n",
              "         [0., 0., 0., 0., 0.],\n",
              "         [0., 0., 0., 0., 0.]],\n",
              "\n",
              "        [[0., 0., 0., 0., 0.],\n",
              "         [0., 0., 0., 0., 0.],\n",
              "         [0., 0., 0., 0., 0.],\n",
              "         [0., 0., 0., 0., 0.]]]], dtype=float32)>"
            ]
          },
          "metadata": {},
          "execution_count": 54
        }
      ]
    },
    {
      "cell_type": "code",
      "source": [
        "rank_4_tensor[0]"
      ],
      "metadata": {
        "colab": {
          "base_uri": "https://localhost:8080/"
        },
        "id": "u5eYg80f_Mfc",
        "outputId": "27fbdd0a-6aea-4597-eec7-1f990175169c"
      },
      "execution_count": null,
      "outputs": [
        {
          "output_type": "execute_result",
          "data": {
            "text/plain": [
              "<tf.Tensor: shape=(3, 4, 5), dtype=float32, numpy=\n",
              "array([[[0., 0., 0., 0., 0.],\n",
              "        [0., 0., 0., 0., 0.],\n",
              "        [0., 0., 0., 0., 0.],\n",
              "        [0., 0., 0., 0., 0.]],\n",
              "\n",
              "       [[0., 0., 0., 0., 0.],\n",
              "        [0., 0., 0., 0., 0.],\n",
              "        [0., 0., 0., 0., 0.],\n",
              "        [0., 0., 0., 0., 0.]],\n",
              "\n",
              "       [[0., 0., 0., 0., 0.],\n",
              "        [0., 0., 0., 0., 0.],\n",
              "        [0., 0., 0., 0., 0.],\n",
              "        [0., 0., 0., 0., 0.]]], dtype=float32)>"
            ]
          },
          "metadata": {},
          "execution_count": 60
        }
      ]
    },
    {
      "cell_type": "code",
      "source": [
        "rank_4_tensor.shape, rank_4_tensor.ndim, tf.size(rank_4_tensor)"
      ],
      "metadata": {
        "colab": {
          "base_uri": "https://localhost:8080/"
        },
        "id": "SXoEr_O1_XK0",
        "outputId": "f5d70810-9db1-4a92-f543-6b6a77c0e7f4"
      },
      "execution_count": null,
      "outputs": [
        {
          "output_type": "execute_result",
          "data": {
            "text/plain": [
              "(TensorShape([2, 3, 4, 5]), 4, <tf.Tensor: shape=(), dtype=int32, numpy=120>)"
            ]
          },
          "metadata": {},
          "execution_count": 61
        }
      ]
    },
    {
      "cell_type": "code",
      "source": [
        "print(\"Datatype of every element:\", rank_4_tensor.dtype)\n",
        "print(\"number of dimension:\", rank_4_tensor.ndim)\n",
        "print(\"Shape of tensor: \", rank_4_tensor.shape)\n",
        "print(\"Elements along the zero axis:\", rank_4_tensor.shape[0])\n",
        "print(\"Elements a longt he last axis:\", rank_4_tensor.shape[-1])\n",
        "print('total number of elements in our tensor', tf.size(rank_4_tensor).numpy())"
      ],
      "metadata": {
        "colab": {
          "base_uri": "https://localhost:8080/"
        },
        "id": "N_IQcPow_tLP",
        "outputId": "c11ba260-dcf1-458e-9ebc-2a39f961237d"
      },
      "execution_count": null,
      "outputs": [
        {
          "output_type": "stream",
          "name": "stdout",
          "text": [
            "Datatype of every element: <dtype: 'float32'>\n",
            "number of dimension: 4\n",
            "Shape of tensor:  (2, 3, 4, 5)\n",
            "Elements along the zero axis: 2\n",
            "Elements a longt he last axis: 5\n",
            "total number of elements in our tensor 120\n"
          ]
        }
      ]
    },
    {
      "cell_type": "markdown",
      "source": [
        "### Indexing and expanding tensors"
      ],
      "metadata": {
        "id": "7C8YYYuKAjrU"
      }
    },
    {
      "cell_type": "code",
      "source": [
        "rank_4_tensor[:2, :2, :2, :2]"
      ],
      "metadata": {
        "colab": {
          "base_uri": "https://localhost:8080/"
        },
        "id": "nt778AObAnfn",
        "outputId": "f772e093-da1a-43b6-c3cd-dcce9932ab88"
      },
      "execution_count": null,
      "outputs": [
        {
          "output_type": "execute_result",
          "data": {
            "text/plain": [
              "<tf.Tensor: shape=(2, 2, 2, 2), dtype=float32, numpy=\n",
              "array([[[[0., 0.],\n",
              "         [0., 0.]],\n",
              "\n",
              "        [[0., 0.],\n",
              "         [0., 0.]]],\n",
              "\n",
              "\n",
              "       [[[0., 0.],\n",
              "         [0., 0.]],\n",
              "\n",
              "        [[0., 0.],\n",
              "         [0., 0.]]]], dtype=float32)>"
            ]
          },
          "metadata": {},
          "execution_count": 64
        }
      ]
    },
    {
      "cell_type": "code",
      "source": [
        "rank_4_tensor[:2,:2,:2]"
      ],
      "metadata": {
        "colab": {
          "base_uri": "https://localhost:8080/"
        },
        "id": "xLzRKNl1BWyC",
        "outputId": "2ba25365-2216-45cc-fac6-13332d331f8e"
      },
      "execution_count": null,
      "outputs": [
        {
          "output_type": "execute_result",
          "data": {
            "text/plain": [
              "<tf.Tensor: shape=(2, 2, 2, 5), dtype=float32, numpy=\n",
              "array([[[[0., 0., 0., 0., 0.],\n",
              "         [0., 0., 0., 0., 0.]],\n",
              "\n",
              "        [[0., 0., 0., 0., 0.],\n",
              "         [0., 0., 0., 0., 0.]]],\n",
              "\n",
              "\n",
              "       [[[0., 0., 0., 0., 0.],\n",
              "         [0., 0., 0., 0., 0.]],\n",
              "\n",
              "        [[0., 0., 0., 0., 0.],\n",
              "         [0., 0., 0., 0., 0.]]]], dtype=float32)>"
            ]
          },
          "metadata": {},
          "execution_count": 65
        }
      ]
    },
    {
      "cell_type": "code",
      "source": [
        "rank_2_tensor = tf.constant([[10,7],\n",
        "                             [2,3]])\n",
        "rank_2_tensor[:, -1]"
      ],
      "metadata": {
        "colab": {
          "base_uri": "https://localhost:8080/"
        },
        "id": "dVd-YKxgB6CJ",
        "outputId": "0079dfd4-0364-414a-9a72-83a3191a08f3"
      },
      "execution_count": null,
      "outputs": [
        {
          "output_type": "execute_result",
          "data": {
            "text/plain": [
              "<tf.Tensor: shape=(2,), dtype=int32, numpy=array([7, 3], dtype=int32)>"
            ]
          },
          "metadata": {},
          "execution_count": 73
        }
      ]
    },
    {
      "cell_type": "code",
      "source": [
        "rank_3_tensor = rank_2_tensor[..., tf.newaxis]\n",
        "rank_3_tensor"
      ],
      "metadata": {
        "colab": {
          "base_uri": "https://localhost:8080/"
        },
        "id": "BeVbo7qoCuv1",
        "outputId": "752aed92-eae5-4621-f540-921f54b1ede6"
      },
      "execution_count": null,
      "outputs": [
        {
          "output_type": "execute_result",
          "data": {
            "text/plain": [
              "<tf.Tensor: shape=(2, 2, 1), dtype=int32, numpy=\n",
              "array([[[10],\n",
              "        [ 7]],\n",
              "\n",
              "       [[ 2],\n",
              "        [ 3]]], dtype=int32)>"
            ]
          },
          "metadata": {},
          "execution_count": 74
        }
      ]
    },
    {
      "cell_type": "code",
      "source": [
        "tf.expand_dims(rank_2_tensor, axis=-1) # -1 means expands the final axis"
      ],
      "metadata": {
        "colab": {
          "base_uri": "https://localhost:8080/"
        },
        "id": "GVa05Qp3DLmk",
        "outputId": "5a422d74-5f45-4b6a-a5d5-10f18e532ca8"
      },
      "execution_count": null,
      "outputs": [
        {
          "output_type": "execute_result",
          "data": {
            "text/plain": [
              "<tf.Tensor: shape=(2, 2, 1), dtype=int32, numpy=\n",
              "array([[[10],\n",
              "        [ 7]],\n",
              "\n",
              "       [[ 2],\n",
              "        [ 3]]], dtype=int32)>"
            ]
          },
          "metadata": {},
          "execution_count": 75
        }
      ]
    },
    {
      "cell_type": "markdown",
      "source": [
        "### Manipulating tensors (tensor operations)"
      ],
      "metadata": {
        "id": "VGP_c96kDtl_"
      }
    },
    {
      "cell_type": "code",
      "source": [
        "# you can add values to a tensor using the addition operator\n",
        "tensor = tf.constant([[10,7],\n",
        "                      [3,4]])\n",
        "tensor + 10"
      ],
      "metadata": {
        "id": "UE5vA04CDwYi",
        "colab": {
          "base_uri": "https://localhost:8080/"
        },
        "outputId": "ce31f381-b2d0-4924-b737-3f28089f69dc"
      },
      "execution_count": null,
      "outputs": [
        {
          "output_type": "execute_result",
          "data": {
            "text/plain": [
              "<tf.Tensor: shape=(2, 2), dtype=int32, numpy=\n",
              "array([[20, 17],\n",
              "       [13, 14]], dtype=int32)>"
            ]
          },
          "metadata": {},
          "execution_count": 6
        }
      ]
    },
    {
      "cell_type": "code",
      "source": [
        "tensor"
      ],
      "metadata": {
        "colab": {
          "base_uri": "https://localhost:8080/"
        },
        "id": "9UCLBN0IWUJj",
        "outputId": "c6860bca-45f2-4092-b24e-aa5f3cbd5977"
      },
      "execution_count": null,
      "outputs": [
        {
          "output_type": "execute_result",
          "data": {
            "text/plain": [
              "<tf.Tensor: shape=(2, 2), dtype=int32, numpy=\n",
              "array([[10,  7],\n",
              "       [ 3,  4]], dtype=int32)>"
            ]
          },
          "metadata": {},
          "execution_count": 4
        }
      ]
    },
    {
      "cell_type": "code",
      "source": [
        "# use tensor flow built in function\n",
        "tf.add(tensor, 10)"
      ],
      "metadata": {
        "colab": {
          "base_uri": "https://localhost:8080/"
        },
        "id": "XmtJdBs8WXXu",
        "outputId": "0b8198d7-820b-4211-c9b2-2cc8ea45da6f"
      },
      "execution_count": null,
      "outputs": [
        {
          "output_type": "execute_result",
          "data": {
            "text/plain": [
              "<tf.Tensor: shape=(2, 2), dtype=int32, numpy=\n",
              "array([[20, 17],\n",
              "       [13, 14]], dtype=int32)>"
            ]
          },
          "metadata": {},
          "execution_count": 6
        }
      ]
    },
    {
      "cell_type": "code",
      "source": [
        "rank_5_tensor = tf.zeros(shape=[1,2,3,4,5])\n",
        "rank_5_tensor.ndim"
      ],
      "metadata": {
        "colab": {
          "base_uri": "https://localhost:8080/"
        },
        "id": "UtRAO4ggXG9h",
        "outputId": "7c914415-ee2f-4238-8d86-2437474e107d"
      },
      "execution_count": null,
      "outputs": [
        {
          "output_type": "execute_result",
          "data": {
            "text/plain": [
              "5"
            ]
          },
          "metadata": {},
          "execution_count": 7
        }
      ]
    },
    {
      "cell_type": "code",
      "source": [
        "tf.add(rank_5_tensor, 2)"
      ],
      "metadata": {
        "colab": {
          "base_uri": "https://localhost:8080/"
        },
        "id": "gFN2pxxAXacm",
        "outputId": "66a9300c-a3c6-4af3-d110-1aba08fc7d83"
      },
      "execution_count": null,
      "outputs": [
        {
          "output_type": "execute_result",
          "data": {
            "text/plain": [
              "<tf.Tensor: shape=(1, 2, 3, 4, 5), dtype=float32, numpy=\n",
              "array([[[[[2., 2., 2., 2., 2.],\n",
              "          [2., 2., 2., 2., 2.],\n",
              "          [2., 2., 2., 2., 2.],\n",
              "          [2., 2., 2., 2., 2.]],\n",
              "\n",
              "         [[2., 2., 2., 2., 2.],\n",
              "          [2., 2., 2., 2., 2.],\n",
              "          [2., 2., 2., 2., 2.],\n",
              "          [2., 2., 2., 2., 2.]],\n",
              "\n",
              "         [[2., 2., 2., 2., 2.],\n",
              "          [2., 2., 2., 2., 2.],\n",
              "          [2., 2., 2., 2., 2.],\n",
              "          [2., 2., 2., 2., 2.]]],\n",
              "\n",
              "\n",
              "        [[[2., 2., 2., 2., 2.],\n",
              "          [2., 2., 2., 2., 2.],\n",
              "          [2., 2., 2., 2., 2.],\n",
              "          [2., 2., 2., 2., 2.]],\n",
              "\n",
              "         [[2., 2., 2., 2., 2.],\n",
              "          [2., 2., 2., 2., 2.],\n",
              "          [2., 2., 2., 2., 2.],\n",
              "          [2., 2., 2., 2., 2.]],\n",
              "\n",
              "         [[2., 2., 2., 2., 2.],\n",
              "          [2., 2., 2., 2., 2.],\n",
              "          [2., 2., 2., 2., 2.],\n",
              "          [2., 2., 2., 2., 2.]]]]], dtype=float32)>"
            ]
          },
          "metadata": {},
          "execution_count": 8
        }
      ]
    },
    {
      "cell_type": "markdown",
      "source": [
        "**Matrix multiplication**\n",
        "\n",
        "There are 2 rules to matrix multiplication\n",
        "\n",
        "1. Inner dimensions must match (numbers on the inside must match)\n",
        "2. The resulting matrix has the shape of the dimension (New size is same as outside numbers)"
      ],
      "metadata": {
        "id": "qPAVBUK9zHtO"
      }
    },
    {
      "cell_type": "code",
      "source": [
        "#Matrix multiplication in tensor flow\n",
        "tf.matmul(tensor,tensor)"
      ],
      "metadata": {
        "colab": {
          "base_uri": "https://localhost:8080/"
        },
        "id": "MLkL_nNFzMiC",
        "outputId": "c1482229-674b-4e7b-8d48-f0745ef1092f"
      },
      "execution_count": null,
      "outputs": [
        {
          "output_type": "execute_result",
          "data": {
            "text/plain": [
              "<tf.Tensor: shape=(2, 2), dtype=int32, numpy=\n",
              "array([[121,  98],\n",
              "       [ 42,  37]], dtype=int32)>"
            ]
          },
          "metadata": {},
          "execution_count": 12
        }
      ]
    },
    {
      "cell_type": "code",
      "source": [
        "tensor @ tensor # python syntax for matrix multiplication"
      ],
      "metadata": {
        "colab": {
          "base_uri": "https://localhost:8080/"
        },
        "id": "DS6jrt4t1ODh",
        "outputId": "d53ce976-24e5-4b2c-9c8e-06850abe1dd4"
      },
      "execution_count": null,
      "outputs": [
        {
          "output_type": "execute_result",
          "data": {
            "text/plain": [
              "<tf.Tensor: shape=(2, 2), dtype=int32, numpy=\n",
              "array([[121,  98],\n",
              "       [ 42,  37]], dtype=int32)>"
            ]
          },
          "metadata": {},
          "execution_count": 14
        }
      ]
    },
    {
      "cell_type": "code",
      "source": [
        "a = tf.constant([[1,2,5],\n",
        "                 [7,2,1]])\n",
        "\n",
        "b = tf.constant([[3,5],\n",
        "                 [6,7],\n",
        "                 [1,8]])\n",
        "\n",
        "tf.matmul(a,b)"
      ],
      "metadata": {
        "colab": {
          "base_uri": "https://localhost:8080/"
        },
        "id": "VO23ey81035x",
        "outputId": "0cf5c095-0596-4794-ab99-ee80ee751b8e"
      },
      "execution_count": null,
      "outputs": [
        {
          "output_type": "execute_result",
          "data": {
            "text/plain": [
              "<tf.Tensor: shape=(2, 2), dtype=int32, numpy=\n",
              "array([[20, 59],\n",
              "       [34, 57]], dtype=int32)>"
            ]
          },
          "metadata": {},
          "execution_count": 21
        }
      ]
    },
    {
      "cell_type": "code",
      "source": [
        "tf.reshape(a, shape=(3,2)) #reshapes tensor"
      ],
      "metadata": {
        "colab": {
          "base_uri": "https://localhost:8080/"
        },
        "id": "FtuLET3B39mW",
        "outputId": "4bc7e9eb-4ac3-45a5-ad7b-10f28cb0da2d"
      },
      "execution_count": null,
      "outputs": [
        {
          "output_type": "execute_result",
          "data": {
            "text/plain": [
              "<tf.Tensor: shape=(3, 2), dtype=int32, numpy=\n",
              "array([[1, 2],\n",
              "       [5, 7],\n",
              "       [2, 1]], dtype=int32)>"
            ]
          },
          "metadata": {},
          "execution_count": 18
        }
      ]
    },
    {
      "cell_type": "code",
      "source": [
        "tf.reshape(a, shape=(3,2)) @ tf.reshape(b, shape=(2,3)) # reshape and matrix multiply\n",
        "# note that outputs are different based on matrix shape"
      ],
      "metadata": {
        "colab": {
          "base_uri": "https://localhost:8080/"
        },
        "id": "LCw8WLmW4PC1",
        "outputId": "5f3a7bcf-4009-4a40-a979-57e72ab0f2e8"
      },
      "execution_count": null,
      "outputs": [
        {
          "output_type": "execute_result",
          "data": {
            "text/plain": [
              "<tf.Tensor: shape=(3, 3), dtype=int32, numpy=\n",
              "array([[17,  7, 22],\n",
              "       [64, 32, 86],\n",
              "       [13, 11, 20]], dtype=int32)>"
            ]
          },
          "metadata": {},
          "execution_count": 20
        }
      ]
    },
    {
      "cell_type": "code",
      "source": [
        "tf.transpose(a), tf.reshape(a, shape=(3,2)) # transpose flips axis, where as reshape is more customizable"
      ],
      "metadata": {
        "colab": {
          "base_uri": "https://localhost:8080/"
        },
        "id": "G4GEb3nv4xvw",
        "outputId": "63ddff3b-44bb-435e-b743-cb6afca15902"
      },
      "execution_count": null,
      "outputs": [
        {
          "output_type": "execute_result",
          "data": {
            "text/plain": [
              "(<tf.Tensor: shape=(3, 2), dtype=int32, numpy=\n",
              " array([[1, 7],\n",
              "        [2, 2],\n",
              "        [5, 1]], dtype=int32)>, <tf.Tensor: shape=(3, 2), dtype=int32, numpy=\n",
              " array([[1, 2],\n",
              "        [5, 7],\n",
              "        [2, 1]], dtype=int32)>)"
            ]
          },
          "metadata": {},
          "execution_count": 24
        }
      ]
    },
    {
      "cell_type": "code",
      "source": [
        "tf.matmul(tf.transpose(a), tf.transpose(b)) # note different results then reshape, as axis is flipped leaving to different values in each index"
      ],
      "metadata": {
        "colab": {
          "base_uri": "https://localhost:8080/"
        },
        "id": "ApCxIcpd5SFh",
        "outputId": "88390608-cbf5-4fae-d67a-c96627740641"
      },
      "execution_count": null,
      "outputs": [
        {
          "output_type": "execute_result",
          "data": {
            "text/plain": [
              "<tf.Tensor: shape=(3, 3), dtype=int32, numpy=\n",
              "array([[38, 55, 57],\n",
              "       [16, 26, 18],\n",
              "       [20, 37, 13]], dtype=int32)>"
            ]
          },
          "metadata": {},
          "execution_count": 28
        }
      ]
    },
    {
      "cell_type": "markdown",
      "source": [
        "**The dot product**"
      ],
      "metadata": {
        "id": "lm88xbAq3Rrz"
      }
    },
    {
      "cell_type": "code",
      "source": [
        "# perform the dot product on x and y (requires x or y to be transposed)\n",
        "tf.tensordot(tf.transpose(a), tf.transpose(b), axes=1)"
      ],
      "metadata": {
        "colab": {
          "base_uri": "https://localhost:8080/"
        },
        "id": "6F9dC9p93TgL",
        "outputId": "1f07821f-ed8e-4b7f-ce7d-8edcf74513f7"
      },
      "execution_count": null,
      "outputs": [
        {
          "output_type": "execute_result",
          "data": {
            "text/plain": [
              "<tf.Tensor: shape=(3, 3), dtype=int32, numpy=\n",
              "array([[38, 55, 57],\n",
              "       [16, 26, 18],\n",
              "       [20, 37, 13]], dtype=int32)>"
            ]
          },
          "metadata": {},
          "execution_count": 30
        }
      ]
    },
    {
      "cell_type": "markdown",
      "source": [
        "Generally, when performing multiplication and two tensors you will usually transpose instead of reshaping if the axies doesnt line up to satisfy matrix multiplication rules"
      ],
      "metadata": {
        "id": "VEhEYY1R7suK"
      }
    },
    {
      "cell_type": "markdown",
      "source": [
        "### Changing the datatype of a tensor"
      ],
      "metadata": {
        "id": "vJt10l-e_0hf"
      }
    },
    {
      "cell_type": "code",
      "source": [
        "B = tf.constant([1.7, 7.4])\n",
        "B"
      ],
      "metadata": {
        "colab": {
          "base_uri": "https://localhost:8080/"
        },
        "id": "YD6-Ejbk_4fN",
        "outputId": "5de809e3-763b-45b1-ae20-05b1baed8a08"
      },
      "execution_count": null,
      "outputs": [
        {
          "output_type": "execute_result",
          "data": {
            "text/plain": [
              "<tf.Tensor: shape=(2,), dtype=float32, numpy=array([1.7, 7.4], dtype=float32)>"
            ]
          },
          "metadata": {},
          "execution_count": 3
        }
      ]
    },
    {
      "cell_type": "code",
      "source": [
        "D = tf.cast(B, dtype=tf.float16) #Change from float 32 to float 16(This makes it run faster)\n",
        "D"
      ],
      "metadata": {
        "colab": {
          "base_uri": "https://localhost:8080/"
        },
        "id": "V7HuqQJIAJCJ",
        "outputId": "c03ca71d-99aa-49ef-ea5f-b7d57057d7e4"
      },
      "execution_count": null,
      "outputs": [
        {
          "output_type": "execute_result",
          "data": {
            "text/plain": [
              "<tf.Tensor: shape=(2,), dtype=float16, numpy=array([1.7, 7.4], dtype=float16)>"
            ]
          },
          "metadata": {},
          "execution_count": 5
        }
      ]
    },
    {
      "cell_type": "markdown",
      "source": [
        "### Aggregating tensors\n",
        "\n",
        "Aggregating tnesors = condensing them from multiple valuies down to a smaller amount of values"
      ],
      "metadata": {
        "id": "jEsj8T3_BRTc"
      }
    },
    {
      "cell_type": "code",
      "source": [
        "# get absolute values\n",
        "D = tf.constant([-7, -10])\n",
        "tf.abs(D) # note result is positive but tensor contains negative numbers"
      ],
      "metadata": {
        "colab": {
          "base_uri": "https://localhost:8080/"
        },
        "id": "SX8BN0SlBS2Z",
        "outputId": "a07c3540-ecba-478d-f5b3-deacec820ffb"
      },
      "execution_count": null,
      "outputs": [
        {
          "output_type": "execute_result",
          "data": {
            "text/plain": [
              "<tf.Tensor: shape=(2,), dtype=int32, numpy=array([ 7, 10], dtype=int32)>"
            ]
          },
          "metadata": {},
          "execution_count": 8
        }
      ]
    },
    {
      "cell_type": "markdown",
      "source": [
        "* Get minimum\n",
        "* Get maximum\n",
        "* Get mean\n",
        "* Get sum"
      ],
      "metadata": {
        "id": "FCMHZnxCCkEs"
      }
    },
    {
      "cell_type": "code",
      "source": [
        "E = tf.constant([[np.random.randint(0,100,size=50)], [np.random.randint(0,100,size=50)]])\n",
        "E"
      ],
      "metadata": {
        "colab": {
          "base_uri": "https://localhost:8080/"
        },
        "id": "q7NS-vPOCqhs",
        "outputId": "2942c41e-3fbe-4d20-fa96-6acbecf60f38"
      },
      "execution_count": null,
      "outputs": [
        {
          "output_type": "execute_result",
          "data": {
            "text/plain": [
              "<tf.Tensor: shape=(2, 1, 50), dtype=int32, numpy=\n",
              "array([[[74, 79, 90, 97,  9, 56, 63, 74, 64, 30, 91,  3, 55, 46, 65, 71,\n",
              "         98,  5, 61, 29, 17, 57, 33, 78,  2, 66, 77, 84, 96, 37, 80, 80,\n",
              "         56, 86, 77, 33, 27, 80, 92, 68, 60, 83, 81, 65,  0, 62, 29, 48,\n",
              "         78, 29]],\n",
              "\n",
              "       [[62, 29, 84, 29, 28, 41, 74, 87, 69,  9, 74, 46, 22, 85, 51, 63,\n",
              "         10, 36, 92, 22, 31, 50, 39, 69,  7, 42, 29, 21, 29, 21, 87, 98,\n",
              "         94, 18, 59, 45,  9,  2, 89, 38, 23, 27, 72, 25, 45, 37, 88,  5,\n",
              "         60, 45]]], dtype=int32)>"
            ]
          },
          "metadata": {},
          "execution_count": 24
        }
      ]
    },
    {
      "cell_type": "code",
      "source": [
        "# Find minmum\n",
        "tf.reduce_min(E)"
      ],
      "metadata": {
        "colab": {
          "base_uri": "https://localhost:8080/"
        },
        "id": "mQAgw9tjDLJK",
        "outputId": "e6ed99a1-0067-4fda-ca09-2e384047a111"
      },
      "execution_count": null,
      "outputs": [
        {
          "output_type": "execute_result",
          "data": {
            "text/plain": [
              "<tf.Tensor: shape=(), dtype=int64, numpy=0>"
            ]
          },
          "metadata": {},
          "execution_count": 14
        }
      ]
    },
    {
      "cell_type": "code",
      "source": [
        "tf.reduce_max(E)"
      ],
      "metadata": {
        "colab": {
          "base_uri": "https://localhost:8080/"
        },
        "id": "V5-bg2YvDSE0",
        "outputId": "9182123c-271a-47fe-eb5d-360b78cbaab2"
      },
      "execution_count": null,
      "outputs": [
        {
          "output_type": "execute_result",
          "data": {
            "text/plain": [
              "<tf.Tensor: shape=(), dtype=int64, numpy=96>"
            ]
          },
          "metadata": {},
          "execution_count": 15
        }
      ]
    },
    {
      "cell_type": "code",
      "source": [
        "tf.reduce_sum(E)"
      ],
      "metadata": {
        "colab": {
          "base_uri": "https://localhost:8080/"
        },
        "id": "kmyDpqa4DU34",
        "outputId": "0129b025-70aa-49ef-9d06-1fc5190e877c"
      },
      "execution_count": null,
      "outputs": [
        {
          "output_type": "execute_result",
          "data": {
            "text/plain": [
              "<tf.Tensor: shape=(), dtype=int64, numpy=2366>"
            ]
          },
          "metadata": {},
          "execution_count": 16
        }
      ]
    },
    {
      "cell_type": "code",
      "source": [
        "tf.reduce_mean(E)"
      ],
      "metadata": {
        "colab": {
          "base_uri": "https://localhost:8080/"
        },
        "id": "u57rlxDNDYty",
        "outputId": "f86d07be-32b8-49d7-8b57-cad1da2f8a61"
      },
      "execution_count": null,
      "outputs": [
        {
          "output_type": "execute_result",
          "data": {
            "text/plain": [
              "<tf.Tensor: shape=(), dtype=int64, numpy=47>"
            ]
          },
          "metadata": {},
          "execution_count": 17
        }
      ]
    },
    {
      "cell_type": "code",
      "source": [
        "E = tf.cast(E, dtype=tf.float32) # To reduce standard deviation and variance tensor must be a float 32\n",
        "tf.math.reduce_std(E), tf.math.reduce_variance(E) # finds standard deviation and variance of a tensor"
      ],
      "metadata": {
        "colab": {
          "base_uri": "https://localhost:8080/"
        },
        "id": "bk7s-VETDwyl",
        "outputId": "a3f45b35-2455-4a8d-89d7-e80043218257"
      },
      "execution_count": null,
      "outputs": [
        {
          "output_type": "execute_result",
          "data": {
            "text/plain": [
              "(<tf.Tensor: shape=(), dtype=float32, numpy=27.967045>,\n",
              " <tf.Tensor: shape=(), dtype=float32, numpy=782.15564>)"
            ]
          },
          "metadata": {},
          "execution_count": 37
        }
      ]
    },
    {
      "cell_type": "markdown",
      "source": [
        "### Find the positional maximum and minimum\n",
        "\n",
        "\n",
        "\n"
      ],
      "metadata": {
        "id": "kYe6QLsVGn6s"
      }
    },
    {
      "cell_type": "code",
      "source": [
        "tf.random.set_seed(42)\n",
        "F = tf.random.uniform(shape=[50])\n",
        "F"
      ],
      "metadata": {
        "colab": {
          "base_uri": "https://localhost:8080/"
        },
        "id": "1pjaTCc7Gsu8",
        "outputId": "10a149ae-e0a4-40db-e7ce-c76789ba78ca"
      },
      "execution_count": null,
      "outputs": [
        {
          "output_type": "execute_result",
          "data": {
            "text/plain": [
              "<tf.Tensor: shape=(50,), dtype=float32, numpy=\n",
              "array([0.6645621 , 0.44100678, 0.3528825 , 0.46448255, 0.03366041,\n",
              "       0.68467236, 0.74011743, 0.8724445 , 0.22632635, 0.22319686,\n",
              "       0.3103881 , 0.7223358 , 0.13318717, 0.5480639 , 0.5746088 ,\n",
              "       0.8996835 , 0.00946367, 0.5212307 , 0.6345445 , 0.1993283 ,\n",
              "       0.72942245, 0.54583454, 0.10756552, 0.6767061 , 0.6602763 ,\n",
              "       0.33695042, 0.60141766, 0.21062577, 0.8527372 , 0.44062173,\n",
              "       0.9485276 , 0.23752594, 0.81179297, 0.5263394 , 0.494308  ,\n",
              "       0.21612847, 0.8457197 , 0.8718841 , 0.3083862 , 0.6868038 ,\n",
              "       0.23764038, 0.7817228 , 0.9671384 , 0.06870162, 0.79873943,\n",
              "       0.66028714, 0.5871513 , 0.16461694, 0.7381023 , 0.32054043],\n",
              "      dtype=float32)>"
            ]
          },
          "metadata": {},
          "execution_count": 40
        }
      ]
    },
    {
      "cell_type": "code",
      "source": [
        "# Find positional maximum\n",
        "tf.argmax(F) # Prints the postional maximum"
      ],
      "metadata": {
        "colab": {
          "base_uri": "https://localhost:8080/"
        },
        "id": "EJ7p0KttIAUq",
        "outputId": "01074d0e-f628-4587-f47b-ea8fada170bf"
      },
      "execution_count": null,
      "outputs": [
        {
          "output_type": "execute_result",
          "data": {
            "text/plain": [
              "<tf.Tensor: shape=(), dtype=int64, numpy=42>"
            ]
          },
          "metadata": {},
          "execution_count": 41
        }
      ]
    },
    {
      "cell_type": "code",
      "source": [
        "F[tf.argmax(F)] # Prints value"
      ],
      "metadata": {
        "colab": {
          "base_uri": "https://localhost:8080/"
        },
        "id": "bygIf5myISEs",
        "outputId": "4ca1f5a7-f96b-4715-dce4-8b3757b87461"
      },
      "execution_count": null,
      "outputs": [
        {
          "output_type": "execute_result",
          "data": {
            "text/plain": [
              "<tf.Tensor: shape=(), dtype=float32, numpy=0.9671384>"
            ]
          },
          "metadata": {},
          "execution_count": 42
        }
      ]
    },
    {
      "cell_type": "code",
      "source": [
        "tf.reduce_max(F) == F[tf.argmax(F)] # above code works"
      ],
      "metadata": {
        "colab": {
          "base_uri": "https://localhost:8080/"
        },
        "id": "1jYKaowuIV4t",
        "outputId": "a13ff856-41d9-41b6-998d-6c01f7933947"
      },
      "execution_count": null,
      "outputs": [
        {
          "output_type": "execute_result",
          "data": {
            "text/plain": [
              "<tf.Tensor: shape=(), dtype=bool, numpy=True>"
            ]
          },
          "metadata": {},
          "execution_count": 45
        }
      ]
    },
    {
      "cell_type": "code",
      "source": [
        "F[tf.argmin(F)] # finds postional minimum"
      ],
      "metadata": {
        "colab": {
          "base_uri": "https://localhost:8080/"
        },
        "id": "YRNHA_71IoDt",
        "outputId": "de620a84-6733-4ebc-bce8-af7eee8ab839"
      },
      "execution_count": null,
      "outputs": [
        {
          "output_type": "execute_result",
          "data": {
            "text/plain": [
              "<tf.Tensor: shape=(), dtype=float32, numpy=0.009463668>"
            ]
          },
          "metadata": {},
          "execution_count": 47
        }
      ]
    },
    {
      "cell_type": "code",
      "source": [
        "F[tf.argmin(F)] == tf.reduce_min(F) # above code works"
      ],
      "metadata": {
        "colab": {
          "base_uri": "https://localhost:8080/"
        },
        "id": "Wa5__WNXIw-8",
        "outputId": "e35e527a-8b58-44f3-ddc7-5009a307ccca"
      },
      "execution_count": null,
      "outputs": [
        {
          "output_type": "execute_result",
          "data": {
            "text/plain": [
              "<tf.Tensor: shape=(), dtype=bool, numpy=True>"
            ]
          },
          "metadata": {},
          "execution_count": 48
        }
      ]
    },
    {
      "cell_type": "markdown",
      "source": [
        "### Squeezing a tensor (removing all single dimensions)"
      ],
      "metadata": {
        "id": "LLYuQF0uI99v"
      }
    },
    {
      "cell_type": "code",
      "source": [
        "tf.random.set_seed(42)\n",
        "G = tf.constant(tf.random.uniform(shape=[50]), shape=(1,1,1,1,50))\n",
        "G"
      ],
      "metadata": {
        "colab": {
          "base_uri": "https://localhost:8080/"
        },
        "id": "kYmHHTLjJBlo",
        "outputId": "9b589bb0-2bf5-4ddf-d466-116e57bf4bc1"
      },
      "execution_count": null,
      "outputs": [
        {
          "output_type": "execute_result",
          "data": {
            "text/plain": [
              "<tf.Tensor: shape=(1, 1, 1, 1, 50), dtype=float32, numpy=\n",
              "array([[[[[0.6645621 , 0.44100678, 0.3528825 , 0.46448255, 0.03366041,\n",
              "           0.68467236, 0.74011743, 0.8724445 , 0.22632635, 0.22319686,\n",
              "           0.3103881 , 0.7223358 , 0.13318717, 0.5480639 , 0.5746088 ,\n",
              "           0.8996835 , 0.00946367, 0.5212307 , 0.6345445 , 0.1993283 ,\n",
              "           0.72942245, 0.54583454, 0.10756552, 0.6767061 , 0.6602763 ,\n",
              "           0.33695042, 0.60141766, 0.21062577, 0.8527372 , 0.44062173,\n",
              "           0.9485276 , 0.23752594, 0.81179297, 0.5263394 , 0.494308  ,\n",
              "           0.21612847, 0.8457197 , 0.8718841 , 0.3083862 , 0.6868038 ,\n",
              "           0.23764038, 0.7817228 , 0.9671384 , 0.06870162, 0.79873943,\n",
              "           0.66028714, 0.5871513 , 0.16461694, 0.7381023 , 0.32054043]]]]],\n",
              "      dtype=float32)>"
            ]
          },
          "metadata": {},
          "execution_count": 51
        }
      ]
    },
    {
      "cell_type": "code",
      "source": [
        "G.shape"
      ],
      "metadata": {
        "colab": {
          "base_uri": "https://localhost:8080/"
        },
        "id": "hROYIwz7JU1H",
        "outputId": "78e62d27-16c8-4974-92df-2bf66a4b946f"
      },
      "execution_count": null,
      "outputs": [
        {
          "output_type": "execute_result",
          "data": {
            "text/plain": [
              "TensorShape([1, 1, 1, 1, 50])"
            ]
          },
          "metadata": {},
          "execution_count": 52
        }
      ]
    },
    {
      "cell_type": "code",
      "source": [
        "G_squeezed = tf.squeeze(G)\n",
        "G_squeezed, G_squeezed.shape"
      ],
      "metadata": {
        "colab": {
          "base_uri": "https://localhost:8080/"
        },
        "id": "w90TOwe2JWlB",
        "outputId": "c29ba990-9d53-4c27-e905-ce51e36125cc"
      },
      "execution_count": null,
      "outputs": [
        {
          "output_type": "execute_result",
          "data": {
            "text/plain": [
              "(<tf.Tensor: shape=(50,), dtype=float32, numpy=\n",
              " array([0.6645621 , 0.44100678, 0.3528825 , 0.46448255, 0.03366041,\n",
              "        0.68467236, 0.74011743, 0.8724445 , 0.22632635, 0.22319686,\n",
              "        0.3103881 , 0.7223358 , 0.13318717, 0.5480639 , 0.5746088 ,\n",
              "        0.8996835 , 0.00946367, 0.5212307 , 0.6345445 , 0.1993283 ,\n",
              "        0.72942245, 0.54583454, 0.10756552, 0.6767061 , 0.6602763 ,\n",
              "        0.33695042, 0.60141766, 0.21062577, 0.8527372 , 0.44062173,\n",
              "        0.9485276 , 0.23752594, 0.81179297, 0.5263394 , 0.494308  ,\n",
              "        0.21612847, 0.8457197 , 0.8718841 , 0.3083862 , 0.6868038 ,\n",
              "        0.23764038, 0.7817228 , 0.9671384 , 0.06870162, 0.79873943,\n",
              "        0.66028714, 0.5871513 , 0.16461694, 0.7381023 , 0.32054043],\n",
              "       dtype=float32)>, TensorShape([50]))"
            ]
          },
          "metadata": {},
          "execution_count": 53
        }
      ]
    },
    {
      "cell_type": "markdown",
      "source": [
        "### One-hot encoding tensors"
      ],
      "metadata": {
        "id": "0Umq976JMAL3"
      }
    },
    {
      "cell_type": "code",
      "source": [
        "some_list = [0,1,2,3] # could be red, green, blue, purple\n",
        "\n",
        "# One hot encode our list of indices\n",
        "tf.one_hot(some_list, depth=4) # must note depth aswell"
      ],
      "metadata": {
        "colab": {
          "base_uri": "https://localhost:8080/"
        },
        "id": "c08w8qsZMCXB",
        "outputId": "d016099a-43ab-4106-a3e3-690634289128"
      },
      "execution_count": null,
      "outputs": [
        {
          "output_type": "execute_result",
          "data": {
            "text/plain": [
              "<tf.Tensor: shape=(4, 4), dtype=float32, numpy=\n",
              "array([[1., 0., 0., 0.],\n",
              "       [0., 1., 0., 0.],\n",
              "       [0., 0., 1., 0.],\n",
              "       [0., 0., 0., 1.]], dtype=float32)>"
            ]
          },
          "metadata": {},
          "execution_count": 56
        }
      ]
    },
    {
      "cell_type": "code",
      "source": [
        "# Specify custom values\n",
        "tf.one_hot(some_list, depth=4, on_value=\"Epic\", off_value='Not Epic')"
      ],
      "metadata": {
        "colab": {
          "base_uri": "https://localhost:8080/"
        },
        "id": "FOqxswpdM3xV",
        "outputId": "00d40e7e-05fa-4d0d-a910-66ddfcd36208"
      },
      "execution_count": null,
      "outputs": [
        {
          "output_type": "execute_result",
          "data": {
            "text/plain": [
              "<tf.Tensor: shape=(4, 4), dtype=string, numpy=\n",
              "array([[b'Epic', b'Not Epic', b'Not Epic', b'Not Epic'],\n",
              "       [b'Not Epic', b'Epic', b'Not Epic', b'Not Epic'],\n",
              "       [b'Not Epic', b'Not Epic', b'Epic', b'Not Epic'],\n",
              "       [b'Not Epic', b'Not Epic', b'Not Epic', b'Epic']], dtype=object)>"
            ]
          },
          "metadata": {},
          "execution_count": 62
        }
      ]
    },
    {
      "cell_type": "markdown",
      "source": [
        "### Squaring,log,square root"
      ],
      "metadata": {
        "id": "473VUN_MN-fO"
      }
    },
    {
      "cell_type": "code",
      "source": [
        "H = tf.range(1,10)\n",
        "H"
      ],
      "metadata": {
        "colab": {
          "base_uri": "https://localhost:8080/"
        },
        "id": "MPJGVqX9OBhM",
        "outputId": "8390819a-b07b-4277-8bd1-f0816495e1a6"
      },
      "execution_count": null,
      "outputs": [
        {
          "output_type": "execute_result",
          "data": {
            "text/plain": [
              "<tf.Tensor: shape=(9,), dtype=int32, numpy=array([1, 2, 3, 4, 5, 6, 7, 8, 9], dtype=int32)>"
            ]
          },
          "metadata": {},
          "execution_count": 64
        }
      ]
    },
    {
      "cell_type": "code",
      "source": [
        "tf.square(H) # squares every index of the tensor"
      ],
      "metadata": {
        "colab": {
          "base_uri": "https://localhost:8080/"
        },
        "id": "etGD0nndOG7e",
        "outputId": "b5156742-197f-407a-a889-76e01091cac0"
      },
      "execution_count": null,
      "outputs": [
        {
          "output_type": "execute_result",
          "data": {
            "text/plain": [
              "<tf.Tensor: shape=(9,), dtype=int32, numpy=array([ 1,  4,  9, 16, 25, 36, 49, 64, 81], dtype=int32)>"
            ]
          },
          "metadata": {},
          "execution_count": 65
        }
      ]
    },
    {
      "cell_type": "code",
      "source": [
        "tf.sqrt(tf.cast(H, dtype=tf.float32)) # method requires not int type and makes square root of each index value"
      ],
      "metadata": {
        "colab": {
          "base_uri": "https://localhost:8080/"
        },
        "id": "2CmLxq2kOK67",
        "outputId": "cb1d6476-438f-48b7-b34a-c68db8731736"
      },
      "execution_count": null,
      "outputs": [
        {
          "output_type": "execute_result",
          "data": {
            "text/plain": [
              "<tf.Tensor: shape=(9,), dtype=float32, numpy=\n",
              "array([0.99999994, 1.4142134 , 1.7320508 , 1.9999999 , 2.236068  ,\n",
              "       2.4494896 , 2.6457512 , 2.8284268 , 3.        ], dtype=float32)>"
            ]
          },
          "metadata": {},
          "execution_count": 68
        }
      ]
    },
    {
      "cell_type": "code",
      "source": [
        "tf.math.log(tf.cast(H, dtype=tf.float32))  # also requires float and performs log on each index value"
      ],
      "metadata": {
        "colab": {
          "base_uri": "https://localhost:8080/"
        },
        "id": "Mn40sDEzOgf5",
        "outputId": "b28087e9-1d71-4324-cc87-3a95e4dcbed3"
      },
      "execution_count": null,
      "outputs": [
        {
          "output_type": "execute_result",
          "data": {
            "text/plain": [
              "<tf.Tensor: shape=(9,), dtype=float32, numpy=\n",
              "array([0.       , 0.6931472, 1.0986123, 1.3862944, 1.609438 , 1.7917595,\n",
              "       1.9459102, 2.0794415, 2.1972246], dtype=float32)>"
            ]
          },
          "metadata": {},
          "execution_count": 71
        }
      ]
    },
    {
      "cell_type": "markdown",
      "source": [
        "### Exploring NumPy and tensors compatiblity"
      ],
      "metadata": {
        "id": "HxGQbaH4O8gb"
      }
    },
    {
      "cell_type": "code",
      "source": [
        "J = tf.constant(np.array([3.,7.,10.]))\n",
        "J"
      ],
      "metadata": {
        "colab": {
          "base_uri": "https://localhost:8080/"
        },
        "id": "5JvQTEiIO_Vj",
        "outputId": "8006b3bc-fd42-4023-fa22-ac52b4af8378"
      },
      "execution_count": null,
      "outputs": [
        {
          "output_type": "execute_result",
          "data": {
            "text/plain": [
              "<tf.Tensor: shape=(3,), dtype=float64, numpy=array([ 3.,  7., 10.])>"
            ]
          },
          "metadata": {},
          "execution_count": 74
        }
      ]
    },
    {
      "cell_type": "code",
      "source": [
        "np.array(J), type(np.array(J))"
      ],
      "metadata": {
        "colab": {
          "base_uri": "https://localhost:8080/"
        },
        "id": "ZnR-xHWNPZVy",
        "outputId": "7f2b1567-481f-47ac-bbab-a98b8ce175c1"
      },
      "execution_count": null,
      "outputs": [
        {
          "output_type": "execute_result",
          "data": {
            "text/plain": [
              "(array([ 3.,  7., 10.]), numpy.ndarray)"
            ]
          },
          "metadata": {},
          "execution_count": 76
        }
      ]
    },
    {
      "cell_type": "code",
      "source": [
        "J.numpy(), type(J.numpy())"
      ],
      "metadata": {
        "colab": {
          "base_uri": "https://localhost:8080/"
        },
        "id": "NklpzTRiPkTI",
        "outputId": "8f3ca226-a3ca-4c06-bbf2-8be3e2f757e4"
      },
      "execution_count": null,
      "outputs": [
        {
          "output_type": "execute_result",
          "data": {
            "text/plain": [
              "(array([ 3.,  7., 10.]), numpy.ndarray)"
            ]
          },
          "metadata": {},
          "execution_count": 77
        }
      ]
    },
    {
      "cell_type": "code",
      "source": [
        "numpy_J = tf.constant(np.array([3.,7.,10.]))\n",
        "tensor_J = tf.constant([3.,7.,10.])\n",
        "\n",
        "numpy_J.dtype, tensor_J.dtype # notice how types slightly differ based on you create your tensor"
      ],
      "metadata": {
        "colab": {
          "base_uri": "https://localhost:8080/"
        },
        "id": "igQVGTFYPqrr",
        "outputId": "f0f9a1f2-054a-4e47-9d26-c79d1d94170c"
      },
      "execution_count": null,
      "outputs": [
        {
          "output_type": "execute_result",
          "data": {
            "text/plain": [
              "(tf.float64, tf.float32)"
            ]
          },
          "metadata": {},
          "execution_count": 80
        }
      ]
    },
    {
      "cell_type": "markdown",
      "source": [
        "### Finding access to GPUs"
      ],
      "metadata": {
        "id": "whbcTaxbQayt"
      }
    },
    {
      "cell_type": "code",
      "source": [
        "tf.config.list_physical_devices(\"GPU\")"
      ],
      "metadata": {
        "colab": {
          "base_uri": "https://localhost:8080/"
        },
        "id": "quKbvO0rQe4y",
        "outputId": "7caff469-12e6-49ad-f114-7db24690e722"
      },
      "execution_count": null,
      "outputs": [
        {
          "output_type": "execute_result",
          "data": {
            "text/plain": [
              "[PhysicalDevice(name='/physical_device:GPU:0', device_type='GPU')]"
            ]
          },
          "metadata": {},
          "execution_count": 3
        }
      ]
    },
    {
      "cell_type": "code",
      "source": [
        "!nvidia-smi"
      ],
      "metadata": {
        "colab": {
          "base_uri": "https://localhost:8080/"
        },
        "id": "XJ_OD1_5RNED",
        "outputId": "552c2bcf-5471-4f44-c36e-21d5e69b794d"
      },
      "execution_count": null,
      "outputs": [
        {
          "output_type": "stream",
          "name": "stdout",
          "text": [
            "Sat Aug 20 12:43:26 2022       \n",
            "+-----------------------------------------------------------------------------+\n",
            "| NVIDIA-SMI 460.32.03    Driver Version: 460.32.03    CUDA Version: 11.2     |\n",
            "|-------------------------------+----------------------+----------------------+\n",
            "| GPU  Name        Persistence-M| Bus-Id        Disp.A | Volatile Uncorr. ECC |\n",
            "| Fan  Temp  Perf  Pwr:Usage/Cap|         Memory-Usage | GPU-Util  Compute M. |\n",
            "|                               |                      |               MIG M. |\n",
            "|===============================+======================+======================|\n",
            "|   0  Tesla T4            Off  | 00000000:00:04.0 Off |                    0 |\n",
            "| N/A   43C    P8    11W /  70W |      3MiB / 15109MiB |      0%      Default |\n",
            "|                               |                      |                  N/A |\n",
            "+-------------------------------+----------------------+----------------------+\n",
            "                                                                               \n",
            "+-----------------------------------------------------------------------------+\n",
            "| Processes:                                                                  |\n",
            "|  GPU   GI   CI        PID   Type   Process name                  GPU Memory |\n",
            "|        ID   ID                                                   Usage      |\n",
            "|=============================================================================|\n",
            "|  No running processes found                                                 |\n",
            "+-----------------------------------------------------------------------------+\n"
          ]
        }
      ]
    },
    {
      "cell_type": "markdown",
      "source": [
        "If you have access to a CUDA-enabled GPU, TensorFlow will automatically use it whenever possible."
      ],
      "metadata": {
        "id": "HRmjlybUSLek"
      }
    },
    {
      "cell_type": "code",
      "source": [
        ""
      ],
      "metadata": {
        "id": "snkn1MnzTPxh"
      },
      "execution_count": null,
      "outputs": []
    },
    {
      "cell_type": "markdown",
      "source": [
        "### 🛠 Exercises"
      ],
      "metadata": {
        "id": "6uuc5kpATRtH"
      }
    },
    {
      "cell_type": "code",
      "source": [
        "scalar = tf.constant([1,3])\n",
        "vector = tf.constant([[1,3],\n",
        "                      [1,3]])\n",
        "matrix = tf.constant([[[1,3],\n",
        "                       [1,3],\n",
        "                       [5,2]]])\n",
        "scalar,vector,matrix"
      ],
      "metadata": {
        "colab": {
          "base_uri": "https://localhost:8080/"
        },
        "id": "pcJOX9x5TTGs",
        "outputId": "bd96647f-43ca-40cc-f8c7-a7b15eeef744"
      },
      "execution_count": null,
      "outputs": [
        {
          "output_type": "execute_result",
          "data": {
            "text/plain": [
              "(<tf.Tensor: shape=(2,), dtype=int32, numpy=array([1, 3], dtype=int32)>,\n",
              " <tf.Tensor: shape=(2, 2), dtype=int32, numpy=\n",
              " array([[1, 3],\n",
              "        [1, 3]], dtype=int32)>,\n",
              " <tf.Tensor: shape=(1, 3, 2), dtype=int32, numpy=\n",
              " array([[[1, 3],\n",
              "         [1, 3],\n",
              "         [5, 2]]], dtype=int32)>)"
            ]
          },
          "metadata": {},
          "execution_count": 9
        }
      ]
    },
    {
      "cell_type": "code",
      "source": [
        "A = tf.random.uniform(shape=[5,300]) # two random tensors with a shape of 5,300\n",
        "B = tf.random.uniform(shape=[5,300])\n",
        "A"
      ],
      "metadata": {
        "colab": {
          "base_uri": "https://localhost:8080/"
        },
        "id": "pJqEodXDT-xF",
        "outputId": "c1c31ecc-15fa-4e71-eeb9-16f96319a7ed"
      },
      "execution_count": null,
      "outputs": [
        {
          "output_type": "execute_result",
          "data": {
            "text/plain": [
              "<tf.Tensor: shape=(5, 300), dtype=float32, numpy=\n",
              "array([[0.48430407, 0.49744678, 0.99416983, ..., 0.21669662, 0.15572608,\n",
              "        0.06326771],\n",
              "       [0.556746  , 0.11630487, 0.23529184, ..., 0.8994404 , 0.99041045,\n",
              "        0.98271215],\n",
              "       [0.6525322 , 0.83911073, 0.05803096, ..., 0.53310204, 0.00212109,\n",
              "        0.8451437 ],\n",
              "       [0.30923676, 0.6099762 , 0.6871412 , ..., 0.2608255 , 0.75127125,\n",
              "        0.3588164 ],\n",
              "       [0.38995802, 0.2720102 , 0.8432734 , ..., 0.9887943 , 0.9503703 ,\n",
              "        0.7824197 ]], dtype=float32)>"
            ]
          },
          "metadata": {},
          "execution_count": 11
        }
      ]
    },
    {
      "cell_type": "code",
      "source": [
        "tf.matmul(A,tf.transpose(B)) # matrix multiplication of A and B"
      ],
      "metadata": {
        "colab": {
          "base_uri": "https://localhost:8080/"
        },
        "id": "mV-zMPdwUYcD",
        "outputId": "d459b56c-89e5-4f9c-f173-b350bfdac80d"
      },
      "execution_count": null,
      "outputs": [
        {
          "output_type": "execute_result",
          "data": {
            "text/plain": [
              "<tf.Tensor: shape=(5, 5), dtype=float32, numpy=\n",
              "array([[75.44829 , 75.96834 , 74.57991 , 77.445   , 76.82603 ],\n",
              "       [73.97283 , 77.39252 , 72.72565 , 75.0217  , 78.51088 ],\n",
              "       [73.94036 , 76.209946, 70.51562 , 72.794136, 74.21949 ],\n",
              "       [75.62225 , 75.05912 , 71.26631 , 74.911804, 76.21998 ],\n",
              "       [73.51525 , 76.00629 , 72.99283 , 73.80384 , 75.27865 ]],\n",
              "      dtype=float32)>"
            ]
          },
          "metadata": {},
          "execution_count": 13
        }
      ]
    },
    {
      "cell_type": "code",
      "source": [
        "tf.tensordot(A, tf.transpose(B), axes=1) # matrix multiplication using dot product of A and B"
      ],
      "metadata": {
        "colab": {
          "base_uri": "https://localhost:8080/"
        },
        "id": "E9aUZEL3UlBj",
        "outputId": "72465462-09e5-405b-d003-b0216d12d54c"
      },
      "execution_count": null,
      "outputs": [
        {
          "output_type": "execute_result",
          "data": {
            "text/plain": [
              "<tf.Tensor: shape=(5, 5), dtype=float32, numpy=\n",
              "array([[75.44829 , 75.96834 , 74.57991 , 77.445   , 76.82603 ],\n",
              "       [73.97283 , 77.39252 , 72.72565 , 75.0217  , 78.51088 ],\n",
              "       [73.94036 , 76.209946, 70.51562 , 72.794136, 74.21949 ],\n",
              "       [75.62225 , 75.05912 , 71.26631 , 74.911804, 76.21998 ],\n",
              "       [73.51525 , 76.00629 , 72.99283 , 73.80384 , 75.27865 ]],\n",
              "      dtype=float32)>"
            ]
          },
          "metadata": {},
          "execution_count": 16
        }
      ]
    },
    {
      "cell_type": "code",
      "source": [
        "C = tf.random.uniform(shape=[224,224,3])\n",
        "C"
      ],
      "metadata": {
        "colab": {
          "base_uri": "https://localhost:8080/"
        },
        "id": "A2pR_zkoU9H6",
        "outputId": "5f1741ed-99a0-48ef-f25c-686b291b5e9d"
      },
      "execution_count": null,
      "outputs": [
        {
          "output_type": "execute_result",
          "data": {
            "text/plain": [
              "<tf.Tensor: shape=(224, 224, 3), dtype=float32, numpy=\n",
              "array([[[0.9140688 , 0.3813405 , 0.8801596 ],\n",
              "        [0.08456445, 0.38843322, 0.07580185],\n",
              "        [0.6676793 , 0.23105597, 0.0966804 ],\n",
              "        ...,\n",
              "        [0.85760427, 0.6673715 , 0.73771703],\n",
              "        [0.19784546, 0.40160418, 0.06739688],\n",
              "        [0.29501653, 0.01050925, 0.24931121]],\n",
              "\n",
              "       [[0.24274635, 0.21261632, 0.52071834],\n",
              "        [0.94324887, 0.11971116, 0.45951378],\n",
              "        [0.3642788 , 0.00120926, 0.24548912],\n",
              "        ...,\n",
              "        [0.67721426, 0.5869106 , 0.79358804],\n",
              "        [0.6816313 , 0.42342198, 0.5315577 ],\n",
              "        [0.4536246 , 0.4407693 , 0.16460085]],\n",
              "\n",
              "       [[0.95488167, 0.7154887 , 0.93927574],\n",
              "        [0.60957193, 0.06503487, 0.5622928 ],\n",
              "        [0.14480484, 0.6039567 , 0.2450732 ],\n",
              "        ...,\n",
              "        [0.9344679 , 0.13532853, 0.9384998 ],\n",
              "        [0.06137526, 0.7844415 , 0.5744865 ],\n",
              "        [0.0235157 , 0.03339612, 0.8182262 ]],\n",
              "\n",
              "       ...,\n",
              "\n",
              "       [[0.6177989 , 0.03471363, 0.32121015],\n",
              "        [0.5713097 , 0.982847  , 0.15154052],\n",
              "        [0.5881542 , 0.05960083, 0.3018657 ],\n",
              "        ...,\n",
              "        [0.8052074 , 0.42732537, 0.64848506],\n",
              "        [0.36735833, 0.37732744, 0.24291873],\n",
              "        [0.86424387, 0.72594965, 0.06946957]],\n",
              "\n",
              "       [[0.0058105 , 0.29817224, 0.47453868],\n",
              "        [0.628139  , 0.09100211, 0.53854954],\n",
              "        [0.90260994, 0.99472463, 0.6971477 ],\n",
              "        ...,\n",
              "        [0.7454386 , 0.06951463, 0.24732852],\n",
              "        [0.15751207, 0.45835292, 0.36024284],\n",
              "        [0.6358744 , 0.39839518, 0.22790837]],\n",
              "\n",
              "       [[0.35730314, 0.7334238 , 0.81734   ],\n",
              "        [0.1540327 , 0.535596  , 0.9935827 ],\n",
              "        [0.33322906, 0.64867675, 0.8300905 ],\n",
              "        ...,\n",
              "        [0.30281734, 0.91981626, 0.876246  ],\n",
              "        [0.72636294, 0.5965327 , 0.5171908 ],\n",
              "        [0.11227655, 0.34253347, 0.27138555]]], dtype=float32)>"
            ]
          },
          "metadata": {},
          "execution_count": 17
        }
      ]
    },
    {
      "cell_type": "code",
      "source": [
        "tf.reduce_min(C), tf.reduce_max(C) # Research why min value is 1.27... etc"
      ],
      "metadata": {
        "colab": {
          "base_uri": "https://localhost:8080/"
        },
        "id": "PYbJmlXxVCYP",
        "outputId": "7e74e4e3-f5f2-4455-80ae-9d6837a05dcb"
      },
      "execution_count": null,
      "outputs": [
        {
          "output_type": "execute_result",
          "data": {
            "text/plain": [
              "(<tf.Tensor: shape=(), dtype=float32, numpy=1.2755394e-05>,\n",
              " <tf.Tensor: shape=(), dtype=float32, numpy=0.99999774>)"
            ]
          },
          "metadata": {},
          "execution_count": 24
        }
      ]
    },
    {
      "cell_type": "code",
      "source": [
        "D = tf.random.uniform(shape=[1,224,224,3])\n",
        "D.shape"
      ],
      "metadata": {
        "colab": {
          "base_uri": "https://localhost:8080/"
        },
        "id": "Kg5m8ruVWAj2",
        "outputId": "d756146a-caf6-4e5b-c0df-f3f8a55bdd99"
      },
      "execution_count": null,
      "outputs": [
        {
          "output_type": "execute_result",
          "data": {
            "text/plain": [
              "TensorShape([1, 224, 224, 3])"
            ]
          },
          "metadata": {},
          "execution_count": 26
        }
      ]
    },
    {
      "cell_type": "code",
      "source": [
        "D_squeezed = tf.squeeze(D)\n",
        "D_squeezed.shape # squeezed out the first dimension"
      ],
      "metadata": {
        "colab": {
          "base_uri": "https://localhost:8080/"
        },
        "id": "v1LKIKe5WHYi",
        "outputId": "703630c0-431b-4a3e-c151-319e68aa57dd"
      },
      "execution_count": null,
      "outputs": [
        {
          "output_type": "execute_result",
          "data": {
            "text/plain": [
              "TensorShape([224, 224, 3])"
            ]
          },
          "metadata": {},
          "execution_count": 27
        }
      ]
    },
    {
      "cell_type": "code",
      "source": [
        "E = tf.random.uniform(shape=[10])\n",
        "E"
      ],
      "metadata": {
        "colab": {
          "base_uri": "https://localhost:8080/"
        },
        "id": "NMhk8EZzWO7M",
        "outputId": "2739e977-2af9-4472-f8b2-273c071c189f"
      },
      "execution_count": null,
      "outputs": [
        {
          "output_type": "execute_result",
          "data": {
            "text/plain": [
              "<tf.Tensor: shape=(10,), dtype=float32, numpy=\n",
              "array([0.19366539, 0.8673382 , 0.4999628 , 0.8162403 , 0.27250051,\n",
              "       0.39928854, 0.55092895, 0.9918773 , 0.83245814, 0.84370303],\n",
              "      dtype=float32)>"
            ]
          },
          "metadata": {},
          "execution_count": 30
        }
      ]
    },
    {
      "cell_type": "code",
      "source": [
        "tf.argmax(E), tf.argmin(E), E[tf.argmin(E)], E[tf.argmax(E)] # finds maxs and mins of index and the values of each"
      ],
      "metadata": {
        "colab": {
          "base_uri": "https://localhost:8080/"
        },
        "id": "kNjbImF7WWao",
        "outputId": "49bdf77d-5eb5-4c23-cf60-bb3f14c63f48"
      },
      "execution_count": null,
      "outputs": [
        {
          "output_type": "execute_result",
          "data": {
            "text/plain": [
              "(<tf.Tensor: shape=(), dtype=int64, numpy=7>,\n",
              " <tf.Tensor: shape=(), dtype=int64, numpy=0>,\n",
              " <tf.Tensor: shape=(), dtype=float32, numpy=0.19366539>,\n",
              " <tf.Tensor: shape=(), dtype=float32, numpy=0.9918773>)"
            ]
          },
          "metadata": {},
          "execution_count": 31
        }
      ]
    },
    {
      "cell_type": "code",
      "source": [
        "E = tf.cast(E, dtype=tf.int32) # cant encode floats must be integers!\n",
        "tf.one_hot(E, depth=3)"
      ],
      "metadata": {
        "colab": {
          "base_uri": "https://localhost:8080/"
        },
        "id": "IG7zprQgWo85",
        "outputId": "162b5f6c-9c21-4e1f-de9f-1e9af91b5462"
      },
      "execution_count": null,
      "outputs": [
        {
          "output_type": "execute_result",
          "data": {
            "text/plain": [
              "<tf.Tensor: shape=(10, 3), dtype=float32, numpy=\n",
              "array([[1., 0., 0.],\n",
              "       [1., 0., 0.],\n",
              "       [1., 0., 0.],\n",
              "       [1., 0., 0.],\n",
              "       [1., 0., 0.],\n",
              "       [1., 0., 0.],\n",
              "       [1., 0., 0.],\n",
              "       [1., 0., 0.],\n",
              "       [1., 0., 0.],\n",
              "       [1., 0., 0.]], dtype=float32)>"
            ]
          },
          "metadata": {},
          "execution_count": 42
        }
      ]
    },
    {
      "cell_type": "markdown",
      "source": [
        "### Create a tensorflow function sequence that calculates grocery bill for the month and for the year!"
      ],
      "metadata": {
        "id": "vTpanc97Xo5w"
      }
    },
    {
      "cell_type": "code",
      "source": [
        "grocery = tf.constant(np.random.randint(0,30,size=10)) # grocery list of 10 items and with numerical values as theoritcal prices\n",
        "grocery"
      ],
      "metadata": {
        "colab": {
          "base_uri": "https://localhost:8080/"
        },
        "id": "1ws1RnXgXxx8",
        "outputId": "8a6b5ad9-ab0b-44f9-ef21-bb65be836106"
      },
      "execution_count": null,
      "outputs": [
        {
          "output_type": "execute_result",
          "data": {
            "text/plain": [
              "<tf.Tensor: shape=(10,), dtype=int64, numpy=array([ 1, 12, 21, 21, 19, 24, 11, 26,  5,  1])>"
            ]
          },
          "metadata": {},
          "execution_count": 50
        }
      ]
    },
    {
      "cell_type": "code",
      "source": [
        "# For this problem we will asume you go to the grocery store once a week\n",
        "week = tf.reduce_sum(grocery).numpy()\n",
        "week"
      ],
      "metadata": {
        "colab": {
          "base_uri": "https://localhost:8080/"
        },
        "id": "WmQN6neEYxUo",
        "outputId": "d80858d1-8a0a-436c-ff3e-7b4281cea272"
      },
      "execution_count": null,
      "outputs": [
        {
          "output_type": "execute_result",
          "data": {
            "text/plain": [
              "141"
            ]
          },
          "metadata": {},
          "execution_count": 60
        }
      ]
    },
    {
      "cell_type": "code",
      "source": [
        "# Next step would be to calculate monthly expenses\n",
        "month = week * 4\n",
        "month"
      ],
      "metadata": {
        "colab": {
          "base_uri": "https://localhost:8080/"
        },
        "id": "UzOnEEa3ZscT",
        "outputId": "3be268b8-1c55-4a3a-d32f-c5bc433e7eeb"
      },
      "execution_count": null,
      "outputs": [
        {
          "output_type": "execute_result",
          "data": {
            "text/plain": [
              "564"
            ]
          },
          "metadata": {},
          "execution_count": 61
        }
      ]
    },
    {
      "cell_type": "code",
      "source": [
        "# Yearly costs\n",
        "year = month * 12\n",
        "year"
      ],
      "metadata": {
        "colab": {
          "base_uri": "https://localhost:8080/"
        },
        "id": "ufEKRXA0ZzBl",
        "outputId": "82b9ec95-6479-47e6-f0bf-f5fa894b74ee"
      },
      "execution_count": null,
      "outputs": [
        {
          "output_type": "execute_result",
          "data": {
            "text/plain": [
              "6768"
            ]
          },
          "metadata": {},
          "execution_count": 62
        }
      ]
    },
    {
      "cell_type": "code",
      "source": [
        "print(\"You will spend $\", week , \" a week and $\" , month , \" a month and $\" , year ,\" a year on groceries\")\n",
        "print(\"Thats a lot of money!\")"
      ],
      "metadata": {
        "colab": {
          "base_uri": "https://localhost:8080/"
        },
        "id": "B62XIVVSZ4Vi",
        "outputId": "1cffcce0-902c-42b1-bae0-235103ef2edf"
      },
      "execution_count": null,
      "outputs": [
        {
          "output_type": "stream",
          "name": "stdout",
          "text": [
            "You will spend $ 141  a week and $ 564  a month and $ 6768  a year on groceries\n",
            "Thats a lot of money!\n"
          ]
        }
      ]
    }
  ]
}